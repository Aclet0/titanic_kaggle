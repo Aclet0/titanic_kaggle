{
 "cells": [
  {
   "cell_type": "markdown",
   "metadata": {},
   "source": [
    "# Titanic kaggle competition"
   ]
  },
  {
   "cell_type": "markdown",
   "metadata": {},
   "source": [
    "# Descritpion "
   ]
  },
  {
   "cell_type": "raw",
   "metadata": {},
   "source": [
    "Here is the jupyter notebook I used to solve titanic kaggle competition https://www.kaggle.com/c/titanic/overview\n",
    "\n",
    "Best kaggle score: 0.79425\n",
    "Best kaggle position: 1883/12367\n",
    "Goal of this notebook is to go through data vizualisation on features and to test main ML model(LogisticRegression, LinearSVC, SVC, RandomForestClassifier, ) with Grid Search\n",
    "Structure of this notebook is the following one:\n",
    "Utils methods\n",
    "0- Data vizualisation\n",
    "1- Data preprocessing\n",
    "2- First models in applicatiton\n",
    "3- Grid search\n",
    "4- Kaggle Test Data"
   ]
  },
  {
   "cell_type": "code",
   "execution_count": null,
   "metadata": {},
   "outputs": [],
   "source": []
  },
  {
   "cell_type": "code",
   "execution_count": 1,
   "metadata": {},
   "outputs": [
    {
     "name": "stderr",
     "output_type": "stream",
     "text": [
      "/Users/antoine/Documents/Tests/python/ML/venv3/lib/python3.7/site-packages/sklearn/externals/six.py:31: DeprecationWarning: The module is deprecated in version 0.21 and will be removed in version 0.23 since we've dropped support for Python 2.7. Please rely on the official version of six (https://pypi.org/project/six/).\n",
      "  \"(https://pypi.org/project/six/).\", DeprecationWarning)\n",
      "/Users/antoine/Documents/Tests/python/ML/venv3/lib/python3.7/site-packages/sklearn/externals/joblib/__init__.py:15: DeprecationWarning: sklearn.externals.joblib is deprecated in 0.21 and will be removed in 0.23. Please import this functionality directly from joblib, which can be installed with: pip install joblib. If this warning is raised when loading pickled models, you may need to re-serialize those models with scikit-learn 0.21+.\n",
      "  warnings.warn(msg, category=DeprecationWarning)\n"
     ]
    }
   ],
   "source": [
    "import pandas as pd\n",
    "import numpy as np\n",
    "import sklearn\n",
    "import mglearn\n",
    "import matplotlib.pyplot as plt\n",
    "import seaborn as sns"
   ]
  },
  {
   "cell_type": "code",
   "execution_count": 2,
   "metadata": {},
   "outputs": [
    {
     "data": {
      "text/html": [
       "<style>.container { width:100% !important; }</style>"
      ],
      "text/plain": [
       "<IPython.core.display.HTML object>"
      ]
     },
     "metadata": {},
     "output_type": "display_data"
    }
   ],
   "source": [
    "from IPython.core.display import display, HTML\n",
    "display(HTML(\"<style>.container { width:100% !important; }</style>\"))"
   ]
  },
  {
   "cell_type": "code",
   "execution_count": 3,
   "metadata": {},
   "outputs": [
    {
     "name": "stdout",
     "output_type": "stream",
     "text": [
      "README.md             gender_submission.csv titanic_train.ipynb\r\n",
      "\u001b[1m\u001b[36mcache\u001b[m\u001b[m                 test.csv              train.csv\r\n"
     ]
    }
   ],
   "source": [
    "!ls"
   ]
  },
  {
   "cell_type": "code",
   "execution_count": 4,
   "metadata": {
    "collapsed": true
   },
   "outputs": [
    {
     "name": "stdout",
     "output_type": "stream",
     "text": [
      "PassengerId,Pclass,Name,Sex,Age,SibSp,Parch,Ticket,Fare,Cabin,Embarked\r",
      "\r\n",
      "892,3,\"Kelly, Mr. James\",male,34.5,0,0,330911,7.8292,,Q\r",
      "\r\n",
      "893,3,\"Wilkes, Mrs. James (Ellen Needs)\",female,47,1,0,363272,7,,S\r",
      "\r\n",
      "894,2,\"Myles, Mr. Thomas Francis\",male,62,0,0,240276,9.6875,,Q\r",
      "\r\n",
      "895,3,\"Wirz, Mr. Albert\",male,27,0,0,315154,8.6625,,S\r",
      "\r\n",
      "896,3,\"Hirvonen, Mrs. Alexander (Helga E Lindqvist)\",female,22,1,1,3101298,12.2875,,S\r",
      "\r\n",
      "897,3,\"Svensson, Mr. Johan Cervin\",male,14,0,0,7538,9.225,,S\r",
      "\r\n",
      "898,3,\"Connolly, Miss. Kate\",female,30,0,0,330972,7.6292,,Q\r",
      "\r\n",
      "899,2,\"Caldwell, Mr. Albert Francis\",male,26,1,1,248738,29,,S\r",
      "\r\n",
      "900,3,\"Abrahim, Mrs. Joseph (Sophie Halaut Easu)\",female,18,0,0,2657,7.2292,,C\r",
      "\r\n"
     ]
    }
   ],
   "source": [
    "!head test.csv"
   ]
  },
  {
   "cell_type": "code",
   "execution_count": 5,
   "metadata": {},
   "outputs": [
    {
     "data": {
      "text/plain": [
       "(891, 12)"
      ]
     },
     "execution_count": 5,
     "metadata": {},
     "output_type": "execute_result"
    }
   ],
   "source": [
    "df = pd.read_csv(\"train.csv\")\n",
    "df.shape"
   ]
  },
  {
   "cell_type": "code",
   "execution_count": 8,
   "metadata": {
    "collapsed": true
   },
   "outputs": [
    {
     "data": {
      "text/html": [
       "<div>\n",
       "<style scoped>\n",
       "    .dataframe tbody tr th:only-of-type {\n",
       "        vertical-align: middle;\n",
       "    }\n",
       "\n",
       "    .dataframe tbody tr th {\n",
       "        vertical-align: top;\n",
       "    }\n",
       "\n",
       "    .dataframe thead th {\n",
       "        text-align: right;\n",
       "    }\n",
       "</style>\n",
       "<table border=\"1\" class=\"dataframe\">\n",
       "  <thead>\n",
       "    <tr style=\"text-align: right;\">\n",
       "      <th></th>\n",
       "      <th>PassengerId</th>\n",
       "      <th>Survived</th>\n",
       "      <th>Pclass</th>\n",
       "      <th>Name</th>\n",
       "      <th>Sex</th>\n",
       "      <th>Age</th>\n",
       "      <th>SibSp</th>\n",
       "      <th>Parch</th>\n",
       "      <th>Ticket</th>\n",
       "      <th>Fare</th>\n",
       "      <th>Cabin</th>\n",
       "      <th>Embarked</th>\n",
       "    </tr>\n",
       "  </thead>\n",
       "  <tbody>\n",
       "    <tr>\n",
       "      <td>0</td>\n",
       "      <td>1</td>\n",
       "      <td>0</td>\n",
       "      <td>3</td>\n",
       "      <td>Braund, Mr. Owen Harris</td>\n",
       "      <td>male</td>\n",
       "      <td>22.0</td>\n",
       "      <td>1</td>\n",
       "      <td>0</td>\n",
       "      <td>A/5 21171</td>\n",
       "      <td>7.2500</td>\n",
       "      <td>NaN</td>\n",
       "      <td>S</td>\n",
       "    </tr>\n",
       "    <tr>\n",
       "      <td>1</td>\n",
       "      <td>2</td>\n",
       "      <td>1</td>\n",
       "      <td>1</td>\n",
       "      <td>Cumings, Mrs. John Bradley (Florence Briggs Th...</td>\n",
       "      <td>female</td>\n",
       "      <td>38.0</td>\n",
       "      <td>1</td>\n",
       "      <td>0</td>\n",
       "      <td>PC 17599</td>\n",
       "      <td>71.2833</td>\n",
       "      <td>C85</td>\n",
       "      <td>C</td>\n",
       "    </tr>\n",
       "    <tr>\n",
       "      <td>2</td>\n",
       "      <td>3</td>\n",
       "      <td>1</td>\n",
       "      <td>3</td>\n",
       "      <td>Heikkinen, Miss. Laina</td>\n",
       "      <td>female</td>\n",
       "      <td>26.0</td>\n",
       "      <td>0</td>\n",
       "      <td>0</td>\n",
       "      <td>STON/O2. 3101282</td>\n",
       "      <td>7.9250</td>\n",
       "      <td>NaN</td>\n",
       "      <td>S</td>\n",
       "    </tr>\n",
       "    <tr>\n",
       "      <td>3</td>\n",
       "      <td>4</td>\n",
       "      <td>1</td>\n",
       "      <td>1</td>\n",
       "      <td>Futrelle, Mrs. Jacques Heath (Lily May Peel)</td>\n",
       "      <td>female</td>\n",
       "      <td>35.0</td>\n",
       "      <td>1</td>\n",
       "      <td>0</td>\n",
       "      <td>113803</td>\n",
       "      <td>53.1000</td>\n",
       "      <td>C123</td>\n",
       "      <td>S</td>\n",
       "    </tr>\n",
       "    <tr>\n",
       "      <td>4</td>\n",
       "      <td>5</td>\n",
       "      <td>0</td>\n",
       "      <td>3</td>\n",
       "      <td>Allen, Mr. William Henry</td>\n",
       "      <td>male</td>\n",
       "      <td>35.0</td>\n",
       "      <td>0</td>\n",
       "      <td>0</td>\n",
       "      <td>373450</td>\n",
       "      <td>8.0500</td>\n",
       "      <td>NaN</td>\n",
       "      <td>S</td>\n",
       "    </tr>\n",
       "    <tr>\n",
       "      <td>5</td>\n",
       "      <td>6</td>\n",
       "      <td>0</td>\n",
       "      <td>3</td>\n",
       "      <td>Moran, Mr. James</td>\n",
       "      <td>male</td>\n",
       "      <td>NaN</td>\n",
       "      <td>0</td>\n",
       "      <td>0</td>\n",
       "      <td>330877</td>\n",
       "      <td>8.4583</td>\n",
       "      <td>NaN</td>\n",
       "      <td>Q</td>\n",
       "    </tr>\n",
       "    <tr>\n",
       "      <td>6</td>\n",
       "      <td>7</td>\n",
       "      <td>0</td>\n",
       "      <td>1</td>\n",
       "      <td>McCarthy, Mr. Timothy J</td>\n",
       "      <td>male</td>\n",
       "      <td>54.0</td>\n",
       "      <td>0</td>\n",
       "      <td>0</td>\n",
       "      <td>17463</td>\n",
       "      <td>51.8625</td>\n",
       "      <td>E46</td>\n",
       "      <td>S</td>\n",
       "    </tr>\n",
       "    <tr>\n",
       "      <td>7</td>\n",
       "      <td>8</td>\n",
       "      <td>0</td>\n",
       "      <td>3</td>\n",
       "      <td>Palsson, Master. Gosta Leonard</td>\n",
       "      <td>male</td>\n",
       "      <td>2.0</td>\n",
       "      <td>3</td>\n",
       "      <td>1</td>\n",
       "      <td>349909</td>\n",
       "      <td>21.0750</td>\n",
       "      <td>NaN</td>\n",
       "      <td>S</td>\n",
       "    </tr>\n",
       "    <tr>\n",
       "      <td>8</td>\n",
       "      <td>9</td>\n",
       "      <td>1</td>\n",
       "      <td>3</td>\n",
       "      <td>Johnson, Mrs. Oscar W (Elisabeth Vilhelmina Berg)</td>\n",
       "      <td>female</td>\n",
       "      <td>27.0</td>\n",
       "      <td>0</td>\n",
       "      <td>2</td>\n",
       "      <td>347742</td>\n",
       "      <td>11.1333</td>\n",
       "      <td>NaN</td>\n",
       "      <td>S</td>\n",
       "    </tr>\n",
       "    <tr>\n",
       "      <td>9</td>\n",
       "      <td>10</td>\n",
       "      <td>1</td>\n",
       "      <td>2</td>\n",
       "      <td>Nasser, Mrs. Nicholas (Adele Achem)</td>\n",
       "      <td>female</td>\n",
       "      <td>14.0</td>\n",
       "      <td>1</td>\n",
       "      <td>0</td>\n",
       "      <td>237736</td>\n",
       "      <td>30.0708</td>\n",
       "      <td>NaN</td>\n",
       "      <td>C</td>\n",
       "    </tr>\n",
       "  </tbody>\n",
       "</table>\n",
       "</div>"
      ],
      "text/plain": [
       "   PassengerId  Survived  Pclass  \\\n",
       "0            1         0       3   \n",
       "1            2         1       1   \n",
       "2            3         1       3   \n",
       "3            4         1       1   \n",
       "4            5         0       3   \n",
       "5            6         0       3   \n",
       "6            7         0       1   \n",
       "7            8         0       3   \n",
       "8            9         1       3   \n",
       "9           10         1       2   \n",
       "\n",
       "                                                Name     Sex   Age  SibSp  \\\n",
       "0                            Braund, Mr. Owen Harris    male  22.0      1   \n",
       "1  Cumings, Mrs. John Bradley (Florence Briggs Th...  female  38.0      1   \n",
       "2                             Heikkinen, Miss. Laina  female  26.0      0   \n",
       "3       Futrelle, Mrs. Jacques Heath (Lily May Peel)  female  35.0      1   \n",
       "4                           Allen, Mr. William Henry    male  35.0      0   \n",
       "5                                   Moran, Mr. James    male   NaN      0   \n",
       "6                            McCarthy, Mr. Timothy J    male  54.0      0   \n",
       "7                     Palsson, Master. Gosta Leonard    male   2.0      3   \n",
       "8  Johnson, Mrs. Oscar W (Elisabeth Vilhelmina Berg)  female  27.0      0   \n",
       "9                Nasser, Mrs. Nicholas (Adele Achem)  female  14.0      1   \n",
       "\n",
       "   Parch            Ticket     Fare Cabin Embarked  \n",
       "0      0         A/5 21171   7.2500   NaN        S  \n",
       "1      0          PC 17599  71.2833   C85        C  \n",
       "2      0  STON/O2. 3101282   7.9250   NaN        S  \n",
       "3      0            113803  53.1000  C123        S  \n",
       "4      0            373450   8.0500   NaN        S  \n",
       "5      0            330877   8.4583   NaN        Q  \n",
       "6      0             17463  51.8625   E46        S  \n",
       "7      1            349909  21.0750   NaN        S  \n",
       "8      2            347742  11.1333   NaN        S  \n",
       "9      0            237736  30.0708   NaN        C  "
      ]
     },
     "execution_count": 8,
     "metadata": {},
     "output_type": "execute_result"
    }
   ],
   "source": [
    "df.head(10)"
   ]
  },
  {
   "cell_type": "code",
   "execution_count": 9,
   "metadata": {
    "collapsed": true
   },
   "outputs": [
    {
     "data": {
      "text/html": [
       "<div>\n",
       "<style scoped>\n",
       "    .dataframe tbody tr th:only-of-type {\n",
       "        vertical-align: middle;\n",
       "    }\n",
       "\n",
       "    .dataframe tbody tr th {\n",
       "        vertical-align: top;\n",
       "    }\n",
       "\n",
       "    .dataframe thead th {\n",
       "        text-align: right;\n",
       "    }\n",
       "</style>\n",
       "<table border=\"1\" class=\"dataframe\">\n",
       "  <thead>\n",
       "    <tr style=\"text-align: right;\">\n",
       "      <th></th>\n",
       "      <th>Survived</th>\n",
       "    </tr>\n",
       "  </thead>\n",
       "  <tbody>\n",
       "    <tr>\n",
       "      <td>888</td>\n",
       "      <td>0</td>\n",
       "    </tr>\n",
       "    <tr>\n",
       "      <td>889</td>\n",
       "      <td>1</td>\n",
       "    </tr>\n",
       "    <tr>\n",
       "      <td>890</td>\n",
       "      <td>0</td>\n",
       "    </tr>\n",
       "  </tbody>\n",
       "</table>\n",
       "</div>"
      ],
      "text/plain": [
       "     Survived\n",
       "888         0\n",
       "889         1\n",
       "890         0"
      ]
     },
     "execution_count": 9,
     "metadata": {},
     "output_type": "execute_result"
    }
   ],
   "source": [
    "y = df[[\"Survived\"]]\n",
    "y.tail(3)"
   ]
  },
  {
   "cell_type": "markdown",
   "metadata": {
    "heading_collapsed": true
   },
   "source": [
    "#  Utils methods"
   ]
  },
  {
   "cell_type": "code",
   "execution_count": 104,
   "metadata": {
    "hidden": true
   },
   "outputs": [],
   "source": [
    "def get_title_category(title):\n",
    "    if title in [\"Jonkheer\"]:\n",
    "        return \"Low\"\n",
    "    elif title in [\"Mr\", \"Miss\", \"Mrs\", \"Mlle\", \"Ms\", \"Mme\"]:\n",
    "        return \"Normal\"\n",
    "    elif title in [\"Col\", \"Major\", \"Capt\"]:\n",
    "        return \"Militar\"\n",
    "    elif title in [\"Dr\", \"Rev\"]:\n",
    "        return \"Rel/Med\"\n",
    "    elif title in [\"Master\", \"Countess\", \"Sir\", \"Lady\", \"Don\", \"Dona\"]:\n",
    "        return \"Aristocracy\"\n",
    "    else :\n",
    "        return \"Other\""
   ]
  },
  {
   "cell_type": "code",
   "execution_count": 105,
   "metadata": {
    "hidden": true
   },
   "outputs": [],
   "source": [
    "def set_median_values(df):\n",
    "    \"\"\" In this method we got 3 differents val for Age: mean, median and one mean per title\"\"\"\n",
    "    mean_age = df.Age.mean(axis=0)\n",
    "    median_age = df.Age.median()\n",
    "    median_fare = np.nanmedian(df.Fare)\n",
    "    mean_age, median_age\n",
    "    mean_count_val = 4\n",
    "    title_class_mean_age = df.groupby(['Title', 'Pclass']).agg({\"Age\":[\"count\", \"mean\"]})\n",
    "    title_class_mean_age_dict = title_class_mean_age[title_class_mean_age[('Age','count')] > mean_count_val][('Age', 'mean')].to_dict()\n",
    "    title_class_mean_age_dict\n",
    "    return mean_age, median_age, title_class_mean_age_dict\n",
    "#np.mean(df.Age), np.nanmedian(df.Age)\n",
    "#np.mean(df.Fare), np.nanmedian(df.Fare), df.Fare.median()"
   ]
  },
  {
   "cell_type": "code",
   "execution_count": 106,
   "metadata": {
    "hidden": true
   },
   "outputs": [],
   "source": [
    "def fill_title_age(title, pclass):\n",
    "    if (title, pclass) in title_class_mean_age_dict.keys():\n",
    "        return title_class_mean_age_dict[(title, pclass)]\n",
    "    return mean_age\n",
    "\n",
    "# Replace per Age/Category Average\n",
    "def replace_average_age(df, is_age_title_average, mean_df_age):\n",
    "    if(is_age_title_average):\n",
    "        print(\"true\") \n",
    "        df[df.Age.isna()==True,\"Age\"] = df[df.Age.isna()==True].apply(lambda x:fill_title_age(x[\"Title\"], x[\"Pclass\"]), axis=1)\n",
    "    else:\n",
    "        #df[df.Age.isna()==True].Age = df.Age.fillna(mean_age)\n",
    "        df.Age.fillna(mean_df_age, inplace=True)"
   ]
  },
  {
   "cell_type": "code",
   "execution_count": 107,
   "metadata": {
    "hidden": true
   },
   "outputs": [],
   "source": [
    "def prepare_data(df, is_train_df=True, mean_df_age=None, title_class_mean_age_dict=None, cat_col_dum=None, cols_to_use=None):\n",
    "    # Add title col\n",
    "    df[\"Title\"]= df.Name.str.extract('([A-Za-z]+)\\.')\n",
    "    df.Title = df.Title.apply(get_title_category)\n",
    "    # median values \n",
    "    if is_train_df:\n",
    "        mean_df_age, median_df_age, title_class_mean_age_dict = set_median_values(df)\n",
    "    \n",
    "    is_age_title_average = False\n",
    "    replace_average_age(df, is_age_title_average, mean_df_age )\n",
    "    \n",
    "    new_df = df\n",
    "    if \"Survived\" in df.columns:\n",
    "        new_df = df.drop(columns=[\"Survived\"])\n",
    "\n",
    "    catecorgies_col = [\"Pclass\",\"Sex\",\"Embarked\", \"Title\"]\n",
    "    new_df = pd.get_dummies(new_df, columns=catecorgies_col)\n",
    "    \n",
    "    if is_train_df:\n",
    "        cat_col_dum = []\n",
    "        for col in new_df.columns:\n",
    "            if col not in df.columns:\n",
    "                cat_col_dum.append(col)\n",
    "    else:\n",
    "        # Test DF => need to control all dumies colums are present\n",
    "        for col in cat_col_dum:\n",
    "            if col not in new_df.columns:\n",
    "                new_df[col] = 0\n",
    "    \n",
    "    if is_train_df:\n",
    "        x_cols = [col for col in new_df.columns if new_df[col].dtype=='float64' or new_df[col].dtype=='int64' \n",
    "             or new_df[col].dtype=='uint8' ]\n",
    "        labels = []\n",
    "        values = []\n",
    "        for col in x_cols:\n",
    "            labels.append(col)\n",
    "            values.append(np.corrcoef(new_df[col],y.Survived.values)[0,1])\n",
    "        corr_df = pd.DataFrame({\"col_labels\":labels, \"corr_values\":values})\n",
    "        corr_df = corr_df.sort_values(by=\"corr_values\")\n",
    "        corr_df_sel = corr_df.ix[(corr_df['corr_values']>0.02) | (corr_df['corr_values'] < -0.02)]\n",
    "        cols_to_use = corr_df_sel.col_labels.tolist()\n",
    "\n",
    "    selected_col_df = new_df[cols_to_use]\n",
    "    return selected_col_df, mean_df_age, title_class_mean_age_dict, cat_col_dum, cols_to_use"
   ]
  },
  {
   "cell_type": "code",
   "execution_count": 108,
   "metadata": {
    "hidden": true
   },
   "outputs": [],
   "source": [
    "# Not used I\"m not sure how to use it\n",
    "def train_data(model, is_complete_train=True):\n",
    "    df = pd.read_csv(\"train.csv\")\n",
    "    y = df[[\"Survived\"]]\n",
    "    df, y = prepare_training_data(df, is_train_df=True)\n",
    "\n",
    "    is_complete_train = True\n",
    "    if is_complete_train:\n",
    "        model.fit(selected_col_df, y)\n",
    "    return model"
   ]
  },
  {
   "cell_type": "markdown",
   "metadata": {
    "heading_collapsed": true
   },
   "source": [
    "# 0- Data  vizualisation"
   ]
  },
  {
   "cell_type": "code",
   "execution_count": 15,
   "metadata": {
    "hidden": true
   },
   "outputs": [
    {
     "data": {
      "image/png": "[encoded data removed]",
      "text/plain": [
       "<Figure size 1080x432 with 1 Axes>"
      ]
     },
     "metadata": {
      "needs_background": "light"
     },
     "output_type": "display_data"
    }
   ],
   "source": [
    "plt.figure(figsize=(15,6))\n",
    "plt.scatter(np.arange(df.shape[0]),y[\"Survived\"].values)\n",
    "plt.show()"
   ]
  },
  {
   "cell_type": "code",
   "execution_count": 16,
   "metadata": {
    "hidden": true
   },
   "outputs": [
    {
     "data": {
      "text/plain": [
       "0    549\n",
       "1    342\n",
       "Name: Survived, dtype: int64"
      ]
     },
     "execution_count": 16,
     "metadata": {},
     "output_type": "execute_result"
    }
   ],
   "source": [
    "y[\"Survived\"].value_counts()"
   ]
  },
  {
   "cell_type": "code",
   "execution_count": 17,
   "metadata": {
    "hidden": true
   },
   "outputs": [],
   "source": [
    "survived_df = df[df[\"Survived\"]==1]\n",
    "not_survived_df = df[df[\"Survived\"]==0]"
   ]
  },
  {
   "cell_type": "raw",
   "metadata": {
    "hidden": true
   },
   "source": [
    "Lets see survival chance regarding sex:"
   ]
  },
  {
   "cell_type": "code",
   "execution_count": 20,
   "metadata": {
    "hidden": true
   },
   "outputs": [
    {
     "data": {
      "image/png": "[encoded data removed]",
      "text/plain": [
       "<Figure size 432x288 with 1 Axes>"
      ]
     },
     "metadata": {
      "needs_background": "light"
     },
     "output_type": "display_data"
    }
   ],
   "source": [
    "plt.scatter(survived_df.Sex.value_counts().keys(), survived_df.Sex.value_counts())\n",
    "plt.show()"
   ]
  },
  {
   "cell_type": "raw",
   "metadata": {
    "hidden": true
   },
   "source": [
    "Let's see repartition of survived / not survived in regards of Age:"
   ]
  },
  {
   "cell_type": "code",
   "execution_count": 22,
   "metadata": {
    "hidden": true
   },
   "outputs": [
    {
     "data": {
      "image/png": "[encoded data removed]",
      "text/plain": [
       "<Figure size 504x504 with 1 Axes>"
      ]
     },
     "metadata": {
      "needs_background": "light"
     },
     "output_type": "display_data"
    }
   ],
   "source": [
    "plt.figure(figsize=(7,7))\n",
    "plt.scatter(survived_df.Age.value_counts().keys(), survived_df.Age.value_counts(), c=\"green\")\n",
    "plt.scatter(not_survived_df.Age.value_counts().keys(), not_survived_df.Age.value_counts(), c=\"red\")\n",
    "plt.show()"
   ]
  },
  {
   "cell_type": "code",
   "execution_count": 23,
   "metadata": {
    "hidden": true
   },
   "outputs": [
    {
     "data": {
      "image/png": "[encoded data removed]",
      "text/plain": [
       "<Figure size 432x432 with 1 Axes>"
      ]
     },
     "metadata": {
      "needs_background": "light"
     },
     "output_type": "display_data"
    }
   ],
   "source": [
    "plt.figure(figsize=(6,6))\n",
    "survived_df.groupby('Age').Age.hist()\n",
    "plt.show()"
   ]
  },
  {
   "cell_type": "raw",
   "metadata": {
    "hidden": true
   },
   "source": [
    "Lets try to create age category thanks to bin and then display a graph"
   ]
  },
  {
   "cell_type": "code",
   "execution_count": 25,
   "metadata": {
    "hidden": true
   },
   "outputs": [
    {
     "name": "stderr",
     "output_type": "stream",
     "text": [
      "/Users/antoine/Documents/Tests/python/ML/venv3/lib/python3.7/site-packages/ipykernel_launcher.py:8: SettingWithCopyWarning: \n",
      "A value is trying to be set on a copy of a slice from a DataFrame.\n",
      "Try using .loc[row_indexer,col_indexer] = value instead\n",
      "\n",
      "See the caveats in the documentation: http://pandas.pydata.org/pandas-docs/stable/user_guide/indexing.html#returning-a-view-versus-a-copy\n",
      "  \n",
      "/Users/antoine/Documents/Tests/python/ML/venv3/lib/python3.7/site-packages/ipykernel_launcher.py:9: SettingWithCopyWarning: \n",
      "A value is trying to be set on a copy of a slice from a DataFrame.\n",
      "Try using .loc[row_indexer,col_indexer] = value instead\n",
      "\n",
      "See the caveats in the documentation: http://pandas.pydata.org/pandas-docs/stable/user_guide/indexing.html#returning-a-view-versus-a-copy\n",
      "  if __name__ == '__main__':\n"
     ]
    }
   ],
   "source": [
    "bins = np.linspace(0, 70, 7)\n",
    "def get_group_age(age, bins):\n",
    "    if np.isnan(age):\n",
    "        return -1\n",
    "    if age:\n",
    "        return np.digitize(age,bins=bins)\n",
    "\n",
    "survived_df[\"groupAge\"] = survived_df[\"Age\"].apply(lambda x:get_group_age(x,bins))\n",
    "not_survived_df[\"groupAge\"] = not_survived_df[\"Age\"].apply(lambda x:get_group_age(x,bins))"
   ]
  },
  {
   "cell_type": "code",
   "execution_count": 29,
   "metadata": {
    "hidden": true
   },
   "outputs": [
    {
     "data": {
      "text/html": [
       "<div>\n",
       "<style scoped>\n",
       "    .dataframe tbody tr th:only-of-type {\n",
       "        vertical-align: middle;\n",
       "    }\n",
       "\n",
       "    .dataframe tbody tr th {\n",
       "        vertical-align: top;\n",
       "    }\n",
       "\n",
       "    .dataframe thead th {\n",
       "        text-align: right;\n",
       "    }\n",
       "</style>\n",
       "<table border=\"1\" class=\"dataframe\">\n",
       "  <thead>\n",
       "    <tr style=\"text-align: right;\">\n",
       "      <th></th>\n",
       "      <th>PassengerId</th>\n",
       "      <th>Survived</th>\n",
       "      <th>Pclass</th>\n",
       "      <th>Name</th>\n",
       "      <th>Sex</th>\n",
       "      <th>Age</th>\n",
       "      <th>SibSp</th>\n",
       "      <th>Parch</th>\n",
       "      <th>Ticket</th>\n",
       "      <th>Fare</th>\n",
       "      <th>Cabin</th>\n",
       "      <th>Embarked</th>\n",
       "      <th>groupAge</th>\n",
       "    </tr>\n",
       "  </thead>\n",
       "  <tbody>\n",
       "    <tr>\n",
       "      <td>1</td>\n",
       "      <td>2</td>\n",
       "      <td>1</td>\n",
       "      <td>1</td>\n",
       "      <td>Cumings, Mrs. John Bradley (Florence Briggs Th...</td>\n",
       "      <td>female</td>\n",
       "      <td>38.0</td>\n",
       "      <td>1</td>\n",
       "      <td>0</td>\n",
       "      <td>PC 17599</td>\n",
       "      <td>71.2833</td>\n",
       "      <td>C85</td>\n",
       "      <td>C</td>\n",
       "      <td>4</td>\n",
       "    </tr>\n",
       "    <tr>\n",
       "      <td>2</td>\n",
       "      <td>3</td>\n",
       "      <td>1</td>\n",
       "      <td>3</td>\n",
       "      <td>Heikkinen, Miss. Laina</td>\n",
       "      <td>female</td>\n",
       "      <td>26.0</td>\n",
       "      <td>0</td>\n",
       "      <td>0</td>\n",
       "      <td>STON/O2. 3101282</td>\n",
       "      <td>7.9250</td>\n",
       "      <td>NaN</td>\n",
       "      <td>S</td>\n",
       "      <td>3</td>\n",
       "    </tr>\n",
       "    <tr>\n",
       "      <td>3</td>\n",
       "      <td>4</td>\n",
       "      <td>1</td>\n",
       "      <td>1</td>\n",
       "      <td>Futrelle, Mrs. Jacques Heath (Lily May Peel)</td>\n",
       "      <td>female</td>\n",
       "      <td>35.0</td>\n",
       "      <td>1</td>\n",
       "      <td>0</td>\n",
       "      <td>113803</td>\n",
       "      <td>53.1000</td>\n",
       "      <td>C123</td>\n",
       "      <td>S</td>\n",
       "      <td>4</td>\n",
       "    </tr>\n",
       "    <tr>\n",
       "      <td>8</td>\n",
       "      <td>9</td>\n",
       "      <td>1</td>\n",
       "      <td>3</td>\n",
       "      <td>Johnson, Mrs. Oscar W (Elisabeth Vilhelmina Berg)</td>\n",
       "      <td>female</td>\n",
       "      <td>27.0</td>\n",
       "      <td>0</td>\n",
       "      <td>2</td>\n",
       "      <td>347742</td>\n",
       "      <td>11.1333</td>\n",
       "      <td>NaN</td>\n",
       "      <td>S</td>\n",
       "      <td>3</td>\n",
       "    </tr>\n",
       "    <tr>\n",
       "      <td>9</td>\n",
       "      <td>10</td>\n",
       "      <td>1</td>\n",
       "      <td>2</td>\n",
       "      <td>Nasser, Mrs. Nicholas (Adele Achem)</td>\n",
       "      <td>female</td>\n",
       "      <td>14.0</td>\n",
       "      <td>1</td>\n",
       "      <td>0</td>\n",
       "      <td>237736</td>\n",
       "      <td>30.0708</td>\n",
       "      <td>NaN</td>\n",
       "      <td>C</td>\n",
       "      <td>2</td>\n",
       "    </tr>\n",
       "  </tbody>\n",
       "</table>\n",
       "</div>"
      ],
      "text/plain": [
       "   PassengerId  Survived  Pclass  \\\n",
       "1            2         1       1   \n",
       "2            3         1       3   \n",
       "3            4         1       1   \n",
       "8            9         1       3   \n",
       "9           10         1       2   \n",
       "\n",
       "                                                Name     Sex   Age  SibSp  \\\n",
       "1  Cumings, Mrs. John Bradley (Florence Briggs Th...  female  38.0      1   \n",
       "2                             Heikkinen, Miss. Laina  female  26.0      0   \n",
       "3       Futrelle, Mrs. Jacques Heath (Lily May Peel)  female  35.0      1   \n",
       "8  Johnson, Mrs. Oscar W (Elisabeth Vilhelmina Berg)  female  27.0      0   \n",
       "9                Nasser, Mrs. Nicholas (Adele Achem)  female  14.0      1   \n",
       "\n",
       "   Parch            Ticket     Fare Cabin Embarked  groupAge  \n",
       "1      0          PC 17599  71.2833   C85        C         4  \n",
       "2      0  STON/O2. 3101282   7.9250   NaN        S         3  \n",
       "3      0            113803  53.1000  C123        S         4  \n",
       "8      2            347742  11.1333   NaN        S         3  \n",
       "9      0            237736  30.0708   NaN        C         2  "
      ]
     },
     "execution_count": 29,
     "metadata": {},
     "output_type": "execute_result"
    }
   ],
   "source": [
    "survived_df.head()"
   ]
  },
  {
   "cell_type": "code",
   "execution_count": 30,
   "metadata": {
    "hidden": true
   },
   "outputs": [
    {
     "data": {
      "text/plain": [
       " 3    140\n",
       "-1    125\n",
       " 2    114\n",
       " 4     81\n",
       " 5     39\n",
       " 1     29\n",
       " 6     15\n",
       " 7      6\n",
       "Name: groupAge, dtype: int64"
      ]
     },
     "execution_count": 30,
     "metadata": {},
     "output_type": "execute_result"
    }
   ],
   "source": [
    "not_survived_df['groupAge'].value_counts()"
   ]
  },
  {
   "cell_type": "code",
   "execution_count": 31,
   "metadata": {
    "hidden": true
   },
   "outputs": [
    {
     "data": {
      "text/plain": [
       "(0, 150)"
      ]
     },
     "execution_count": 31,
     "metadata": {},
     "output_type": "execute_result"
    },
    {
     "data": {
      "image/png": "[encoded data removed]",
      "text/plain": [
       "<Figure size 432x288 with 2 Axes>"
      ]
     },
     "metadata": {
      "needs_background": "light"
     },
     "output_type": "display_data"
    }
   ],
   "source": [
    "fig, axes = plt.subplots(nrows=2,ncols=1)\n",
    "axes[0].bar(survived_df['groupAge'].value_counts().keys(),survived_df['groupAge'].value_counts())\n",
    "axes[0].set_ylim([0,150])\n",
    "axes[1].bar(not_survived_df['groupAge'].value_counts().keys(),not_survived_df['groupAge'].value_counts(), color='red')\n",
    "axes[1].set_ylim([0,150])"
   ]
  },
  {
   "cell_type": "code",
   "execution_count": 32,
   "metadata": {
    "hidden": true
   },
   "outputs": [
    {
     "name": "stderr",
     "output_type": "stream",
     "text": [
      "/Users/antoine/Documents/Tests/python/ML/venv3/lib/python3.7/site-packages/pandas/core/generic.py:5208: SettingWithCopyWarning: \n",
      "A value is trying to be set on a copy of a slice from a DataFrame.\n",
      "Try using .loc[row_indexer,col_indexer] = value instead\n",
      "\n",
      "See the caveats in the documentation: http://pandas.pydata.org/pandas-docs/stable/user_guide/indexing.html#returning-a-view-versus-a-copy\n",
      "  self[name] = value\n"
     ]
    }
   ],
   "source": [
    "survived_df.groupAge= survived_df.groupAge.map({1:\"0-10\", 2:\"10-20\", 3:\"20-30\", 4:\"30-40\", 5:\"40-50\",6:\"50-60\", 7:\"60-70\", -1:\"Unknow\"})"
   ]
  },
  {
   "cell_type": "code",
   "execution_count": 33,
   "metadata": {
    "hidden": true
   },
   "outputs": [
    {
     "data": {
      "text/html": [
       "<div>\n",
       "<style scoped>\n",
       "    .dataframe tbody tr th:only-of-type {\n",
       "        vertical-align: middle;\n",
       "    }\n",
       "\n",
       "    .dataframe tbody tr th {\n",
       "        vertical-align: top;\n",
       "    }\n",
       "\n",
       "    .dataframe thead th {\n",
       "        text-align: right;\n",
       "    }\n",
       "</style>\n",
       "<table border=\"1\" class=\"dataframe\">\n",
       "  <thead>\n",
       "    <tr style=\"text-align: right;\">\n",
       "      <th></th>\n",
       "      <th>PassengerId</th>\n",
       "      <th>Survived</th>\n",
       "      <th>Pclass</th>\n",
       "      <th>Name</th>\n",
       "      <th>Sex</th>\n",
       "      <th>Age</th>\n",
       "      <th>SibSp</th>\n",
       "      <th>Parch</th>\n",
       "      <th>Ticket</th>\n",
       "      <th>Fare</th>\n",
       "      <th>Cabin</th>\n",
       "      <th>Embarked</th>\n",
       "      <th>groupAge</th>\n",
       "    </tr>\n",
       "  </thead>\n",
       "  <tbody>\n",
       "    <tr>\n",
       "      <td>1</td>\n",
       "      <td>2</td>\n",
       "      <td>1</td>\n",
       "      <td>1</td>\n",
       "      <td>Cumings, Mrs. John Bradley (Florence Briggs Th...</td>\n",
       "      <td>female</td>\n",
       "      <td>38.0</td>\n",
       "      <td>1</td>\n",
       "      <td>0</td>\n",
       "      <td>PC 17599</td>\n",
       "      <td>71.2833</td>\n",
       "      <td>C85</td>\n",
       "      <td>C</td>\n",
       "      <td>30-40</td>\n",
       "    </tr>\n",
       "    <tr>\n",
       "      <td>2</td>\n",
       "      <td>3</td>\n",
       "      <td>1</td>\n",
       "      <td>3</td>\n",
       "      <td>Heikkinen, Miss. Laina</td>\n",
       "      <td>female</td>\n",
       "      <td>26.0</td>\n",
       "      <td>0</td>\n",
       "      <td>0</td>\n",
       "      <td>STON/O2. 3101282</td>\n",
       "      <td>7.9250</td>\n",
       "      <td>NaN</td>\n",
       "      <td>S</td>\n",
       "      <td>20-30</td>\n",
       "    </tr>\n",
       "    <tr>\n",
       "      <td>3</td>\n",
       "      <td>4</td>\n",
       "      <td>1</td>\n",
       "      <td>1</td>\n",
       "      <td>Futrelle, Mrs. Jacques Heath (Lily May Peel)</td>\n",
       "      <td>female</td>\n",
       "      <td>35.0</td>\n",
       "      <td>1</td>\n",
       "      <td>0</td>\n",
       "      <td>113803</td>\n",
       "      <td>53.1000</td>\n",
       "      <td>C123</td>\n",
       "      <td>S</td>\n",
       "      <td>30-40</td>\n",
       "    </tr>\n",
       "    <tr>\n",
       "      <td>8</td>\n",
       "      <td>9</td>\n",
       "      <td>1</td>\n",
       "      <td>3</td>\n",
       "      <td>Johnson, Mrs. Oscar W (Elisabeth Vilhelmina Berg)</td>\n",
       "      <td>female</td>\n",
       "      <td>27.0</td>\n",
       "      <td>0</td>\n",
       "      <td>2</td>\n",
       "      <td>347742</td>\n",
       "      <td>11.1333</td>\n",
       "      <td>NaN</td>\n",
       "      <td>S</td>\n",
       "      <td>20-30</td>\n",
       "    </tr>\n",
       "    <tr>\n",
       "      <td>9</td>\n",
       "      <td>10</td>\n",
       "      <td>1</td>\n",
       "      <td>2</td>\n",
       "      <td>Nasser, Mrs. Nicholas (Adele Achem)</td>\n",
       "      <td>female</td>\n",
       "      <td>14.0</td>\n",
       "      <td>1</td>\n",
       "      <td>0</td>\n",
       "      <td>237736</td>\n",
       "      <td>30.0708</td>\n",
       "      <td>NaN</td>\n",
       "      <td>C</td>\n",
       "      <td>10-20</td>\n",
       "    </tr>\n",
       "  </tbody>\n",
       "</table>\n",
       "</div>"
      ],
      "text/plain": [
       "   PassengerId  Survived  Pclass  \\\n",
       "1            2         1       1   \n",
       "2            3         1       3   \n",
       "3            4         1       1   \n",
       "8            9         1       3   \n",
       "9           10         1       2   \n",
       "\n",
       "                                                Name     Sex   Age  SibSp  \\\n",
       "1  Cumings, Mrs. John Bradley (Florence Briggs Th...  female  38.0      1   \n",
       "2                             Heikkinen, Miss. Laina  female  26.0      0   \n",
       "3       Futrelle, Mrs. Jacques Heath (Lily May Peel)  female  35.0      1   \n",
       "8  Johnson, Mrs. Oscar W (Elisabeth Vilhelmina Berg)  female  27.0      0   \n",
       "9                Nasser, Mrs. Nicholas (Adele Achem)  female  14.0      1   \n",
       "\n",
       "   Parch            Ticket     Fare Cabin Embarked groupAge  \n",
       "1      0          PC 17599  71.2833   C85        C    30-40  \n",
       "2      0  STON/O2. 3101282   7.9250   NaN        S    20-30  \n",
       "3      0            113803  53.1000  C123        S    30-40  \n",
       "8      2            347742  11.1333   NaN        S    20-30  \n",
       "9      0            237736  30.0708   NaN        C    10-20  "
      ]
     },
     "execution_count": 33,
     "metadata": {},
     "output_type": "execute_result"
    }
   ],
   "source": [
    "survived_df.head()"
   ]
  },
  {
   "cell_type": "code",
   "execution_count": 34,
   "metadata": {
    "hidden": true
   },
   "outputs": [
    {
     "data": {
      "text/plain": [
       "Index(['20-30', '10-20', '30-40', 'Unknow', '0-10', '40-50', '50-60', '60-70'], dtype='object')"
      ]
     },
     "execution_count": 34,
     "metadata": {},
     "output_type": "execute_result"
    }
   ],
   "source": [
    "survived_df['groupAge'].value_counts().keys()"
   ]
  },
  {
   "cell_type": "code",
   "execution_count": 35,
   "metadata": {
    "hidden": true
   },
   "outputs": [
    {
     "data": {
      "text/plain": [
       "(0, 150)"
      ]
     },
     "execution_count": 35,
     "metadata": {},
     "output_type": "execute_result"
    },
    {
     "data": {
      "image/png": "[encoded data removed]",
      "text/plain": [
       "<Figure size 432x288 with 2 Axes>"
      ]
     },
     "metadata": {
      "needs_background": "light"
     },
     "output_type": "display_data"
    }
   ],
   "source": [
    "fig, axes = plt.subplots(nrows=2,ncols=1)\n",
    "axes[0].bar(survived_df['groupAge'].value_counts().keys(),survived_df['groupAge'].value_counts())\n",
    "axes[0].set_ylim([0,150])\n"
   ]
  },
  {
   "cell_type": "code",
   "execution_count": 36,
   "metadata": {
    "hidden": true
   },
   "outputs": [
    {
     "data": {
      "text/plain": [
       "Index(['PassengerId', 'Survived', 'Pclass', 'Name', 'Sex', 'Age', 'SibSp',\n",
       "       'Parch', 'Ticket', 'Fare', 'Cabin', 'Embarked'],\n",
       "      dtype='object')"
      ]
     },
     "execution_count": 36,
     "metadata": {},
     "output_type": "execute_result"
    }
   ],
   "source": [
    "df.columns"
   ]
  },
  {
   "cell_type": "code",
   "execution_count": 37,
   "metadata": {
    "hidden": true
   },
   "outputs": [
    {
     "data": {
      "text/html": [
       "<div>\n",
       "<style scoped>\n",
       "    .dataframe tbody tr th:only-of-type {\n",
       "        vertical-align: middle;\n",
       "    }\n",
       "\n",
       "    .dataframe tbody tr th {\n",
       "        vertical-align: top;\n",
       "    }\n",
       "\n",
       "    .dataframe thead th {\n",
       "        text-align: right;\n",
       "    }\n",
       "</style>\n",
       "<table border=\"1\" class=\"dataframe\">\n",
       "  <thead>\n",
       "    <tr style=\"text-align: right;\">\n",
       "      <th></th>\n",
       "      <th>PassengerId</th>\n",
       "      <th>Survived</th>\n",
       "      <th>Pclass</th>\n",
       "      <th>Age</th>\n",
       "      <th>SibSp</th>\n",
       "      <th>Parch</th>\n",
       "      <th>Fare</th>\n",
       "    </tr>\n",
       "  </thead>\n",
       "  <tbody>\n",
       "    <tr>\n",
       "      <td>count</td>\n",
       "      <td>891.000000</td>\n",
       "      <td>891.000000</td>\n",
       "      <td>891.000000</td>\n",
       "      <td>714.000000</td>\n",
       "      <td>891.000000</td>\n",
       "      <td>891.000000</td>\n",
       "      <td>891.000000</td>\n",
       "    </tr>\n",
       "    <tr>\n",
       "      <td>mean</td>\n",
       "      <td>446.000000</td>\n",
       "      <td>0.383838</td>\n",
       "      <td>2.308642</td>\n",
       "      <td>29.699118</td>\n",
       "      <td>0.523008</td>\n",
       "      <td>0.381594</td>\n",
       "      <td>32.204208</td>\n",
       "    </tr>\n",
       "    <tr>\n",
       "      <td>std</td>\n",
       "      <td>257.353842</td>\n",
       "      <td>0.486592</td>\n",
       "      <td>0.836071</td>\n",
       "      <td>14.526497</td>\n",
       "      <td>1.102743</td>\n",
       "      <td>0.806057</td>\n",
       "      <td>49.693429</td>\n",
       "    </tr>\n",
       "    <tr>\n",
       "      <td>min</td>\n",
       "      <td>1.000000</td>\n",
       "      <td>0.000000</td>\n",
       "      <td>1.000000</td>\n",
       "      <td>0.420000</td>\n",
       "      <td>0.000000</td>\n",
       "      <td>0.000000</td>\n",
       "      <td>0.000000</td>\n",
       "    </tr>\n",
       "    <tr>\n",
       "      <td>25%</td>\n",
       "      <td>223.500000</td>\n",
       "      <td>0.000000</td>\n",
       "      <td>2.000000</td>\n",
       "      <td>20.125000</td>\n",
       "      <td>0.000000</td>\n",
       "      <td>0.000000</td>\n",
       "      <td>7.910400</td>\n",
       "    </tr>\n",
       "    <tr>\n",
       "      <td>50%</td>\n",
       "      <td>446.000000</td>\n",
       "      <td>0.000000</td>\n",
       "      <td>3.000000</td>\n",
       "      <td>28.000000</td>\n",
       "      <td>0.000000</td>\n",
       "      <td>0.000000</td>\n",
       "      <td>14.454200</td>\n",
       "    </tr>\n",
       "    <tr>\n",
       "      <td>75%</td>\n",
       "      <td>668.500000</td>\n",
       "      <td>1.000000</td>\n",
       "      <td>3.000000</td>\n",
       "      <td>38.000000</td>\n",
       "      <td>1.000000</td>\n",
       "      <td>0.000000</td>\n",
       "      <td>31.000000</td>\n",
       "    </tr>\n",
       "    <tr>\n",
       "      <td>max</td>\n",
       "      <td>891.000000</td>\n",
       "      <td>1.000000</td>\n",
       "      <td>3.000000</td>\n",
       "      <td>80.000000</td>\n",
       "      <td>8.000000</td>\n",
       "      <td>6.000000</td>\n",
       "      <td>512.329200</td>\n",
       "    </tr>\n",
       "  </tbody>\n",
       "</table>\n",
       "</div>"
      ],
      "text/plain": [
       "       PassengerId    Survived      Pclass         Age       SibSp  \\\n",
       "count   891.000000  891.000000  891.000000  714.000000  891.000000   \n",
       "mean    446.000000    0.383838    2.308642   29.699118    0.523008   \n",
       "std     257.353842    0.486592    0.836071   14.526497    1.102743   \n",
       "min       1.000000    0.000000    1.000000    0.420000    0.000000   \n",
       "25%     223.500000    0.000000    2.000000   20.125000    0.000000   \n",
       "50%     446.000000    0.000000    3.000000   28.000000    0.000000   \n",
       "75%     668.500000    1.000000    3.000000   38.000000    1.000000   \n",
       "max     891.000000    1.000000    3.000000   80.000000    8.000000   \n",
       "\n",
       "            Parch        Fare  \n",
       "count  891.000000  891.000000  \n",
       "mean     0.381594   32.204208  \n",
       "std      0.806057   49.693429  \n",
       "min      0.000000    0.000000  \n",
       "25%      0.000000    7.910400  \n",
       "50%      0.000000   14.454200  \n",
       "75%      0.000000   31.000000  \n",
       "max      6.000000  512.329200  "
      ]
     },
     "execution_count": 37,
     "metadata": {},
     "output_type": "execute_result"
    }
   ],
   "source": [
    "df.describe()"
   ]
  },
  {
   "cell_type": "code",
   "execution_count": 38,
   "metadata": {
    "hidden": true
   },
   "outputs": [
    {
     "data": {
      "text/plain": [
       "G6             4\n",
       "B96 B98        4\n",
       "C23 C25 C27    4\n",
       "D              3\n",
       "C22 C26        3\n",
       "              ..\n",
       "D15            1\n",
       "C54            1\n",
       "A36            1\n",
       "C101           1\n",
       "B42            1\n",
       "Name: Cabin, Length: 147, dtype: int64"
      ]
     },
     "execution_count": 38,
     "metadata": {},
     "output_type": "execute_result"
    }
   ],
   "source": [
    "df.Cabin.value_counts()"
   ]
  },
  {
   "cell_type": "code",
   "execution_count": 39,
   "metadata": {
    "hidden": true
   },
   "outputs": [
    {
     "data": {
      "text/plain": [
       "PassengerId      0\n",
       "Survived         0\n",
       "Pclass           0\n",
       "Name             0\n",
       "Sex              0\n",
       "Age            177\n",
       "SibSp            0\n",
       "Parch            0\n",
       "Ticket           0\n",
       "Fare             0\n",
       "Cabin          687\n",
       "Embarked         2\n",
       "dtype: int64"
      ]
     },
     "execution_count": 39,
     "metadata": {},
     "output_type": "execute_result"
    }
   ],
   "source": [
    "df.isnull().sum()"
   ]
  },
  {
   "cell_type": "code",
   "execution_count": 129,
   "metadata": {
    "hidden": true
   },
   "outputs": [
    {
     "data": {
      "image/png": "[encoded data removed]",
      "text/plain": [
       "<Figure size 864x576 with 1 Axes>"
      ]
     },
     "metadata": {
      "needs_background": "light"
     },
     "output_type": "display_data"
    }
   ],
   "source": [
    "plt.figure(figsize=(12,8))\n",
    "sns.countplot(x=\"Pclass\", data=df)\n",
    "plt.ylabel('Count', fontsize=12)\n",
    "plt.xlabel('Ticket class', fontsize=12)\n",
    "plt.xticks(rotation='vertical')\n",
    "plt.title(\"Frequency of ticket class count\", fontsize=15)\n",
    "plt.show()\n",
    "#same as :\n",
    "#plt.bar(df[\"Pclass\"].value_counts().keys(),df[\"Pclass\"].value_counts())\n",
    "#plt.show()"
   ]
  },
  {
   "cell_type": "code",
   "execution_count": 130,
   "metadata": {
    "hidden": true
   },
   "outputs": [
    {
     "data": {
      "text/plain": [
       "1601        7\n",
       "347082      7\n",
       "CA. 2343    7\n",
       "CA 2144     6\n",
       "347088      6\n",
       "           ..\n",
       "347743      1\n",
       "PC 17754    1\n",
       "2695        1\n",
       "113055      1\n",
       "349213      1\n",
       "Name: Ticket, Length: 681, dtype: int64"
      ]
     },
     "execution_count": 130,
     "metadata": {},
     "output_type": "execute_result"
    }
   ],
   "source": [
    "df[\"Ticket\"].value_counts()"
   ]
  },
  {
   "cell_type": "code",
   "execution_count": 131,
   "metadata": {
    "hidden": true
   },
   "outputs": [
    {
     "data": {
      "text/plain": [
       "681"
      ]
     },
     "execution_count": 131,
     "metadata": {},
     "output_type": "execute_result"
    }
   ],
   "source": [
    "len(df[\"Ticket\"].value_counts())"
   ]
  },
  {
   "cell_type": "code",
   "execution_count": 132,
   "metadata": {
    "hidden": true
   },
   "outputs": [],
   "source": [
    "# maybe it will be interesting to use ticket val with interval val\n",
    "#  0 < TicketNb < 100 000 \n",
    "# 100 000 < TicketNB < 200 000 ...;\n",
    "# see repartition of ticket value"
   ]
  },
  {
   "cell_type": "markdown",
   "metadata": {
    "heading_collapsed": true
   },
   "source": [
    "# 1- Data preprocessing"
   ]
  },
  {
   "cell_type": "markdown",
   "metadata": {
    "hidden": true
   },
   "source": [
    "## Focus on name to get a title category"
   ]
  },
  {
   "cell_type": "code",
   "execution_count": 33,
   "metadata": {
    "hidden": true
   },
   "outputs": [
    {
     "data": {
      "text/plain": [
       "Mr          517\n",
       "Miss        182\n",
       "Mrs         125\n",
       "Master       40\n",
       "Dr            7\n",
       "Rev           6\n",
       "Col           2\n",
       "Major         2\n",
       "Mlle          2\n",
       "Mme           1\n",
       "Capt          1\n",
       "Jonkheer      1\n",
       "Countess      1\n",
       "Sir           1\n",
       "Ms            1\n",
       "Lady          1\n",
       "Don           1\n",
       "Name: 0, dtype: int64"
      ]
     },
     "execution_count": 33,
     "metadata": {},
     "output_type": "execute_result"
    }
   ],
   "source": [
    "df.Name.str.extract('([A-Za-z]+)\\.')[0].value_counts()"
   ]
  },
  {
   "cell_type": "raw",
   "metadata": {
    "hidden": true
   },
   "source": [
    "Low: Jonkheer\n",
    "Normal people: Mr, Miss, Mrs, Mlle, Ms\n",
    "Militar: Col, Capt, Major\n",
    "Nobless: Countess , Don, Lady, Sir, Master\n",
    "Religious/medecine: Rev, Dr"
   ]
  },
  {
   "cell_type": "code",
   "execution_count": 34,
   "metadata": {
    "hidden": true
   },
   "outputs": [],
   "source": [
    "df[\"Title\"]= df.Name.str.extract('([A-Za-z]+)\\.')"
   ]
  },
  {
   "cell_type": "code",
   "execution_count": 35,
   "metadata": {
    "hidden": true
   },
   "outputs": [
    {
     "data": {
      "text/html": [
       "<div>\n",
       "<style scoped>\n",
       "    .dataframe tbody tr th:only-of-type {\n",
       "        vertical-align: middle;\n",
       "    }\n",
       "\n",
       "    .dataframe tbody tr th {\n",
       "        vertical-align: top;\n",
       "    }\n",
       "\n",
       "    .dataframe thead th {\n",
       "        text-align: right;\n",
       "    }\n",
       "</style>\n",
       "<table border=\"1\" class=\"dataframe\">\n",
       "  <thead>\n",
       "    <tr style=\"text-align: right;\">\n",
       "      <th></th>\n",
       "      <th>PassengerId</th>\n",
       "      <th>Survived</th>\n",
       "      <th>Pclass</th>\n",
       "      <th>Name</th>\n",
       "      <th>Sex</th>\n",
       "      <th>Age</th>\n",
       "      <th>SibSp</th>\n",
       "      <th>Parch</th>\n",
       "      <th>Ticket</th>\n",
       "      <th>Fare</th>\n",
       "      <th>Cabin</th>\n",
       "      <th>Embarked</th>\n",
       "      <th>Title</th>\n",
       "    </tr>\n",
       "  </thead>\n",
       "  <tbody>\n",
       "    <tr>\n",
       "      <td>0</td>\n",
       "      <td>1</td>\n",
       "      <td>0</td>\n",
       "      <td>3</td>\n",
       "      <td>Braund, Mr. Owen Harris</td>\n",
       "      <td>male</td>\n",
       "      <td>22.0</td>\n",
       "      <td>1</td>\n",
       "      <td>0</td>\n",
       "      <td>A/5 21171</td>\n",
       "      <td>7.2500</td>\n",
       "      <td>NaN</td>\n",
       "      <td>S</td>\n",
       "      <td>Mr</td>\n",
       "    </tr>\n",
       "    <tr>\n",
       "      <td>1</td>\n",
       "      <td>2</td>\n",
       "      <td>1</td>\n",
       "      <td>1</td>\n",
       "      <td>Cumings, Mrs. John Bradley (Florence Briggs Th...</td>\n",
       "      <td>female</td>\n",
       "      <td>38.0</td>\n",
       "      <td>1</td>\n",
       "      <td>0</td>\n",
       "      <td>PC 17599</td>\n",
       "      <td>71.2833</td>\n",
       "      <td>C85</td>\n",
       "      <td>C</td>\n",
       "      <td>Mrs</td>\n",
       "    </tr>\n",
       "    <tr>\n",
       "      <td>2</td>\n",
       "      <td>3</td>\n",
       "      <td>1</td>\n",
       "      <td>3</td>\n",
       "      <td>Heikkinen, Miss. Laina</td>\n",
       "      <td>female</td>\n",
       "      <td>26.0</td>\n",
       "      <td>0</td>\n",
       "      <td>0</td>\n",
       "      <td>STON/O2. 3101282</td>\n",
       "      <td>7.9250</td>\n",
       "      <td>NaN</td>\n",
       "      <td>S</td>\n",
       "      <td>Miss</td>\n",
       "    </tr>\n",
       "    <tr>\n",
       "      <td>3</td>\n",
       "      <td>4</td>\n",
       "      <td>1</td>\n",
       "      <td>1</td>\n",
       "      <td>Futrelle, Mrs. Jacques Heath (Lily May Peel)</td>\n",
       "      <td>female</td>\n",
       "      <td>35.0</td>\n",
       "      <td>1</td>\n",
       "      <td>0</td>\n",
       "      <td>113803</td>\n",
       "      <td>53.1000</td>\n",
       "      <td>C123</td>\n",
       "      <td>S</td>\n",
       "      <td>Mrs</td>\n",
       "    </tr>\n",
       "    <tr>\n",
       "      <td>4</td>\n",
       "      <td>5</td>\n",
       "      <td>0</td>\n",
       "      <td>3</td>\n",
       "      <td>Allen, Mr. William Henry</td>\n",
       "      <td>male</td>\n",
       "      <td>35.0</td>\n",
       "      <td>0</td>\n",
       "      <td>0</td>\n",
       "      <td>373450</td>\n",
       "      <td>8.0500</td>\n",
       "      <td>NaN</td>\n",
       "      <td>S</td>\n",
       "      <td>Mr</td>\n",
       "    </tr>\n",
       "  </tbody>\n",
       "</table>\n",
       "</div>"
      ],
      "text/plain": [
       "   PassengerId  Survived  Pclass  \\\n",
       "0            1         0       3   \n",
       "1            2         1       1   \n",
       "2            3         1       3   \n",
       "3            4         1       1   \n",
       "4            5         0       3   \n",
       "\n",
       "                                                Name     Sex   Age  SibSp  \\\n",
       "0                            Braund, Mr. Owen Harris    male  22.0      1   \n",
       "1  Cumings, Mrs. John Bradley (Florence Briggs Th...  female  38.0      1   \n",
       "2                             Heikkinen, Miss. Laina  female  26.0      0   \n",
       "3       Futrelle, Mrs. Jacques Heath (Lily May Peel)  female  35.0      1   \n",
       "4                           Allen, Mr. William Henry    male  35.0      0   \n",
       "\n",
       "   Parch            Ticket     Fare Cabin Embarked Title  \n",
       "0      0         A/5 21171   7.2500   NaN        S    Mr  \n",
       "1      0          PC 17599  71.2833   C85        C   Mrs  \n",
       "2      0  STON/O2. 3101282   7.9250   NaN        S  Miss  \n",
       "3      0            113803  53.1000  C123        S   Mrs  \n",
       "4      0            373450   8.0500   NaN        S    Mr  "
      ]
     },
     "execution_count": 35,
     "metadata": {},
     "output_type": "execute_result"
    }
   ],
   "source": [
    "df.head()"
   ]
  },
  {
   "cell_type": "code",
   "execution_count": 6,
   "metadata": {
    "hidden": true
   },
   "outputs": [],
   "source": [
    "# def get_title_category(title) see utils part"
   ]
  },
  {
   "cell_type": "code",
   "execution_count": 37,
   "metadata": {
    "hidden": true
   },
   "outputs": [],
   "source": [
    "df.Title = df.Title.apply(get_title_category)"
   ]
  },
  {
   "cell_type": "code",
   "execution_count": 38,
   "metadata": {
    "hidden": true
   },
   "outputs": [
    {
     "data": {
      "text/html": [
       "<div>\n",
       "<style scoped>\n",
       "    .dataframe tbody tr th:only-of-type {\n",
       "        vertical-align: middle;\n",
       "    }\n",
       "\n",
       "    .dataframe tbody tr th {\n",
       "        vertical-align: top;\n",
       "    }\n",
       "\n",
       "    .dataframe thead th {\n",
       "        text-align: right;\n",
       "    }\n",
       "</style>\n",
       "<table border=\"1\" class=\"dataframe\">\n",
       "  <thead>\n",
       "    <tr style=\"text-align: right;\">\n",
       "      <th></th>\n",
       "      <th>PassengerId</th>\n",
       "      <th>Survived</th>\n",
       "      <th>Pclass</th>\n",
       "      <th>Name</th>\n",
       "      <th>Sex</th>\n",
       "      <th>Age</th>\n",
       "      <th>SibSp</th>\n",
       "      <th>Parch</th>\n",
       "      <th>Ticket</th>\n",
       "      <th>Fare</th>\n",
       "      <th>Cabin</th>\n",
       "      <th>Embarked</th>\n",
       "      <th>Title</th>\n",
       "    </tr>\n",
       "  </thead>\n",
       "  <tbody>\n",
       "    <tr>\n",
       "      <td>0</td>\n",
       "      <td>1</td>\n",
       "      <td>0</td>\n",
       "      <td>3</td>\n",
       "      <td>Braund, Mr. Owen Harris</td>\n",
       "      <td>male</td>\n",
       "      <td>22.0</td>\n",
       "      <td>1</td>\n",
       "      <td>0</td>\n",
       "      <td>A/5 21171</td>\n",
       "      <td>7.2500</td>\n",
       "      <td>NaN</td>\n",
       "      <td>S</td>\n",
       "      <td>Normal</td>\n",
       "    </tr>\n",
       "    <tr>\n",
       "      <td>1</td>\n",
       "      <td>2</td>\n",
       "      <td>1</td>\n",
       "      <td>1</td>\n",
       "      <td>Cumings, Mrs. John Bradley (Florence Briggs Th...</td>\n",
       "      <td>female</td>\n",
       "      <td>38.0</td>\n",
       "      <td>1</td>\n",
       "      <td>0</td>\n",
       "      <td>PC 17599</td>\n",
       "      <td>71.2833</td>\n",
       "      <td>C85</td>\n",
       "      <td>C</td>\n",
       "      <td>Normal</td>\n",
       "    </tr>\n",
       "    <tr>\n",
       "      <td>2</td>\n",
       "      <td>3</td>\n",
       "      <td>1</td>\n",
       "      <td>3</td>\n",
       "      <td>Heikkinen, Miss. Laina</td>\n",
       "      <td>female</td>\n",
       "      <td>26.0</td>\n",
       "      <td>0</td>\n",
       "      <td>0</td>\n",
       "      <td>STON/O2. 3101282</td>\n",
       "      <td>7.9250</td>\n",
       "      <td>NaN</td>\n",
       "      <td>S</td>\n",
       "      <td>Normal</td>\n",
       "    </tr>\n",
       "    <tr>\n",
       "      <td>3</td>\n",
       "      <td>4</td>\n",
       "      <td>1</td>\n",
       "      <td>1</td>\n",
       "      <td>Futrelle, Mrs. Jacques Heath (Lily May Peel)</td>\n",
       "      <td>female</td>\n",
       "      <td>35.0</td>\n",
       "      <td>1</td>\n",
       "      <td>0</td>\n",
       "      <td>113803</td>\n",
       "      <td>53.1000</td>\n",
       "      <td>C123</td>\n",
       "      <td>S</td>\n",
       "      <td>Normal</td>\n",
       "    </tr>\n",
       "    <tr>\n",
       "      <td>4</td>\n",
       "      <td>5</td>\n",
       "      <td>0</td>\n",
       "      <td>3</td>\n",
       "      <td>Allen, Mr. William Henry</td>\n",
       "      <td>male</td>\n",
       "      <td>35.0</td>\n",
       "      <td>0</td>\n",
       "      <td>0</td>\n",
       "      <td>373450</td>\n",
       "      <td>8.0500</td>\n",
       "      <td>NaN</td>\n",
       "      <td>S</td>\n",
       "      <td>Normal</td>\n",
       "    </tr>\n",
       "  </tbody>\n",
       "</table>\n",
       "</div>"
      ],
      "text/plain": [
       "   PassengerId  Survived  Pclass  \\\n",
       "0            1         0       3   \n",
       "1            2         1       1   \n",
       "2            3         1       3   \n",
       "3            4         1       1   \n",
       "4            5         0       3   \n",
       "\n",
       "                                                Name     Sex   Age  SibSp  \\\n",
       "0                            Braund, Mr. Owen Harris    male  22.0      1   \n",
       "1  Cumings, Mrs. John Bradley (Florence Briggs Th...  female  38.0      1   \n",
       "2                             Heikkinen, Miss. Laina  female  26.0      0   \n",
       "3       Futrelle, Mrs. Jacques Heath (Lily May Peel)  female  35.0      1   \n",
       "4                           Allen, Mr. William Henry    male  35.0      0   \n",
       "\n",
       "   Parch            Ticket     Fare Cabin Embarked   Title  \n",
       "0      0         A/5 21171   7.2500   NaN        S  Normal  \n",
       "1      0          PC 17599  71.2833   C85        C  Normal  \n",
       "2      0  STON/O2. 3101282   7.9250   NaN        S  Normal  \n",
       "3      0            113803  53.1000  C123        S  Normal  \n",
       "4      0            373450   8.0500   NaN        S  Normal  "
      ]
     },
     "execution_count": 38,
     "metadata": {},
     "output_type": "execute_result"
    }
   ],
   "source": [
    "df.head()"
   ]
  },
  {
   "cell_type": "markdown",
   "metadata": {
    "heading_collapsed": true,
    "hidden": true
   },
   "source": [
    "## Ticket category "
   ]
  },
  {
   "cell_type": "code",
   "execution_count": 128,
   "metadata": {
    "collapsed": true,
    "hidden": true
   },
   "outputs": [
    {
     "data": {
      "text/plain": [
       "851              347060\n",
       "852                2678\n",
       "853            PC 17592\n",
       "854              244252\n",
       "855              392091\n",
       "856               36928\n",
       "857              113055\n",
       "858                2666\n",
       "859                2629\n",
       "860              350026\n",
       "861               28134\n",
       "862               17466\n",
       "863            CA. 2343\n",
       "864              233866\n",
       "865              236852\n",
       "866       SC/PARIS 2149\n",
       "867            PC 17590\n",
       "868              345777\n",
       "869              347742\n",
       "870              349248\n",
       "871               11751\n",
       "872                 695\n",
       "873              345765\n",
       "874           P/PP 3381\n",
       "875                2667\n",
       "876                7534\n",
       "877              349212\n",
       "878              349217\n",
       "879               11767\n",
       "880              230433\n",
       "881              349257\n",
       "882                7552\n",
       "883    C.A./SOTON 34068\n",
       "884     SOTON/OQ 392076\n",
       "885              382652\n",
       "886              211536\n",
       "887              112053\n",
       "888          W./C. 6607\n",
       "889              111369\n",
       "890              370376\n",
       "Name: Ticket, dtype: object"
      ]
     },
     "execution_count": 128,
     "metadata": {},
     "output_type": "execute_result"
    }
   ],
   "source": [
    "df.Ticket.tail(40)"
   ]
  },
  {
   "cell_type": "code",
   "execution_count": 34,
   "metadata": {
    "hidden": true
   },
   "outputs": [],
   "source": [
    "# What to do with Ticket ???"
   ]
  },
  {
   "cell_type": "markdown",
   "metadata": {
    "heading_collapsed": true,
    "hidden": true
   },
   "source": [
    "## Confusion matrice "
   ]
  },
  {
   "cell_type": "code",
   "execution_count": 35,
   "metadata": {
    "hidden": true
   },
   "outputs": [],
   "source": [
    "confusion_df = df.copy()"
   ]
  },
  {
   "cell_type": "code",
   "execution_count": 36,
   "metadata": {
    "hidden": true
   },
   "outputs": [],
   "source": [
    "confusion_df.drop(columns=[\"PassengerId\", \"Name\"], inplace=True)"
   ]
  },
  {
   "cell_type": "code",
   "execution_count": 37,
   "metadata": {
    "hidden": true
   },
   "outputs": [
    {
     "data": {
      "image/png": "[encoded data removed]",
      "text/plain": [
       "<Figure size 864x864 with 36 Axes>"
      ]
     },
     "metadata": {
      "needs_background": "light"
     },
     "output_type": "display_data"
    }
   ],
   "source": [
    "pd.plotting.scatter_matrix(\n",
    "    confusion_df, figsize=(12,12),\n",
    "    marker='o', hist_kwds= {'bins':20},s=60, alpha=.8, cmap=mglearn.cm3\n",
    ")\n",
    "plt.show()"
   ]
  },
  {
   "cell_type": "code",
   "execution_count": 42,
   "metadata": {
    "hidden": true,
    "scrolled": true
   },
   "outputs": [
    {
     "data": {
      "text/plain": [
       "PassengerId      0\n",
       "Survived         0\n",
       "Pclass           0\n",
       "Name             0\n",
       "Sex              0\n",
       "Age            177\n",
       "SibSp            0\n",
       "Parch            0\n",
       "Ticket           0\n",
       "Fare             0\n",
       "Cabin          687\n",
       "Embarked         2\n",
       "Title            0\n",
       "dtype: int64"
      ]
     },
     "execution_count": 42,
     "metadata": {},
     "output_type": "execute_result"
    }
   ],
   "source": [
    "df.isnull().sum(axis=0)"
   ]
  },
  {
   "cell_type": "code",
   "execution_count": 43,
   "metadata": {
    "hidden": true
   },
   "outputs": [],
   "source": [
    "# what is the role of cabin if 687 are null over 891 ...."
   ]
  },
  {
   "cell_type": "markdown",
   "metadata": {
    "hidden": true
   },
   "source": [
    "## Mean and Nan values "
   ]
  },
  {
   "cell_type": "code",
   "execution_count": 11,
   "metadata": {
    "hidden": true
   },
   "outputs": [],
   "source": [
    "# def set_median_values(df) see Utils part"
   ]
  },
  {
   "cell_type": "code",
   "execution_count": 40,
   "metadata": {
    "hidden": true
   },
   "outputs": [],
   "source": [
    "mean_age, median_age, title_class_mean_age_dict = set_median_values(df)"
   ]
  },
  {
   "cell_type": "code",
   "execution_count": 42,
   "metadata": {
    "hidden": true
   },
   "outputs": [
    {
     "data": {
      "text/html": [
       "<div>\n",
       "<style scoped>\n",
       "    .dataframe tbody tr th:only-of-type {\n",
       "        vertical-align: middle;\n",
       "    }\n",
       "\n",
       "    .dataframe tbody tr th {\n",
       "        vertical-align: top;\n",
       "    }\n",
       "\n",
       "    .dataframe thead th {\n",
       "        text-align: right;\n",
       "    }\n",
       "</style>\n",
       "<table border=\"1\" class=\"dataframe\">\n",
       "  <thead>\n",
       "    <tr style=\"text-align: right;\">\n",
       "      <th></th>\n",
       "      <th>PassengerId</th>\n",
       "      <th>Survived</th>\n",
       "      <th>Pclass</th>\n",
       "      <th>Name</th>\n",
       "      <th>Sex</th>\n",
       "      <th>Age</th>\n",
       "      <th>SibSp</th>\n",
       "      <th>Parch</th>\n",
       "      <th>Ticket</th>\n",
       "      <th>Fare</th>\n",
       "      <th>Cabin</th>\n",
       "      <th>Embarked</th>\n",
       "      <th>Title</th>\n",
       "    </tr>\n",
       "  </thead>\n",
       "  <tbody>\n",
       "    <tr>\n",
       "      <td>5</td>\n",
       "      <td>6</td>\n",
       "      <td>0</td>\n",
       "      <td>3</td>\n",
       "      <td>Moran, Mr. James</td>\n",
       "      <td>male</td>\n",
       "      <td>NaN</td>\n",
       "      <td>0</td>\n",
       "      <td>0</td>\n",
       "      <td>330877</td>\n",
       "      <td>8.4583</td>\n",
       "      <td>NaN</td>\n",
       "      <td>Q</td>\n",
       "      <td>Normal</td>\n",
       "    </tr>\n",
       "    <tr>\n",
       "      <td>17</td>\n",
       "      <td>18</td>\n",
       "      <td>1</td>\n",
       "      <td>2</td>\n",
       "      <td>Williams, Mr. Charles Eugene</td>\n",
       "      <td>male</td>\n",
       "      <td>NaN</td>\n",
       "      <td>0</td>\n",
       "      <td>0</td>\n",
       "      <td>244373</td>\n",
       "      <td>13.0000</td>\n",
       "      <td>NaN</td>\n",
       "      <td>S</td>\n",
       "      <td>Normal</td>\n",
       "    </tr>\n",
       "    <tr>\n",
       "      <td>19</td>\n",
       "      <td>20</td>\n",
       "      <td>1</td>\n",
       "      <td>3</td>\n",
       "      <td>Masselmani, Mrs. Fatima</td>\n",
       "      <td>female</td>\n",
       "      <td>NaN</td>\n",
       "      <td>0</td>\n",
       "      <td>0</td>\n",
       "      <td>2649</td>\n",
       "      <td>7.2250</td>\n",
       "      <td>NaN</td>\n",
       "      <td>C</td>\n",
       "      <td>Normal</td>\n",
       "    </tr>\n",
       "    <tr>\n",
       "      <td>26</td>\n",
       "      <td>27</td>\n",
       "      <td>0</td>\n",
       "      <td>3</td>\n",
       "      <td>Emir, Mr. Farred Chehab</td>\n",
       "      <td>male</td>\n",
       "      <td>NaN</td>\n",
       "      <td>0</td>\n",
       "      <td>0</td>\n",
       "      <td>2631</td>\n",
       "      <td>7.2250</td>\n",
       "      <td>NaN</td>\n",
       "      <td>C</td>\n",
       "      <td>Normal</td>\n",
       "    </tr>\n",
       "    <tr>\n",
       "      <td>28</td>\n",
       "      <td>29</td>\n",
       "      <td>1</td>\n",
       "      <td>3</td>\n",
       "      <td>O'Dwyer, Miss. Ellen \"Nellie\"</td>\n",
       "      <td>female</td>\n",
       "      <td>NaN</td>\n",
       "      <td>0</td>\n",
       "      <td>0</td>\n",
       "      <td>330959</td>\n",
       "      <td>7.8792</td>\n",
       "      <td>NaN</td>\n",
       "      <td>Q</td>\n",
       "      <td>Normal</td>\n",
       "    </tr>\n",
       "    <tr>\n",
       "      <td>...</td>\n",
       "      <td>...</td>\n",
       "      <td>...</td>\n",
       "      <td>...</td>\n",
       "      <td>...</td>\n",
       "      <td>...</td>\n",
       "      <td>...</td>\n",
       "      <td>...</td>\n",
       "      <td>...</td>\n",
       "      <td>...</td>\n",
       "      <td>...</td>\n",
       "      <td>...</td>\n",
       "      <td>...</td>\n",
       "      <td>...</td>\n",
       "    </tr>\n",
       "    <tr>\n",
       "      <td>859</td>\n",
       "      <td>860</td>\n",
       "      <td>0</td>\n",
       "      <td>3</td>\n",
       "      <td>Razi, Mr. Raihed</td>\n",
       "      <td>male</td>\n",
       "      <td>NaN</td>\n",
       "      <td>0</td>\n",
       "      <td>0</td>\n",
       "      <td>2629</td>\n",
       "      <td>7.2292</td>\n",
       "      <td>NaN</td>\n",
       "      <td>C</td>\n",
       "      <td>Normal</td>\n",
       "    </tr>\n",
       "    <tr>\n",
       "      <td>863</td>\n",
       "      <td>864</td>\n",
       "      <td>0</td>\n",
       "      <td>3</td>\n",
       "      <td>Sage, Miss. Dorothy Edith \"Dolly\"</td>\n",
       "      <td>female</td>\n",
       "      <td>NaN</td>\n",
       "      <td>8</td>\n",
       "      <td>2</td>\n",
       "      <td>CA. 2343</td>\n",
       "      <td>69.5500</td>\n",
       "      <td>NaN</td>\n",
       "      <td>S</td>\n",
       "      <td>Normal</td>\n",
       "    </tr>\n",
       "    <tr>\n",
       "      <td>868</td>\n",
       "      <td>869</td>\n",
       "      <td>0</td>\n",
       "      <td>3</td>\n",
       "      <td>van Melkebeke, Mr. Philemon</td>\n",
       "      <td>male</td>\n",
       "      <td>NaN</td>\n",
       "      <td>0</td>\n",
       "      <td>0</td>\n",
       "      <td>345777</td>\n",
       "      <td>9.5000</td>\n",
       "      <td>NaN</td>\n",
       "      <td>S</td>\n",
       "      <td>Normal</td>\n",
       "    </tr>\n",
       "    <tr>\n",
       "      <td>878</td>\n",
       "      <td>879</td>\n",
       "      <td>0</td>\n",
       "      <td>3</td>\n",
       "      <td>Laleff, Mr. Kristo</td>\n",
       "      <td>male</td>\n",
       "      <td>NaN</td>\n",
       "      <td>0</td>\n",
       "      <td>0</td>\n",
       "      <td>349217</td>\n",
       "      <td>7.8958</td>\n",
       "      <td>NaN</td>\n",
       "      <td>S</td>\n",
       "      <td>Normal</td>\n",
       "    </tr>\n",
       "    <tr>\n",
       "      <td>888</td>\n",
       "      <td>889</td>\n",
       "      <td>0</td>\n",
       "      <td>3</td>\n",
       "      <td>Johnston, Miss. Catherine Helen \"Carrie\"</td>\n",
       "      <td>female</td>\n",
       "      <td>NaN</td>\n",
       "      <td>1</td>\n",
       "      <td>2</td>\n",
       "      <td>W./C. 6607</td>\n",
       "      <td>23.4500</td>\n",
       "      <td>NaN</td>\n",
       "      <td>S</td>\n",
       "      <td>Normal</td>\n",
       "    </tr>\n",
       "  </tbody>\n",
       "</table>\n",
       "<p>177 rows × 13 columns</p>\n",
       "</div>"
      ],
      "text/plain": [
       "     PassengerId  Survived  Pclass                                      Name  \\\n",
       "5              6         0       3                          Moran, Mr. James   \n",
       "17            18         1       2              Williams, Mr. Charles Eugene   \n",
       "19            20         1       3                   Masselmani, Mrs. Fatima   \n",
       "26            27         0       3                   Emir, Mr. Farred Chehab   \n",
       "28            29         1       3             O'Dwyer, Miss. Ellen \"Nellie\"   \n",
       "..           ...       ...     ...                                       ...   \n",
       "859          860         0       3                          Razi, Mr. Raihed   \n",
       "863          864         0       3         Sage, Miss. Dorothy Edith \"Dolly\"   \n",
       "868          869         0       3               van Melkebeke, Mr. Philemon   \n",
       "878          879         0       3                        Laleff, Mr. Kristo   \n",
       "888          889         0       3  Johnston, Miss. Catherine Helen \"Carrie\"   \n",
       "\n",
       "        Sex  Age  SibSp  Parch      Ticket     Fare Cabin Embarked   Title  \n",
       "5      male  NaN      0      0      330877   8.4583   NaN        Q  Normal  \n",
       "17     male  NaN      0      0      244373  13.0000   NaN        S  Normal  \n",
       "19   female  NaN      0      0        2649   7.2250   NaN        C  Normal  \n",
       "26     male  NaN      0      0        2631   7.2250   NaN        C  Normal  \n",
       "28   female  NaN      0      0      330959   7.8792   NaN        Q  Normal  \n",
       "..      ...  ...    ...    ...         ...      ...   ...      ...     ...  \n",
       "859    male  NaN      0      0        2629   7.2292   NaN        C  Normal  \n",
       "863  female  NaN      8      2    CA. 2343  69.5500   NaN        S  Normal  \n",
       "868    male  NaN      0      0      345777   9.5000   NaN        S  Normal  \n",
       "878    male  NaN      0      0      349217   7.8958   NaN        S  Normal  \n",
       "888  female  NaN      1      2  W./C. 6607  23.4500   NaN        S  Normal  \n",
       "\n",
       "[177 rows x 13 columns]"
      ]
     },
     "execution_count": 42,
     "metadata": {},
     "output_type": "execute_result"
    }
   ],
   "source": [
    "df[df.Age.isna()==True]"
   ]
  },
  {
   "cell_type": "code",
   "execution_count": 18,
   "metadata": {
    "hidden": true
   },
   "outputs": [],
   "source": [
    "# def fill_title_age(title, pclass): see Utils part\n",
    "\n",
    "# Replace per Age/Category Average\n",
    "#def replace_average_age(df, is_age_title_average, mean_df_age): see Utils part"
   ]
  },
  {
   "cell_type": "code",
   "execution_count": 45,
   "metadata": {
    "hidden": true
   },
   "outputs": [
    {
     "name": "stdout",
     "output_type": "stream",
     "text": [
      "ekse\n"
     ]
    }
   ],
   "source": [
    "is_age_title_average = False\n",
    "replace_average_age(df, is_age_title_average, mean_age)"
   ]
  },
  {
   "cell_type": "code",
   "execution_count": 46,
   "metadata": {
    "hidden": true
   },
   "outputs": [
    {
     "data": {
      "text/html": [
       "<div>\n",
       "<style scoped>\n",
       "    .dataframe tbody tr th:only-of-type {\n",
       "        vertical-align: middle;\n",
       "    }\n",
       "\n",
       "    .dataframe tbody tr th {\n",
       "        vertical-align: top;\n",
       "    }\n",
       "\n",
       "    .dataframe thead th {\n",
       "        text-align: right;\n",
       "    }\n",
       "</style>\n",
       "<table border=\"1\" class=\"dataframe\">\n",
       "  <thead>\n",
       "    <tr style=\"text-align: right;\">\n",
       "      <th></th>\n",
       "      <th>PassengerId</th>\n",
       "      <th>Survived</th>\n",
       "      <th>Pclass</th>\n",
       "      <th>Name</th>\n",
       "      <th>Sex</th>\n",
       "      <th>Age</th>\n",
       "      <th>SibSp</th>\n",
       "      <th>Parch</th>\n",
       "      <th>Ticket</th>\n",
       "      <th>Fare</th>\n",
       "      <th>Cabin</th>\n",
       "      <th>Embarked</th>\n",
       "      <th>Title</th>\n",
       "    </tr>\n",
       "  </thead>\n",
       "  <tbody>\n",
       "  </tbody>\n",
       "</table>\n",
       "</div>"
      ],
      "text/plain": [
       "Empty DataFrame\n",
       "Columns: [PassengerId, Survived, Pclass, Name, Sex, Age, SibSp, Parch, Ticket, Fare, Cabin, Embarked, Title]\n",
       "Index: []"
      ]
     },
     "execution_count": 46,
     "metadata": {},
     "output_type": "execute_result"
    }
   ],
   "source": [
    "df.loc[df.Age.isna()==True]"
   ]
  },
  {
   "cell_type": "code",
   "execution_count": 47,
   "metadata": {
    "hidden": true
   },
   "outputs": [],
   "source": [
    "#df[df.Age.isna()==True].apply(lambda x:fill_age(x[\"Title\"], x[\"Pclass\"]), axis=1) # Not working\n",
    "#df.loc[df.Age.isna()==True,\"Age\"] = df[df.Age.isna()==True].apply(lambda x:fill_age(x[\"Title\"], x[\"Pclass\"]), axis=1)  working"
   ]
  },
  {
   "cell_type": "code",
   "execution_count": 48,
   "metadata": {
    "hidden": true
   },
   "outputs": [
    {
     "data": {
      "text/html": [
       "<div>\n",
       "<style scoped>\n",
       "    .dataframe tbody tr th:only-of-type {\n",
       "        vertical-align: middle;\n",
       "    }\n",
       "\n",
       "    .dataframe tbody tr th {\n",
       "        vertical-align: top;\n",
       "    }\n",
       "\n",
       "    .dataframe thead th {\n",
       "        text-align: right;\n",
       "    }\n",
       "</style>\n",
       "<table border=\"1\" class=\"dataframe\">\n",
       "  <thead>\n",
       "    <tr style=\"text-align: right;\">\n",
       "      <th></th>\n",
       "      <th>PassengerId</th>\n",
       "      <th>Pclass</th>\n",
       "      <th>Name</th>\n",
       "      <th>Sex</th>\n",
       "      <th>Age</th>\n",
       "      <th>SibSp</th>\n",
       "      <th>Parch</th>\n",
       "      <th>Ticket</th>\n",
       "      <th>Fare</th>\n",
       "      <th>Cabin</th>\n",
       "      <th>Embarked</th>\n",
       "      <th>Title</th>\n",
       "    </tr>\n",
       "  </thead>\n",
       "  <tbody>\n",
       "    <tr>\n",
       "      <td>0</td>\n",
       "      <td>1</td>\n",
       "      <td>3</td>\n",
       "      <td>Braund, Mr. Owen Harris</td>\n",
       "      <td>male</td>\n",
       "      <td>22.0</td>\n",
       "      <td>1</td>\n",
       "      <td>0</td>\n",
       "      <td>A/5 21171</td>\n",
       "      <td>7.2500</td>\n",
       "      <td>NaN</td>\n",
       "      <td>S</td>\n",
       "      <td>Normal</td>\n",
       "    </tr>\n",
       "    <tr>\n",
       "      <td>1</td>\n",
       "      <td>2</td>\n",
       "      <td>1</td>\n",
       "      <td>Cumings, Mrs. John Bradley (Florence Briggs Th...</td>\n",
       "      <td>female</td>\n",
       "      <td>38.0</td>\n",
       "      <td>1</td>\n",
       "      <td>0</td>\n",
       "      <td>PC 17599</td>\n",
       "      <td>71.2833</td>\n",
       "      <td>C85</td>\n",
       "      <td>C</td>\n",
       "      <td>Normal</td>\n",
       "    </tr>\n",
       "    <tr>\n",
       "      <td>2</td>\n",
       "      <td>3</td>\n",
       "      <td>3</td>\n",
       "      <td>Heikkinen, Miss. Laina</td>\n",
       "      <td>female</td>\n",
       "      <td>26.0</td>\n",
       "      <td>0</td>\n",
       "      <td>0</td>\n",
       "      <td>STON/O2. 3101282</td>\n",
       "      <td>7.9250</td>\n",
       "      <td>NaN</td>\n",
       "      <td>S</td>\n",
       "      <td>Normal</td>\n",
       "    </tr>\n",
       "    <tr>\n",
       "      <td>3</td>\n",
       "      <td>4</td>\n",
       "      <td>1</td>\n",
       "      <td>Futrelle, Mrs. Jacques Heath (Lily May Peel)</td>\n",
       "      <td>female</td>\n",
       "      <td>35.0</td>\n",
       "      <td>1</td>\n",
       "      <td>0</td>\n",
       "      <td>113803</td>\n",
       "      <td>53.1000</td>\n",
       "      <td>C123</td>\n",
       "      <td>S</td>\n",
       "      <td>Normal</td>\n",
       "    </tr>\n",
       "    <tr>\n",
       "      <td>4</td>\n",
       "      <td>5</td>\n",
       "      <td>3</td>\n",
       "      <td>Allen, Mr. William Henry</td>\n",
       "      <td>male</td>\n",
       "      <td>35.0</td>\n",
       "      <td>0</td>\n",
       "      <td>0</td>\n",
       "      <td>373450</td>\n",
       "      <td>8.0500</td>\n",
       "      <td>NaN</td>\n",
       "      <td>S</td>\n",
       "      <td>Normal</td>\n",
       "    </tr>\n",
       "  </tbody>\n",
       "</table>\n",
       "</div>"
      ],
      "text/plain": [
       "   PassengerId  Pclass                                               Name  \\\n",
       "0            1       3                            Braund, Mr. Owen Harris   \n",
       "1            2       1  Cumings, Mrs. John Bradley (Florence Briggs Th...   \n",
       "2            3       3                             Heikkinen, Miss. Laina   \n",
       "3            4       1       Futrelle, Mrs. Jacques Heath (Lily May Peel)   \n",
       "4            5       3                           Allen, Mr. William Henry   \n",
       "\n",
       "      Sex   Age  SibSp  Parch            Ticket     Fare Cabin Embarked  \\\n",
       "0    male  22.0      1      0         A/5 21171   7.2500   NaN        S   \n",
       "1  female  38.0      1      0          PC 17599  71.2833   C85        C   \n",
       "2  female  26.0      0      0  STON/O2. 3101282   7.9250   NaN        S   \n",
       "3  female  35.0      1      0            113803  53.1000  C123        S   \n",
       "4    male  35.0      0      0            373450   8.0500   NaN        S   \n",
       "\n",
       "    Title  \n",
       "0  Normal  \n",
       "1  Normal  \n",
       "2  Normal  \n",
       "3  Normal  \n",
       "4  Normal  "
      ]
     },
     "execution_count": 48,
     "metadata": {},
     "output_type": "execute_result"
    }
   ],
   "source": [
    "new_df = df.drop(columns=[\"Survived\"])\n",
    "new_df.head()"
   ]
  },
  {
   "cell_type": "markdown",
   "metadata": {
    "hidden": true
   },
   "source": [
    "## Generate Categories columns and select relevant columns"
   ]
  },
  {
   "cell_type": "code",
   "execution_count": 49,
   "metadata": {
    "hidden": true
   },
   "outputs": [],
   "source": [
    "catecorgies_col = [\"Pclass\",\"Sex\",\"Embarked\", \"Title\"]\n",
    "new_df = pd.get_dummies(new_df, columns=catecorgies_col)"
   ]
  },
  {
   "cell_type": "code",
   "execution_count": 50,
   "metadata": {
    "hidden": true
   },
   "outputs": [],
   "source": [
    "# get all my dummies column\n",
    "cat_col_dum = []\n",
    "for col in new_df.columns:\n",
    "    if col not in df.columns:\n",
    "        cat_col_dum.append(col)"
   ]
  },
  {
   "cell_type": "code",
   "execution_count": 51,
   "metadata": {
    "hidden": true
   },
   "outputs": [
    {
     "data": {
      "text/plain": [
       "['Pclass_1',\n",
       " 'Pclass_2',\n",
       " 'Pclass_3',\n",
       " 'Sex_female',\n",
       " 'Sex_male',\n",
       " 'Embarked_C',\n",
       " 'Embarked_Q',\n",
       " 'Embarked_S',\n",
       " 'Title_Aristocracy',\n",
       " 'Title_Low',\n",
       " 'Title_Militar',\n",
       " 'Title_Normal',\n",
       " 'Title_Rel/Med']"
      ]
     },
     "execution_count": 51,
     "metadata": {},
     "output_type": "execute_result"
    }
   ],
   "source": [
    "cat_col_dum"
   ]
  },
  {
   "cell_type": "code",
   "execution_count": 52,
   "metadata": {
    "hidden": true
   },
   "outputs": [
    {
     "data": {
      "text/plain": [
       "PassengerId            int64\n",
       "Name                  object\n",
       "Age                  float64\n",
       "SibSp                  int64\n",
       "Parch                  int64\n",
       "Ticket                object\n",
       "Fare                 float64\n",
       "Cabin                 object\n",
       "Pclass_1               uint8\n",
       "Pclass_2               uint8\n",
       "Pclass_3               uint8\n",
       "Sex_female             uint8\n",
       "Sex_male               uint8\n",
       "Embarked_C             uint8\n",
       "Embarked_Q             uint8\n",
       "Embarked_S             uint8\n",
       "Title_Aristocracy      uint8\n",
       "Title_Low              uint8\n",
       "Title_Militar          uint8\n",
       "Title_Normal           uint8\n",
       "Title_Rel/Med          uint8\n",
       "dtype: object"
      ]
     },
     "execution_count": 52,
     "metadata": {},
     "output_type": "execute_result"
    }
   ],
   "source": [
    "new_df.dtypes"
   ]
  },
  {
   "cell_type": "code",
   "execution_count": 53,
   "metadata": {
    "hidden": true
   },
   "outputs": [],
   "source": [
    "x_cols = [col for col in new_df.columns if new_df[col].dtype=='float64' or new_df[col].dtype=='int64' \n",
    "         or new_df[col].dtype=='uint8' ]"
   ]
  },
  {
   "cell_type": "code",
   "execution_count": 54,
   "metadata": {
    "hidden": true
   },
   "outputs": [
    {
     "data": {
      "image/png": "[encoded data removed]",
      "text/plain": [
       "<Figure size 864x864 with 1 Axes>"
      ]
     },
     "metadata": {
      "needs_background": "light"
     },
     "output_type": "display_data"
    }
   ],
   "source": [
    "labels = []\n",
    "values = []\n",
    "for col in x_cols:\n",
    "    labels.append(col)\n",
    "    values.append(np.corrcoef(new_df[col],y.Survived.values)[0,1])\n",
    "corr_df = pd.DataFrame({\"col_labels\":labels, \"corr_values\":values})\n",
    "corr_df = corr_df.sort_values(by=\"corr_values\")\n",
    "\n",
    "ind = np.arange(len(labels))\n",
    "width = 0.9\n",
    "fig, ax = plt.subplots(figsize=(12,12))\n",
    "rects = ax.barh(ind, np.array(corr_df.corr_values.values), color='y')\n",
    "ax.set_yticks(ind)\n",
    "ax.set_yticklabels(corr_df.col_labels.values, rotation='horizontal')\n",
    "ax.set_xlabel(\"Correlation coefficient\")\n",
    "ax.set_title(\"Correlation coefficient of the variables\")\n",
    "plt.show()"
   ]
  },
  {
   "cell_type": "code",
   "execution_count": 55,
   "metadata": {
    "hidden": true
   },
   "outputs": [
    {
     "name": "stderr",
     "output_type": "stream",
     "text": [
      "/Users/antoine/Documents/Tests/python/ML/venv3/lib/python3.7/site-packages/ipykernel_launcher.py:1: FutureWarning: \n",
      ".ix is deprecated. Please use\n",
      ".loc for label based indexing or\n",
      ".iloc for positional indexing\n",
      "\n",
      "See the documentation here:\n",
      "http://pandas.pydata.org/pandas-docs/stable/user_guide/indexing.html#ix-indexer-is-deprecated\n",
      "  \"\"\"Entry point for launching an IPython kernel.\n"
     ]
    }
   ],
   "source": [
    "corr_df_sel = corr_df.ix[(corr_df['corr_values']>0.02) | (corr_df['corr_values'] < -0.02)]"
   ]
  },
  {
   "cell_type": "code",
   "execution_count": 56,
   "metadata": {
    "hidden": true
   },
   "outputs": [
    {
     "data": {
      "text/html": [
       "<div>\n",
       "<style scoped>\n",
       "    .dataframe tbody tr th:only-of-type {\n",
       "        vertical-align: middle;\n",
       "    }\n",
       "\n",
       "    .dataframe tbody tr th {\n",
       "        vertical-align: top;\n",
       "    }\n",
       "\n",
       "    .dataframe thead th {\n",
       "        text-align: right;\n",
       "    }\n",
       "</style>\n",
       "<table border=\"1\" class=\"dataframe\">\n",
       "  <thead>\n",
       "    <tr style=\"text-align: right;\">\n",
       "      <th></th>\n",
       "      <th>col_labels</th>\n",
       "      <th>corr_values</th>\n",
       "    </tr>\n",
       "  </thead>\n",
       "  <tbody>\n",
       "    <tr>\n",
       "      <td>9</td>\n",
       "      <td>Sex_male</td>\n",
       "      <td>-0.543351</td>\n",
       "    </tr>\n",
       "    <tr>\n",
       "      <td>7</td>\n",
       "      <td>Pclass_3</td>\n",
       "      <td>-0.322308</td>\n",
       "    </tr>\n",
       "    <tr>\n",
       "      <td>12</td>\n",
       "      <td>Embarked_S</td>\n",
       "      <td>-0.155660</td>\n",
       "    </tr>\n",
       "    <tr>\n",
       "      <td>1</td>\n",
       "      <td>Age</td>\n",
       "      <td>-0.069809</td>\n",
       "    </tr>\n",
       "    <tr>\n",
       "      <td>16</td>\n",
       "      <td>Title_Normal</td>\n",
       "      <td>-0.061385</td>\n",
       "    </tr>\n",
       "    <tr>\n",
       "      <td>17</td>\n",
       "      <td>Title_Rel/Med</td>\n",
       "      <td>-0.038299</td>\n",
       "    </tr>\n",
       "    <tr>\n",
       "      <td>2</td>\n",
       "      <td>SibSp</td>\n",
       "      <td>-0.035322</td>\n",
       "    </tr>\n",
       "    <tr>\n",
       "      <td>14</td>\n",
       "      <td>Title_Low</td>\n",
       "      <td>-0.026456</td>\n",
       "    </tr>\n",
       "    <tr>\n",
       "      <td>3</td>\n",
       "      <td>Parch</td>\n",
       "      <td>0.081629</td>\n",
       "    </tr>\n",
       "    <tr>\n",
       "      <td>6</td>\n",
       "      <td>Pclass_2</td>\n",
       "      <td>0.093349</td>\n",
       "    </tr>\n",
       "    <tr>\n",
       "      <td>13</td>\n",
       "      <td>Title_Aristocracy</td>\n",
       "      <td>0.097047</td>\n",
       "    </tr>\n",
       "    <tr>\n",
       "      <td>10</td>\n",
       "      <td>Embarked_C</td>\n",
       "      <td>0.168240</td>\n",
       "    </tr>\n",
       "    <tr>\n",
       "      <td>4</td>\n",
       "      <td>Fare</td>\n",
       "      <td>0.257307</td>\n",
       "    </tr>\n",
       "    <tr>\n",
       "      <td>5</td>\n",
       "      <td>Pclass_1</td>\n",
       "      <td>0.285904</td>\n",
       "    </tr>\n",
       "    <tr>\n",
       "      <td>8</td>\n",
       "      <td>Sex_female</td>\n",
       "      <td>0.543351</td>\n",
       "    </tr>\n",
       "  </tbody>\n",
       "</table>\n",
       "</div>"
      ],
      "text/plain": [
       "           col_labels  corr_values\n",
       "9            Sex_male    -0.543351\n",
       "7            Pclass_3    -0.322308\n",
       "12         Embarked_S    -0.155660\n",
       "1                 Age    -0.069809\n",
       "16       Title_Normal    -0.061385\n",
       "17      Title_Rel/Med    -0.038299\n",
       "2               SibSp    -0.035322\n",
       "14          Title_Low    -0.026456\n",
       "3               Parch     0.081629\n",
       "6            Pclass_2     0.093349\n",
       "13  Title_Aristocracy     0.097047\n",
       "10         Embarked_C     0.168240\n",
       "4                Fare     0.257307\n",
       "5            Pclass_1     0.285904\n",
       "8          Sex_female     0.543351"
      ]
     },
     "execution_count": 56,
     "metadata": {},
     "output_type": "execute_result"
    }
   ],
   "source": [
    "corr_df_sel"
   ]
  },
  {
   "cell_type": "code",
   "execution_count": 57,
   "metadata": {
    "hidden": true
   },
   "outputs": [
    {
     "data": {
      "text/plain": [
       "(Index(['col_labels', 'corr_values'], dtype='object'),\n",
       " ['Sex_male',\n",
       "  'Pclass_3',\n",
       "  'Embarked_S',\n",
       "  'Age',\n",
       "  'Title_Normal',\n",
       "  'Title_Rel/Med',\n",
       "  'SibSp',\n",
       "  'Title_Low',\n",
       "  'Parch',\n",
       "  'Pclass_2',\n",
       "  'Title_Aristocracy',\n",
       "  'Embarked_C',\n",
       "  'Fare',\n",
       "  'Pclass_1',\n",
       "  'Sex_female'])"
      ]
     },
     "execution_count": 57,
     "metadata": {},
     "output_type": "execute_result"
    }
   ],
   "source": [
    "corr_df_sel.columns, corr_df_sel.col_labels.tolist()"
   ]
  },
  {
   "cell_type": "raw",
   "metadata": {
    "hidden": true
   },
   "source": [
    "For the moment columns which are ignored are : \n",
    "- Name \n",
    "- PassengerId\n",
    "- EmbarkedQ\n",
    "- Ticket\n",
    "- Cabin"
   ]
  },
  {
   "cell_type": "code",
   "execution_count": 58,
   "metadata": {
    "hidden": true
   },
   "outputs": [
    {
     "data": {
      "image/png": "[encoded data removed]",
      "text/plain": [
       "<Figure size 576x576 with 2 Axes>"
      ]
     },
     "metadata": {
      "needs_background": "light"
     },
     "output_type": "display_data"
    }
   ],
   "source": [
    "cols_to_use = corr_df_sel.col_labels.tolist()\n",
    "\n",
    "selected_col_df = new_df[cols_to_use]\n",
    "corrmat = selected_col_df.corr(method='spearman')\n",
    "f, ax = plt.subplots(figsize=(8, 8))\n",
    "\n",
    "# Draw the heatmap using seaborn\n",
    "sns.heatmap(corrmat, vmax=1., square=True)\n",
    "plt.title(\"Important variables correlation map\", fontsize=15)\n",
    "plt.show()"
   ]
  },
  {
   "cell_type": "code",
   "execution_count": 36,
   "metadata": {
    "hidden": true
   },
   "outputs": [],
   "source": [
    "# how do I explode this graph ??"
   ]
  },
  {
   "cell_type": "code",
   "execution_count": 59,
   "metadata": {
    "hidden": true
   },
   "outputs": [
    {
     "data": {
      "text/html": [
       "<div>\n",
       "<style scoped>\n",
       "    .dataframe tbody tr th:only-of-type {\n",
       "        vertical-align: middle;\n",
       "    }\n",
       "\n",
       "    .dataframe tbody tr th {\n",
       "        vertical-align: top;\n",
       "    }\n",
       "\n",
       "    .dataframe thead th {\n",
       "        text-align: right;\n",
       "    }\n",
       "</style>\n",
       "<table border=\"1\" class=\"dataframe\">\n",
       "  <thead>\n",
       "    <tr style=\"text-align: right;\">\n",
       "      <th></th>\n",
       "      <th>Sex_male</th>\n",
       "      <th>Pclass_3</th>\n",
       "      <th>Embarked_S</th>\n",
       "      <th>Age</th>\n",
       "      <th>Title_Normal</th>\n",
       "      <th>Title_Rel/Med</th>\n",
       "      <th>SibSp</th>\n",
       "      <th>Title_Low</th>\n",
       "      <th>Parch</th>\n",
       "      <th>Pclass_2</th>\n",
       "      <th>Title_Aristocracy</th>\n",
       "      <th>Embarked_C</th>\n",
       "      <th>Fare</th>\n",
       "      <th>Pclass_1</th>\n",
       "      <th>Sex_female</th>\n",
       "    </tr>\n",
       "  </thead>\n",
       "  <tbody>\n",
       "    <tr>\n",
       "      <td>0</td>\n",
       "      <td>1</td>\n",
       "      <td>1</td>\n",
       "      <td>1</td>\n",
       "      <td>22.0</td>\n",
       "      <td>1</td>\n",
       "      <td>0</td>\n",
       "      <td>1</td>\n",
       "      <td>0</td>\n",
       "      <td>0</td>\n",
       "      <td>0</td>\n",
       "      <td>0</td>\n",
       "      <td>0</td>\n",
       "      <td>7.2500</td>\n",
       "      <td>0</td>\n",
       "      <td>0</td>\n",
       "    </tr>\n",
       "    <tr>\n",
       "      <td>1</td>\n",
       "      <td>0</td>\n",
       "      <td>0</td>\n",
       "      <td>0</td>\n",
       "      <td>38.0</td>\n",
       "      <td>1</td>\n",
       "      <td>0</td>\n",
       "      <td>1</td>\n",
       "      <td>0</td>\n",
       "      <td>0</td>\n",
       "      <td>0</td>\n",
       "      <td>0</td>\n",
       "      <td>1</td>\n",
       "      <td>71.2833</td>\n",
       "      <td>1</td>\n",
       "      <td>1</td>\n",
       "    </tr>\n",
       "    <tr>\n",
       "      <td>2</td>\n",
       "      <td>0</td>\n",
       "      <td>1</td>\n",
       "      <td>1</td>\n",
       "      <td>26.0</td>\n",
       "      <td>1</td>\n",
       "      <td>0</td>\n",
       "      <td>0</td>\n",
       "      <td>0</td>\n",
       "      <td>0</td>\n",
       "      <td>0</td>\n",
       "      <td>0</td>\n",
       "      <td>0</td>\n",
       "      <td>7.9250</td>\n",
       "      <td>0</td>\n",
       "      <td>1</td>\n",
       "    </tr>\n",
       "    <tr>\n",
       "      <td>3</td>\n",
       "      <td>0</td>\n",
       "      <td>0</td>\n",
       "      <td>1</td>\n",
       "      <td>35.0</td>\n",
       "      <td>1</td>\n",
       "      <td>0</td>\n",
       "      <td>1</td>\n",
       "      <td>0</td>\n",
       "      <td>0</td>\n",
       "      <td>0</td>\n",
       "      <td>0</td>\n",
       "      <td>0</td>\n",
       "      <td>53.1000</td>\n",
       "      <td>1</td>\n",
       "      <td>1</td>\n",
       "    </tr>\n",
       "    <tr>\n",
       "      <td>4</td>\n",
       "      <td>1</td>\n",
       "      <td>1</td>\n",
       "      <td>1</td>\n",
       "      <td>35.0</td>\n",
       "      <td>1</td>\n",
       "      <td>0</td>\n",
       "      <td>0</td>\n",
       "      <td>0</td>\n",
       "      <td>0</td>\n",
       "      <td>0</td>\n",
       "      <td>0</td>\n",
       "      <td>0</td>\n",
       "      <td>8.0500</td>\n",
       "      <td>0</td>\n",
       "      <td>0</td>\n",
       "    </tr>\n",
       "  </tbody>\n",
       "</table>\n",
       "</div>"
      ],
      "text/plain": [
       "   Sex_male  Pclass_3  Embarked_S   Age  Title_Normal  Title_Rel/Med  SibSp  \\\n",
       "0         1         1           1  22.0             1              0      1   \n",
       "1         0         0           0  38.0             1              0      1   \n",
       "2         0         1           1  26.0             1              0      0   \n",
       "3         0         0           1  35.0             1              0      1   \n",
       "4         1         1           1  35.0             1              0      0   \n",
       "\n",
       "   Title_Low  Parch  Pclass_2  Title_Aristocracy  Embarked_C     Fare  \\\n",
       "0          0      0         0                  0           0   7.2500   \n",
       "1          0      0         0                  0           1  71.2833   \n",
       "2          0      0         0                  0           0   7.9250   \n",
       "3          0      0         0                  0           0  53.1000   \n",
       "4          0      0         0                  0           0   8.0500   \n",
       "\n",
       "   Pclass_1  Sex_female  \n",
       "0         0           0  \n",
       "1         1           1  \n",
       "2         0           1  \n",
       "3         1           1  \n",
       "4         0           0  "
      ]
     },
     "execution_count": 59,
     "metadata": {},
     "output_type": "execute_result"
    }
   ],
   "source": [
    "selected_col_df.head()"
   ]
  },
  {
   "cell_type": "code",
   "execution_count": 60,
   "metadata": {
    "hidden": true
   },
   "outputs": [
    {
     "data": {
      "text/plain": [
       "(891, 15)"
      ]
     },
     "execution_count": 60,
     "metadata": {},
     "output_type": "execute_result"
    }
   ],
   "source": [
    "selected_col_df.shape"
   ]
  },
  {
   "cell_type": "markdown",
   "metadata": {
    "heading_collapsed": true
   },
   "source": [
    "# 2- First models in applicatiton"
   ]
  },
  {
   "cell_type": "raw",
   "metadata": {
    "hidden": true
   },
   "source": [
    "Main model I want to test are :\n",
    "- LogisticRegression\n",
    "- LinearSVC, SVC\n",
    "- RandomForestClassifier\n",
    "- XGBClassifier"
   ]
  },
  {
   "cell_type": "code",
   "execution_count": 42,
   "metadata": {
    "hidden": true
   },
   "outputs": [
    {
     "name": "stdout",
     "output_type": "stream",
     "text": [
      "ekse\n"
     ]
    },
    {
     "name": "stderr",
     "output_type": "stream",
     "text": [
      "/Users/antoine/Documents/Tests/python/ML/venv3/lib/python3.7/site-packages/ipykernel_launcher.py:40: FutureWarning: \n",
      ".ix is deprecated. Please use\n",
      ".loc for label based indexing or\n",
      ".iloc for positional indexing\n",
      "\n",
      "See the documentation here:\n",
      "http://pandas.pydata.org/pandas-docs/stable/user_guide/indexing.html#ix-indexer-is-deprecated\n"
     ]
    }
   ],
   "source": [
    "# Data preprocessing can be done with following method\n",
    "kaggle_df = pd.read_csv(\"train.csv\")\n",
    "y = kaggle_df[[\"Survived\"]]\n",
    "selected_col_df, mean_df_age, title_class_mean_age_dict, cat_col_dum, cols_to_use = prepare_data(kaggle_df, is_train_df=True )"
   ]
  },
  {
   "cell_type": "code",
   "execution_count": 99,
   "metadata": {
    "hidden": true
   },
   "outputs": [],
   "source": [
    "from sklearn.model_selection import train_test_split\n",
    "from sklearn.linear_model import LogisticRegression\n",
    "from sklearn.svm import LinearSVC, SVC\n",
    "from sklearn.ensemble import RandomForestClassifier\n",
    "from xgboost import XGBClassifier\n",
    "from sklearn.model_selection import cross_val_score"
   ]
  },
  {
   "cell_type": "code",
   "execution_count": 44,
   "metadata": {
    "hidden": true
   },
   "outputs": [],
   "source": [
    "x_train, x_test , y_train, y_test = train_test_split(selected_col_df,y, random_state=0)"
   ]
  },
  {
   "cell_type": "code",
   "execution_count": 45,
   "metadata": {
    "hidden": true
   },
   "outputs": [
    {
     "data": {
      "text/plain": [
       "((668, 15), (223, 15))"
      ]
     },
     "execution_count": 45,
     "metadata": {},
     "output_type": "execute_result"
    }
   ],
   "source": [
    "x_train.shape, x_test.shape"
   ]
  },
  {
   "cell_type": "markdown",
   "metadata": {
    "hidden": true
   },
   "source": [
    "## Train Model v0 "
   ]
  },
  {
   "cell_type": "code",
   "execution_count": 46,
   "metadata": {
    "hidden": true
   },
   "outputs": [
    {
     "name": "stderr",
     "output_type": "stream",
     "text": [
      "/Users/antoine/Documents/Tests/python/ML/venv3/lib/python3.7/site-packages/sklearn/svm/base.py:929: ConvergenceWarning: Liblinear failed to converge, increase the number of iterations.\n",
      "  \"the number of iterations.\", ConvergenceWarning)\n",
      "/Users/antoine/Documents/Tests/python/ML/venv3/lib/python3.7/site-packages/sklearn/svm/base.py:193: FutureWarning: The default value of gamma will change from 'auto' to 'scale' in version 0.22 to account better for unscaled features. Set gamma explicitly to 'auto' or 'scale' to avoid this warning.\n",
      "  \"avoid this warning.\", FutureWarning)\n"
     ]
    }
   ],
   "source": [
    "log_reg = LogisticRegression(solver=\"lbfgs\", max_iter=1000 ).fit(x_train,y_train.Survived.values)\n",
    "linear = LinearSVC(max_iter=10000).fit(x_train, y_train.Survived.values)\n",
    "svc = SVC().fit(x_train, y_train.Survived.values)\n",
    "rf = RandomForestClassifier(n_estimators=10).fit(x_train,y_train.Survived.values)\n",
    "xgb = XGBClassifier().fit(x_train,y_train.Survived.values)"
   ]
  },
  {
   "cell_type": "code",
   "execution_count": 47,
   "metadata": {
    "hidden": true
   },
   "outputs": [
    {
     "data": {
      "text/plain": [
       "(0.8368263473053892, 0.8116591928251121)"
      ]
     },
     "execution_count": 47,
     "metadata": {},
     "output_type": "execute_result"
    }
   ],
   "source": [
    "log_reg.score(x_train, y_train), log_reg.score(x_test, y_test)"
   ]
  },
  {
   "cell_type": "code",
   "execution_count": 48,
   "metadata": {
    "hidden": true
   },
   "outputs": [
    {
     "data": {
      "text/plain": [
       "(0.8383233532934131, 0.8026905829596412)"
      ]
     },
     "execution_count": 48,
     "metadata": {},
     "output_type": "execute_result"
    }
   ],
   "source": [
    "linear.score(x_train, y_train), linear.score(x_test, y_test)"
   ]
  },
  {
   "cell_type": "code",
   "execution_count": 49,
   "metadata": {
    "hidden": true
   },
   "outputs": [
    {
     "data": {
      "text/plain": [
       "(0.8937125748502994, 0.7354260089686099)"
      ]
     },
     "execution_count": 49,
     "metadata": {},
     "output_type": "execute_result"
    }
   ],
   "source": [
    "svc.score(x_train, y_train), svc.score(x_test, y_test)"
   ]
  },
  {
   "cell_type": "code",
   "execution_count": 50,
   "metadata": {
    "hidden": true
   },
   "outputs": [
    {
     "data": {
      "text/plain": [
       "(0.9625748502994012, 0.8161434977578476)"
      ]
     },
     "execution_count": 50,
     "metadata": {},
     "output_type": "execute_result"
    }
   ],
   "source": [
    "rf.score(x_train, y_train), rf.score(x_test, y_test)"
   ]
  },
  {
   "cell_type": "code",
   "execution_count": 51,
   "metadata": {
    "hidden": true
   },
   "outputs": [
    {
     "data": {
      "text/plain": [
       "(0.8832335329341318, 0.8430493273542601)"
      ]
     },
     "execution_count": 51,
     "metadata": {},
     "output_type": "execute_result"
    }
   ],
   "source": [
    "xgb.score(x_train, y_train), xgb.score(x_test, y_test)"
   ]
  },
  {
   "cell_type": "code",
   "execution_count": 52,
   "metadata": {
    "collapsed": true,
    "hidden": true
   },
   "outputs": [
    {
     "name": "stdout",
     "output_type": "stream",
     "text": [
      "[0]\tvalidation_0-auc:0.871814\tvalidation_0-error:0.158683\tvalidation_1-auc:0.892129\tvalidation_1-error:0.183857\n",
      "[1]\tvalidation_0-auc:0.871956\tvalidation_0-error:0.158683\tvalidation_1-auc:0.894699\tvalidation_1-error:0.183857\n",
      "[2]\tvalidation_0-auc:0.874442\tvalidation_0-error:0.158683\tvalidation_1-auc:0.896711\tvalidation_1-error:0.183857\n",
      "[3]\tvalidation_0-auc:0.874471\tvalidation_0-error:0.158683\tvalidation_1-auc:0.894827\tvalidation_1-error:0.183857\n",
      "[4]\tvalidation_0-auc:0.874735\tvalidation_0-error:0.158683\tvalidation_1-auc:0.894827\tvalidation_1-error:0.183857\n",
      "[5]\tvalidation_0-auc:0.876527\tvalidation_0-error:0.158683\tvalidation_1-auc:0.894913\tvalidation_1-error:0.183857\n",
      "[6]\tvalidation_0-auc:0.876527\tvalidation_0-error:0.158683\tvalidation_1-auc:0.894913\tvalidation_1-error:0.183857\n",
      "[7]\tvalidation_0-auc:0.876527\tvalidation_0-error:0.158683\tvalidation_1-auc:0.894913\tvalidation_1-error:0.183857\n",
      "[8]\tvalidation_0-auc:0.876612\tvalidation_0-error:0.158683\tvalidation_1-auc:0.894913\tvalidation_1-error:0.183857\n",
      "[9]\tvalidation_0-auc:0.876612\tvalidation_0-error:0.158683\tvalidation_1-auc:0.894913\tvalidation_1-error:0.183857\n",
      "[10]\tvalidation_0-auc:0.878044\tvalidation_0-error:0.158683\tvalidation_1-auc:0.895255\tvalidation_1-error:0.183857\n",
      "[11]\tvalidation_0-auc:0.878531\tvalidation_0-error:0.158683\tvalidation_1-auc:0.895855\tvalidation_1-error:0.183857\n",
      "[12]\tvalidation_0-auc:0.879675\tvalidation_0-error:0.158683\tvalidation_1-auc:0.896797\tvalidation_1-error:0.183857\n",
      "[13]\tvalidation_0-auc:0.880237\tvalidation_0-error:0.155689\tvalidation_1-auc:0.89654\tvalidation_1-error:0.183857\n",
      "[14]\tvalidation_0-auc:0.881254\tvalidation_0-error:0.155689\tvalidation_1-auc:0.893756\tvalidation_1-error:0.183857\n",
      "[15]\tvalidation_0-auc:0.880696\tvalidation_0-error:0.154192\tvalidation_1-auc:0.893371\tvalidation_1-error:0.183857\n",
      "[16]\tvalidation_0-auc:0.880923\tvalidation_0-error:0.154192\tvalidation_1-auc:0.893714\tvalidation_1-error:0.183857\n",
      "[17]\tvalidation_0-auc:0.880658\tvalidation_0-error:0.154192\tvalidation_1-auc:0.892857\tvalidation_1-error:0.183857\n",
      "[18]\tvalidation_0-auc:0.884165\tvalidation_0-error:0.154192\tvalidation_1-auc:0.894613\tvalidation_1-error:0.183857\n",
      "[19]\tvalidation_0-auc:0.884061\tvalidation_0-error:0.154192\tvalidation_1-auc:0.895212\tvalidation_1-error:0.183857\n",
      "[20]\tvalidation_0-auc:0.884496\tvalidation_0-error:0.154192\tvalidation_1-auc:0.894356\tvalidation_1-error:0.183857\n",
      "[21]\tvalidation_0-auc:0.890036\tvalidation_0-error:0.151198\tvalidation_1-auc:0.896968\tvalidation_1-error:0.188341\n",
      "[22]\tvalidation_0-auc:0.89186\tvalidation_0-error:0.151198\tvalidation_1-auc:0.896112\tvalidation_1-error:0.188341\n",
      "[23]\tvalidation_0-auc:0.895009\tvalidation_0-error:0.151198\tvalidation_1-auc:0.894099\tvalidation_1-error:0.188341\n",
      "[24]\tvalidation_0-auc:0.895146\tvalidation_0-error:0.151198\tvalidation_1-auc:0.894228\tvalidation_1-error:0.188341\n",
      "[25]\tvalidation_0-auc:0.896157\tvalidation_0-error:0.149701\tvalidation_1-auc:0.89594\tvalidation_1-error:0.174888\n",
      "[26]\tvalidation_0-auc:0.894744\tvalidation_0-error:0.149701\tvalidation_1-auc:0.895983\tvalidation_1-error:0.170404\n",
      "[27]\tvalidation_0-auc:0.896162\tvalidation_0-error:0.148204\tvalidation_1-auc:0.893671\tvalidation_1-error:0.174888\n",
      "[28]\tvalidation_0-auc:0.896696\tvalidation_0-error:0.148204\tvalidation_1-auc:0.89427\tvalidation_1-error:0.170404\n",
      "[29]\tvalidation_0-auc:0.898884\tvalidation_0-error:0.149701\tvalidation_1-auc:0.892686\tvalidation_1-error:0.170404\n",
      "[30]\tvalidation_0-auc:0.9\tvalidation_0-error:0.148204\tvalidation_1-auc:0.890459\tvalidation_1-error:0.170404\n",
      "[31]\tvalidation_0-auc:0.901607\tvalidation_0-error:0.149701\tvalidation_1-auc:0.891144\tvalidation_1-error:0.170404\n",
      "[32]\tvalidation_0-auc:0.9039\tvalidation_0-error:0.149701\tvalidation_1-auc:0.888618\tvalidation_1-error:0.170404\n",
      "[33]\tvalidation_0-auc:0.905195\tvalidation_0-error:0.149701\tvalidation_1-auc:0.887504\tvalidation_1-error:0.170404\n",
      "[34]\tvalidation_0-auc:0.906064\tvalidation_0-error:0.151198\tvalidation_1-auc:0.886605\tvalidation_1-error:0.179372\n",
      "[35]\tvalidation_0-auc:0.906376\tvalidation_0-error:0.151198\tvalidation_1-auc:0.887547\tvalidation_1-error:0.179372\n",
      "[36]\tvalidation_0-auc:0.907114\tvalidation_0-error:0.151198\tvalidation_1-auc:0.887975\tvalidation_1-error:0.179372\n",
      "[37]\tvalidation_0-auc:0.909472\tvalidation_0-error:0.151198\tvalidation_1-auc:0.887975\tvalidation_1-error:0.179372\n",
      "[38]\tvalidation_0-auc:0.910957\tvalidation_0-error:0.151198\tvalidation_1-auc:0.88729\tvalidation_1-error:0.179372\n",
      "[39]\tvalidation_0-auc:0.912966\tvalidation_0-error:0.149701\tvalidation_1-auc:0.883907\tvalidation_1-error:0.165919\n",
      "[40]\tvalidation_0-auc:0.913538\tvalidation_0-error:0.149701\tvalidation_1-auc:0.881595\tvalidation_1-error:0.165919\n",
      "[41]\tvalidation_0-auc:0.914426\tvalidation_0-error:0.149701\tvalidation_1-auc:0.881466\tvalidation_1-error:0.165919\n",
      "[42]\tvalidation_0-auc:0.914776\tvalidation_0-error:0.151198\tvalidation_1-auc:0.880824\tvalidation_1-error:0.170404\n",
      "[43]\tvalidation_0-auc:0.914941\tvalidation_0-error:0.151198\tvalidation_1-auc:0.882194\tvalidation_1-error:0.170404\n",
      "[44]\tvalidation_0-auc:0.916359\tvalidation_0-error:0.149701\tvalidation_1-auc:0.883265\tvalidation_1-error:0.165919\n",
      "[45]\tvalidation_0-auc:0.916681\tvalidation_0-error:0.149701\tvalidation_1-auc:0.88532\tvalidation_1-error:0.165919\n",
      "[46]\tvalidation_0-auc:0.918642\tvalidation_0-error:0.149701\tvalidation_1-auc:0.886519\tvalidation_1-error:0.165919\n",
      "[47]\tvalidation_0-auc:0.918553\tvalidation_0-error:0.149701\tvalidation_1-auc:0.884335\tvalidation_1-error:0.165919\n",
      "[48]\tvalidation_0-auc:0.918439\tvalidation_0-error:0.149701\tvalidation_1-auc:0.88425\tvalidation_1-error:0.165919\n",
      "[49]\tvalidation_0-auc:0.918912\tvalidation_0-error:0.149701\tvalidation_1-auc:0.883051\tvalidation_1-error:0.165919\n",
      "[50]\tvalidation_0-auc:0.919375\tvalidation_0-error:0.149701\tvalidation_1-auc:0.884078\tvalidation_1-error:0.165919\n",
      "[51]\tvalidation_0-auc:0.921427\tvalidation_0-error:0.149701\tvalidation_1-auc:0.885363\tvalidation_1-error:0.165919\n",
      "[52]\tvalidation_0-auc:0.922263\tvalidation_0-error:0.148204\tvalidation_1-auc:0.886477\tvalidation_1-error:0.170404\n",
      "[53]\tvalidation_0-auc:0.922745\tvalidation_0-error:0.148204\tvalidation_1-auc:0.885963\tvalidation_1-error:0.170404\n",
      "[54]\tvalidation_0-auc:0.922849\tvalidation_0-error:0.148204\tvalidation_1-auc:0.885706\tvalidation_1-error:0.170404\n",
      "[55]\tvalidation_0-auc:0.92344\tvalidation_0-error:0.148204\tvalidation_1-auc:0.886477\tvalidation_1-error:0.170404\n",
      "[56]\tvalidation_0-auc:0.92361\tvalidation_0-error:0.148204\tvalidation_1-auc:0.886305\tvalidation_1-error:0.170404\n",
      "[57]\tvalidation_0-auc:0.923818\tvalidation_0-error:0.140719\tvalidation_1-auc:0.886305\tvalidation_1-error:0.165919\n",
      "[58]\tvalidation_0-auc:0.92423\tvalidation_0-error:0.140719\tvalidation_1-auc:0.883907\tvalidation_1-error:0.165919\n",
      "[59]\tvalidation_0-auc:0.925066\tvalidation_0-error:0.140719\tvalidation_1-auc:0.885192\tvalidation_1-error:0.165919\n",
      "[60]\tvalidation_0-auc:0.925066\tvalidation_0-error:0.139222\tvalidation_1-auc:0.885106\tvalidation_1-error:0.165919\n",
      "[61]\tvalidation_0-auc:0.925213\tvalidation_0-error:0.140719\tvalidation_1-auc:0.885492\tvalidation_1-error:0.165919\n",
      "[62]\tvalidation_0-auc:0.926527\tvalidation_0-error:0.140719\tvalidation_1-auc:0.885663\tvalidation_1-error:0.165919\n",
      "[63]\tvalidation_0-auc:0.926621\tvalidation_0-error:0.137725\tvalidation_1-auc:0.885577\tvalidation_1-error:0.165919\n",
      "[64]\tvalidation_0-auc:0.9275\tvalidation_0-error:0.134731\tvalidation_1-auc:0.88592\tvalidation_1-error:0.165919\n",
      "[65]\tvalidation_0-auc:0.927898\tvalidation_0-error:0.136228\tvalidation_1-auc:0.884635\tvalidation_1-error:0.156951\n",
      "[66]\tvalidation_0-auc:0.928096\tvalidation_0-error:0.134731\tvalidation_1-auc:0.884121\tvalidation_1-error:0.156951\n",
      "[67]\tvalidation_0-auc:0.929084\tvalidation_0-error:0.136228\tvalidation_1-auc:0.882708\tvalidation_1-error:0.156951\n",
      "[68]\tvalidation_0-auc:0.929131\tvalidation_0-error:0.136228\tvalidation_1-auc:0.884764\tvalidation_1-error:0.156951\n",
      "[69]\tvalidation_0-auc:0.929169\tvalidation_0-error:0.136228\tvalidation_1-auc:0.884078\tvalidation_1-error:0.156951\n",
      "[70]\tvalidation_0-auc:0.9295\tvalidation_0-error:0.136228\tvalidation_1-auc:0.883821\tvalidation_1-error:0.156951\n",
      "[71]\tvalidation_0-auc:0.930095\tvalidation_0-error:0.136228\tvalidation_1-auc:0.882537\tvalidation_1-error:0.156951\n",
      "[72]\tvalidation_0-auc:0.930861\tvalidation_0-error:0.136228\tvalidation_1-auc:0.885877\tvalidation_1-error:0.161435\n"
     ]
    },
    {
     "name": "stdout",
     "output_type": "stream",
     "text": [
      "[73]\tvalidation_0-auc:0.931514\tvalidation_0-error:0.134731\tvalidation_1-auc:0.885963\tvalidation_1-error:0.156951\n",
      "[74]\tvalidation_0-auc:0.931901\tvalidation_0-error:0.134731\tvalidation_1-auc:0.884849\tvalidation_1-error:0.161435\n",
      "[75]\tvalidation_0-auc:0.932128\tvalidation_0-error:0.134731\tvalidation_1-auc:0.884507\tvalidation_1-error:0.161435\n",
      "[76]\tvalidation_0-auc:0.932185\tvalidation_0-error:0.134731\tvalidation_1-auc:0.884335\tvalidation_1-error:0.161435\n",
      "[77]\tvalidation_0-auc:0.932478\tvalidation_0-error:0.137725\tvalidation_1-auc:0.884335\tvalidation_1-error:0.161435\n",
      "[78]\tvalidation_0-auc:0.932431\tvalidation_0-error:0.137725\tvalidation_1-auc:0.884592\tvalidation_1-error:0.156951\n",
      "[79]\tvalidation_0-auc:0.932846\tvalidation_0-error:0.136228\tvalidation_1-auc:0.884421\tvalidation_1-error:0.152466\n",
      "[80]\tvalidation_0-auc:0.93278\tvalidation_0-error:0.136228\tvalidation_1-auc:0.884335\tvalidation_1-error:0.156951\n",
      "[81]\tvalidation_0-auc:0.932875\tvalidation_0-error:0.134731\tvalidation_1-auc:0.884592\tvalidation_1-error:0.161435\n",
      "[82]\tvalidation_0-auc:0.933518\tvalidation_0-error:0.133234\tvalidation_1-auc:0.883051\tvalidation_1-error:0.156951\n",
      "[83]\tvalidation_0-auc:0.934326\tvalidation_0-error:0.128743\tvalidation_1-auc:0.882879\tvalidation_1-error:0.156951\n",
      "[84]\tvalidation_0-auc:0.934931\tvalidation_0-error:0.128743\tvalidation_1-auc:0.883222\tvalidation_1-error:0.156951\n",
      "[85]\tvalidation_0-auc:0.934988\tvalidation_0-error:0.13024\tvalidation_1-auc:0.883393\tvalidation_1-error:0.156951\n",
      "[86]\tvalidation_0-auc:0.93513\tvalidation_0-error:0.13024\tvalidation_1-auc:0.883393\tvalidation_1-error:0.156951\n",
      "[87]\tvalidation_0-auc:0.935092\tvalidation_0-error:0.13024\tvalidation_1-auc:0.883479\tvalidation_1-error:0.156951\n",
      "[88]\tvalidation_0-auc:0.935375\tvalidation_0-error:0.13024\tvalidation_1-auc:0.884421\tvalidation_1-error:0.156951\n",
      "[89]\tvalidation_0-auc:0.936141\tvalidation_0-error:0.131737\tvalidation_1-auc:0.883993\tvalidation_1-error:0.156951\n",
      "[90]\tvalidation_0-auc:0.93668\tvalidation_0-error:0.13024\tvalidation_1-auc:0.88365\tvalidation_1-error:0.156951\n",
      "[91]\tvalidation_0-auc:0.937086\tvalidation_0-error:0.127246\tvalidation_1-auc:0.884078\tvalidation_1-error:0.152466\n",
      "[92]\tvalidation_0-auc:0.937597\tvalidation_0-error:0.124251\tvalidation_1-auc:0.883565\tvalidation_1-error:0.152466\n",
      "[93]\tvalidation_0-auc:0.937597\tvalidation_0-error:0.125749\tvalidation_1-auc:0.883393\tvalidation_1-error:0.152466\n",
      "[94]\tvalidation_0-auc:0.938268\tvalidation_0-error:0.124251\tvalidation_1-auc:0.883479\tvalidation_1-error:0.152466\n",
      "[95]\tvalidation_0-auc:0.938916\tvalidation_0-error:0.118263\tvalidation_1-auc:0.882194\tvalidation_1-error:0.156951\n",
      "[96]\tvalidation_0-auc:0.93902\tvalidation_0-error:0.118263\tvalidation_1-auc:0.88168\tvalidation_1-error:0.156951\n",
      "[97]\tvalidation_0-auc:0.939511\tvalidation_0-error:0.116766\tvalidation_1-auc:0.881937\tvalidation_1-error:0.152466\n",
      "[98]\tvalidation_0-auc:0.940069\tvalidation_0-error:0.118263\tvalidation_1-auc:0.881595\tvalidation_1-error:0.156951\n",
      "[99]\tvalidation_0-auc:0.940145\tvalidation_0-error:0.116766\tvalidation_1-auc:0.88168\tvalidation_1-error:0.156951\n",
      "CPU times: user 155 ms, sys: 19.8 ms, total: 175 ms\n",
      "Wall time: 160 ms\n"
     ]
    },
    {
     "name": "stderr",
     "output_type": "stream",
     "text": [
      "/Users/antoine/Documents/Tests/python/ML/venv3/lib/python3.7/site-packages/sklearn/preprocessing/label.py:219: DataConversionWarning: A column-vector y was passed when a 1d array was expected. Please change the shape of y to (n_samples, ), for example using ravel().\n",
      "  y = column_or_1d(y, warn=True)\n",
      "/Users/antoine/Documents/Tests/python/ML/venv3/lib/python3.7/site-packages/sklearn/preprocessing/label.py:252: DataConversionWarning: A column-vector y was passed when a 1d array was expected. Please change the shape of y to (n_samples, ), for example using ravel().\n",
      "  y = column_or_1d(y, warn=True)\n"
     ]
    },
    {
     "data": {
      "text/plain": [
       "XGBClassifier(base_score=0.5, booster='gbtree', colsample_bylevel=1,\n",
       "              colsample_bynode=1, colsample_bytree=1, gamma=0,\n",
       "              learning_rate=0.1, max_delta_step=0, max_depth=3,\n",
       "              min_child_weight=1, missing=None, n_estimators=100, n_jobs=1,\n",
       "              nthread=None, objective='binary:logistic', random_state=0,\n",
       "              reg_alpha=0, reg_lambda=1, scale_pos_weight=1, seed=None,\n",
       "              silent=None, subsample=1, verbosity=1)"
      ]
     },
     "execution_count": 52,
     "metadata": {},
     "output_type": "execute_result"
    }
   ],
   "source": [
    "eval_set = [(x_train, y_train), (x_test, y_test)]\n",
    "eval_metric = [\"auc\",\"error\"]\n",
    "%time xgb.fit(x_train, y_train, eval_metric=eval_metric, eval_set=eval_set, verbose=True)"
   ]
  },
  {
   "cell_type": "raw",
   "metadata": {
    "hidden": true
   },
   "source": [
    "First conclusion, Logistic regression seems better than LinearSVC on test data\n",
    "- Next step check regulation impact\n",
    "- GridSearch on models parameters"
   ]
  },
  {
   "cell_type": "code",
   "execution_count": 53,
   "metadata": {
    "hidden": true
   },
   "outputs": [
    {
     "data": {
      "image/png": "[encoded data removed]",
      "text/plain": [
       "<Figure size 432x288 with 1 Axes>"
      ]
     },
     "metadata": {
      "needs_background": "light"
     },
     "output_type": "display_data"
    }
   ],
   "source": [
    "plt.boxplot(x_train.values, manage_ticks=False)\n",
    "#plt.yscale(\"symlog\")\n",
    "plt.show()"
   ]
  },
  {
   "cell_type": "code",
   "execution_count": 54,
   "metadata": {
    "hidden": true
   },
   "outputs": [
    {
     "data": {
      "text/plain": [
       "Index(['Sex_male', 'Pclass_3', 'Embarked_S', 'Age', 'Title_Normal',\n",
       "       'Title_Rel/Med', 'SibSp', 'Title_Low', 'Parch', 'Pclass_2',\n",
       "       'Title_Aristocracy', 'Embarked_C', 'Fare', 'Pclass_1', 'Sex_female'],\n",
       "      dtype='object')"
      ]
     },
     "execution_count": 54,
     "metadata": {},
     "output_type": "execute_result"
    }
   ],
   "source": [
    "x_train.columns"
   ]
  },
  {
   "cell_type": "code",
   "execution_count": 55,
   "metadata": {
    "hidden": true
   },
   "outputs": [],
   "source": [
    "from sklearn.preprocessing import MinMaxScaler"
   ]
  },
  {
   "cell_type": "code",
   "execution_count": 56,
   "metadata": {
    "hidden": true
   },
   "outputs": [],
   "source": [
    "scaler = MinMaxScaler()\n",
    "scaler.fit(x_train)\n",
    "x_trained_scaled = scaler.transform(x_train)\n",
    "x_test_scaled = scaler.transform(x_test)"
   ]
  },
  {
   "cell_type": "code",
   "execution_count": 57,
   "metadata": {
    "hidden": true
   },
   "outputs": [
    {
     "data": {
      "image/png": "[encoded data removed]",
      "text/plain": [
       "<Figure size 432x288 with 1 Axes>"
      ]
     },
     "metadata": {
      "needs_background": "light"
     },
     "output_type": "display_data"
    }
   ],
   "source": [
    "plt.boxplot(x_trained_scaled, manage_ticks=False)\n",
    "plt.show()"
   ]
  },
  {
   "cell_type": "code",
   "execution_count": 58,
   "metadata": {
    "hidden": true
   },
   "outputs": [
    {
     "name": "stderr",
     "output_type": "stream",
     "text": [
      "/Users/antoine/Documents/Tests/python/ML/venv3/lib/python3.7/site-packages/sklearn/linear_model/logistic.py:432: FutureWarning: Default solver will be changed to 'lbfgs' in 0.22. Specify a solver to silence this warning.\n",
      "  FutureWarning)\n",
      "/Users/antoine/Documents/Tests/python/ML/venv3/lib/python3.7/site-packages/sklearn/svm/base.py:193: FutureWarning: The default value of gamma will change from 'auto' to 'scale' in version 0.22 to account better for unscaled features. Set gamma explicitly to 'auto' or 'scale' to avoid this warning.\n",
      "  \"avoid this warning.\", FutureWarning)\n"
     ]
    }
   ],
   "source": [
    "log_reg_sc = LogisticRegression().fit(x_trained_scaled, y_train.Survived.values)\n",
    "linear_sc = LinearSVC().fit(x_trained_scaled, y_train.Survived.values)\n",
    "svm_sc = SVC().fit(x_trained_scaled, y_train.Survived.values)\n",
    "rf_sc = RandomForestClassifier(n_estimators=10).fit(x_train,y_train.Survived.values)"
   ]
  },
  {
   "cell_type": "code",
   "execution_count": 59,
   "metadata": {
    "hidden": true
   },
   "outputs": [
    {
     "data": {
      "text/plain": [
       "(0.8398203592814372,\n",
       " 0.8161434977578476,\n",
       " 0.8368263473053892,\n",
       " 0.8116591928251121)"
      ]
     },
     "execution_count": 59,
     "metadata": {},
     "output_type": "execute_result"
    }
   ],
   "source": [
    "log_reg_sc.score(x_trained_scaled, y_train), log_reg_sc.score(x_test_scaled,y_test),\\\n",
    "log_reg.score(x_train, y_train), log_reg.score(x_test, y_test)"
   ]
  },
  {
   "cell_type": "code",
   "execution_count": 60,
   "metadata": {
    "hidden": true
   },
   "outputs": [
    {
     "data": {
      "text/plain": [
       "(0.8398203592814372,\n",
       " 0.8116591928251121,\n",
       " 0.8383233532934131,\n",
       " 0.8026905829596412)"
      ]
     },
     "execution_count": 60,
     "metadata": {},
     "output_type": "execute_result"
    }
   ],
   "source": [
    "linear_sc.score(x_trained_scaled, y_train), linear_sc.score(x_test_scaled,y_test),\\\n",
    "linear.score(x_train, y_train), linear.score(x_test, y_test)"
   ]
  },
  {
   "cell_type": "code",
   "execution_count": 61,
   "metadata": {
    "hidden": true
   },
   "outputs": [
    {
     "data": {
      "text/plain": [
       "(0.811377245508982, 0.7802690582959642, 0.8937125748502994, 0.7354260089686099)"
      ]
     },
     "execution_count": 61,
     "metadata": {},
     "output_type": "execute_result"
    }
   ],
   "source": [
    "svm_sc.score(x_trained_scaled, y_train), svm_sc.score(x_test_scaled,y_test),\\\n",
    "svc.score(x_train, y_train), svc.score(x_test, y_test)"
   ]
  },
  {
   "cell_type": "code",
   "execution_count": 62,
   "metadata": {
    "hidden": true
   },
   "outputs": [
    {
     "data": {
      "text/plain": [
       "(0.7170658682634731,\n",
       " 0.7354260089686099,\n",
       " 0.9625748502994012,\n",
       " 0.8161434977578476)"
      ]
     },
     "execution_count": 62,
     "metadata": {},
     "output_type": "execute_result"
    }
   ],
   "source": [
    "rf_sc.score(x_trained_scaled, y_train), rf_sc.score(x_test_scaled,y_test),\\\n",
    "rf.score(x_train, y_train), rf.score(x_test,y_test)"
   ]
  },
  {
   "cell_type": "raw",
   "metadata": {
    "hidden": true
   },
   "source": [
    "Regulation seems to have no impact on logReg scores\n",
    "Little improvement on svm model"
   ]
  },
  {
   "cell_type": "markdown",
   "metadata": {
    "heading_collapsed": true
   },
   "source": [
    "# 3- Grid search"
   ]
  },
  {
   "cell_type": "raw",
   "metadata": {
    "hidden": true
   },
   "source": [
    "first on LogisticRegression with: penalty, C, max_iter no regulation on data\n",
    "LinearSVC with penalty, C, max_iter no regulation on data\n",
    "SVC with: C, gamma regulation on data\n",
    "RandomForest with: no regulation on data"
   ]
  },
  {
   "cell_type": "code",
   "execution_count": 63,
   "metadata": {
    "hidden": true
   },
   "outputs": [],
   "source": [
    "from sklearn.model_selection import GridSearchCV\n",
    "import warnings\n",
    "warnings.filterwarnings(\"ignore\", category=FutureWarning)"
   ]
  },
  {
   "cell_type": "markdown",
   "metadata": {
    "hidden": true
   },
   "source": [
    "## LogisticRegression"
   ]
  },
  {
   "cell_type": "code",
   "execution_count": 64,
   "metadata": {
    "hidden": true
   },
   "outputs": [
    {
     "data": {
      "text/plain": [
       "GridSearchCV(cv=3, error_score='raise-deprecating',\n",
       "             estimator=LogisticRegression(C=1.0, class_weight=None, dual=False,\n",
       "                                          fit_intercept=True,\n",
       "                                          intercept_scaling=1, l1_ratio=None,\n",
       "                                          max_iter=100, multi_class='warn',\n",
       "                                          n_jobs=None, penalty='l2',\n",
       "                                          random_state=None, solver='warn',\n",
       "                                          tol=0.0001, verbose=0,\n",
       "                                          warm_start=False),\n",
       "             iid='warn', n_jobs=None,\n",
       "             param_grid={'C': [0.001, 0.01, 0.1, 1, 10, 100],\n",
       "                         'max_iter': [1000, 10000], 'penalty': ['l1', 'l2']},\n",
       "             pre_dispatch='2*n_jobs', refit=True, return_train_score=False,\n",
       "             scoring=None, verbose=0)"
      ]
     },
     "execution_count": 64,
     "metadata": {},
     "output_type": "execute_result"
    }
   ],
   "source": [
    "log_reg_grid = {'penalty': [\"l1\", \"l2\"], 'C':[0.001, 0.01, 0.1, 1, 10,100], \"max_iter\":[1000,10000]}\n",
    "log_reg_gs = GridSearchCV(LogisticRegression(), log_reg_grid, cv=3)\n",
    "log_reg_gs.fit(x_train, y_train.Survived.values)"
   ]
  },
  {
   "cell_type": "code",
   "execution_count": 65,
   "metadata": {
    "hidden": true
   },
   "outputs": [
    {
     "data": {
      "text/plain": [
       "{'C': 1, 'max_iter': 1000, 'penalty': 'l1'}"
      ]
     },
     "execution_count": 65,
     "metadata": {},
     "output_type": "execute_result"
    }
   ],
   "source": [
    "log_reg_gs.best_params_"
   ]
  },
  {
   "cell_type": "code",
   "execution_count": 66,
   "metadata": {
    "hidden": true
   },
   "outputs": [
    {
     "data": {
      "text/plain": [
       "(0.8233532934131736, 0.8368263473053892, 0.8116591928251121)"
      ]
     },
     "execution_count": 66,
     "metadata": {},
     "output_type": "execute_result"
    }
   ],
   "source": [
    "log_reg_gs.best_score_, log_reg_gs.score(x_train, y_train), log_reg_gs.score(x_test,y_test)"
   ]
  },
  {
   "cell_type": "raw",
   "metadata": {
    "hidden": true
   },
   "source": [
    "Best result for LinearSVC are 0.81 - 0.84"
   ]
  },
  {
   "cell_type": "markdown",
   "metadata": {
    "heading_collapsed": true,
    "hidden": true
   },
   "source": [
    "## LinearSVC"
   ]
  },
  {
   "cell_type": "code",
   "execution_count": 67,
   "metadata": {
    "hidden": true
   },
   "outputs": [
    {
     "name": "stderr",
     "output_type": "stream",
     "text": [
      "/Users/antoine/Documents/Tests/python/ML/venv3/lib/python3.7/site-packages/sklearn/svm/base.py:929: ConvergenceWarning: Liblinear failed to converge, increase the number of iterations.\n",
      "  \"the number of iterations.\", ConvergenceWarning)\n",
      "/Users/antoine/Documents/Tests/python/ML/venv3/lib/python3.7/site-packages/sklearn/svm/base.py:929: ConvergenceWarning: Liblinear failed to converge, increase the number of iterations.\n",
      "  \"the number of iterations.\", ConvergenceWarning)\n",
      "/Users/antoine/Documents/Tests/python/ML/venv3/lib/python3.7/site-packages/sklearn/svm/base.py:929: ConvergenceWarning: Liblinear failed to converge, increase the number of iterations.\n",
      "  \"the number of iterations.\", ConvergenceWarning)\n",
      "/Users/antoine/Documents/Tests/python/ML/venv3/lib/python3.7/site-packages/sklearn/svm/base.py:929: ConvergenceWarning: Liblinear failed to converge, increase the number of iterations.\n",
      "  \"the number of iterations.\", ConvergenceWarning)\n"
     ]
    },
    {
     "data": {
      "text/plain": [
       "GridSearchCV(cv=3, error_score='raise-deprecating',\n",
       "             estimator=LinearSVC(C=1.0, class_weight=None, dual=False,\n",
       "                                 fit_intercept=True, intercept_scaling=1,\n",
       "                                 loss='squared_hinge', max_iter=1000,\n",
       "                                 multi_class='ovr', penalty='l2',\n",
       "                                 random_state=None, tol=0.0001, verbose=0),\n",
       "             iid='warn', n_jobs=None,\n",
       "             param_grid={'C': [0.001, 0.01, 0.1, 1, 10, 100],\n",
       "                         'max_iter': [1000, 10000], 'penalty': ['l1', 'l2']},\n",
       "             pre_dispatch='2*n_jobs', refit=True, return_train_score=False,\n",
       "             scoring=None, verbose=0)"
      ]
     },
     "execution_count": 67,
     "metadata": {},
     "output_type": "execute_result"
    }
   ],
   "source": [
    "gris_linSVC = {'penalty': [\"l1\", \"l2\"], 'C':[0.001, 0.01, 0.1, 1, 10,100], \"max_iter\":[1000,10000]}\n",
    "gs_linSVC = GridSearchCV(LinearSVC(dual=False), gris_linSVC, cv=3)\n",
    "gs_linSVC.fit(x_train, y_train.Survived.values)"
   ]
  },
  {
   "cell_type": "code",
   "execution_count": 68,
   "metadata": {
    "hidden": true
   },
   "outputs": [
    {
     "data": {
      "text/plain": [
       "{'C': 1, 'max_iter': 1000, 'penalty': 'l2'}"
      ]
     },
     "execution_count": 68,
     "metadata": {},
     "output_type": "execute_result"
    }
   ],
   "source": [
    "gs_linSVC.best_params_"
   ]
  },
  {
   "cell_type": "code",
   "execution_count": 69,
   "metadata": {
    "hidden": true
   },
   "outputs": [
    {
     "data": {
      "text/plain": [
       "(0.8323353293413174, 0.8383233532934131, 0.8116591928251121)"
      ]
     },
     "execution_count": 69,
     "metadata": {},
     "output_type": "execute_result"
    }
   ],
   "source": [
    "gs_linSVC.best_score_, gs_linSVC.score(x_train, y_train.Survived.values), gs_linSVC.score(x_test,y_test.Survived.values)"
   ]
  },
  {
   "cell_type": "raw",
   "metadata": {
    "hidden": true
   },
   "source": [
    "Best result for LinearSVC are 0.82 - 0.85"
   ]
  },
  {
   "cell_type": "code",
   "execution_count": 70,
   "metadata": {
    "collapsed": true,
    "hidden": true
   },
   "outputs": [
    {
     "data": {
      "text/html": [
       "<div>\n",
       "<style scoped>\n",
       "    .dataframe tbody tr th:only-of-type {\n",
       "        vertical-align: middle;\n",
       "    }\n",
       "\n",
       "    .dataframe tbody tr th {\n",
       "        vertical-align: top;\n",
       "    }\n",
       "\n",
       "    .dataframe thead th {\n",
       "        text-align: right;\n",
       "    }\n",
       "</style>\n",
       "<table border=\"1\" class=\"dataframe\">\n",
       "  <thead>\n",
       "    <tr style=\"text-align: right;\">\n",
       "      <th></th>\n",
       "      <th>mean_fit_time</th>\n",
       "      <th>std_fit_time</th>\n",
       "      <th>mean_score_time</th>\n",
       "      <th>std_score_time</th>\n",
       "      <th>param_C</th>\n",
       "      <th>param_max_iter</th>\n",
       "      <th>param_penalty</th>\n",
       "      <th>params</th>\n",
       "      <th>split0_test_score</th>\n",
       "      <th>split1_test_score</th>\n",
       "      <th>split2_test_score</th>\n",
       "      <th>mean_test_score</th>\n",
       "      <th>std_test_score</th>\n",
       "      <th>rank_test_score</th>\n",
       "    </tr>\n",
       "  </thead>\n",
       "  <tbody>\n",
       "    <tr>\n",
       "      <td>0</td>\n",
       "      <td>0.002118</td>\n",
       "      <td>0.000170</td>\n",
       "      <td>0.000835</td>\n",
       "      <td>0.000075</td>\n",
       "      <td>0.001</td>\n",
       "      <td>1000</td>\n",
       "      <td>l1</td>\n",
       "      <td>{'C': 0.001, 'max_iter': 1000, 'penalty': 'l1'}</td>\n",
       "      <td>0.659193</td>\n",
       "      <td>0.663677</td>\n",
       "      <td>0.666667</td>\n",
       "      <td>0.663174</td>\n",
       "      <td>0.003071</td>\n",
       "      <td>23</td>\n",
       "    </tr>\n",
       "    <tr>\n",
       "      <td>1</td>\n",
       "      <td>0.002264</td>\n",
       "      <td>0.000115</td>\n",
       "      <td>0.000813</td>\n",
       "      <td>0.000018</td>\n",
       "      <td>0.001</td>\n",
       "      <td>1000</td>\n",
       "      <td>l2</td>\n",
       "      <td>{'C': 0.001, 'max_iter': 1000, 'penalty': 'l2'}</td>\n",
       "      <td>0.699552</td>\n",
       "      <td>0.757848</td>\n",
       "      <td>0.720721</td>\n",
       "      <td>0.726048</td>\n",
       "      <td>0.024112</td>\n",
       "      <td>21</td>\n",
       "    </tr>\n",
       "    <tr>\n",
       "      <td>2</td>\n",
       "      <td>0.001682</td>\n",
       "      <td>0.000097</td>\n",
       "      <td>0.000737</td>\n",
       "      <td>0.000061</td>\n",
       "      <td>0.001</td>\n",
       "      <td>10000</td>\n",
       "      <td>l1</td>\n",
       "      <td>{'C': 0.001, 'max_iter': 10000, 'penalty': 'l1'}</td>\n",
       "      <td>0.659193</td>\n",
       "      <td>0.663677</td>\n",
       "      <td>0.666667</td>\n",
       "      <td>0.663174</td>\n",
       "      <td>0.003071</td>\n",
       "      <td>23</td>\n",
       "    </tr>\n",
       "    <tr>\n",
       "      <td>3</td>\n",
       "      <td>0.002426</td>\n",
       "      <td>0.000270</td>\n",
       "      <td>0.001112</td>\n",
       "      <td>0.000161</td>\n",
       "      <td>0.001</td>\n",
       "      <td>10000</td>\n",
       "      <td>l2</td>\n",
       "      <td>{'C': 0.001, 'max_iter': 10000, 'penalty': 'l2'}</td>\n",
       "      <td>0.699552</td>\n",
       "      <td>0.757848</td>\n",
       "      <td>0.720721</td>\n",
       "      <td>0.726048</td>\n",
       "      <td>0.024112</td>\n",
       "      <td>21</td>\n",
       "    </tr>\n",
       "    <tr>\n",
       "      <td>4</td>\n",
       "      <td>0.002053</td>\n",
       "      <td>0.000270</td>\n",
       "      <td>0.001031</td>\n",
       "      <td>0.000176</td>\n",
       "      <td>0.01</td>\n",
       "      <td>1000</td>\n",
       "      <td>l1</td>\n",
       "      <td>{'C': 0.01, 'max_iter': 1000, 'penalty': 'l1'}</td>\n",
       "      <td>0.744395</td>\n",
       "      <td>0.802691</td>\n",
       "      <td>0.788288</td>\n",
       "      <td>0.778443</td>\n",
       "      <td>0.024809</td>\n",
       "      <td>19</td>\n",
       "    </tr>\n",
       "    <tr>\n",
       "      <td>5</td>\n",
       "      <td>0.002281</td>\n",
       "      <td>0.000474</td>\n",
       "      <td>0.000746</td>\n",
       "      <td>0.000088</td>\n",
       "      <td>0.01</td>\n",
       "      <td>1000</td>\n",
       "      <td>l2</td>\n",
       "      <td>{'C': 0.01, 'max_iter': 1000, 'penalty': 'l2'}</td>\n",
       "      <td>0.780269</td>\n",
       "      <td>0.816143</td>\n",
       "      <td>0.828829</td>\n",
       "      <td>0.808383</td>\n",
       "      <td>0.020564</td>\n",
       "      <td>17</td>\n",
       "    </tr>\n",
       "    <tr>\n",
       "      <td>6</td>\n",
       "      <td>0.002177</td>\n",
       "      <td>0.000185</td>\n",
       "      <td>0.000907</td>\n",
       "      <td>0.000160</td>\n",
       "      <td>0.01</td>\n",
       "      <td>10000</td>\n",
       "      <td>l1</td>\n",
       "      <td>{'C': 0.01, 'max_iter': 10000, 'penalty': 'l1'}</td>\n",
       "      <td>0.744395</td>\n",
       "      <td>0.802691</td>\n",
       "      <td>0.788288</td>\n",
       "      <td>0.778443</td>\n",
       "      <td>0.024809</td>\n",
       "      <td>19</td>\n",
       "    </tr>\n",
       "    <tr>\n",
       "      <td>7</td>\n",
       "      <td>0.002306</td>\n",
       "      <td>0.000252</td>\n",
       "      <td>0.000739</td>\n",
       "      <td>0.000017</td>\n",
       "      <td>0.01</td>\n",
       "      <td>10000</td>\n",
       "      <td>l2</td>\n",
       "      <td>{'C': 0.01, 'max_iter': 10000, 'penalty': 'l2'}</td>\n",
       "      <td>0.780269</td>\n",
       "      <td>0.816143</td>\n",
       "      <td>0.828829</td>\n",
       "      <td>0.808383</td>\n",
       "      <td>0.020564</td>\n",
       "      <td>17</td>\n",
       "    </tr>\n",
       "    <tr>\n",
       "      <td>8</td>\n",
       "      <td>0.002887</td>\n",
       "      <td>0.000820</td>\n",
       "      <td>0.000850</td>\n",
       "      <td>0.000018</td>\n",
       "      <td>0.1</td>\n",
       "      <td>1000</td>\n",
       "      <td>l1</td>\n",
       "      <td>{'C': 0.1, 'max_iter': 1000, 'penalty': 'l1'}</td>\n",
       "      <td>0.798206</td>\n",
       "      <td>0.825112</td>\n",
       "      <td>0.860360</td>\n",
       "      <td>0.827844</td>\n",
       "      <td>0.025438</td>\n",
       "      <td>15</td>\n",
       "    </tr>\n",
       "    <tr>\n",
       "      <td>9</td>\n",
       "      <td>0.002252</td>\n",
       "      <td>0.000017</td>\n",
       "      <td>0.000705</td>\n",
       "      <td>0.000026</td>\n",
       "      <td>0.1</td>\n",
       "      <td>1000</td>\n",
       "      <td>l2</td>\n",
       "      <td>{'C': 0.1, 'max_iter': 1000, 'penalty': 'l2'}</td>\n",
       "      <td>0.811659</td>\n",
       "      <td>0.820628</td>\n",
       "      <td>0.860360</td>\n",
       "      <td>0.830838</td>\n",
       "      <td>0.021148</td>\n",
       "      <td>11</td>\n",
       "    </tr>\n",
       "    <tr>\n",
       "      <td>10</td>\n",
       "      <td>0.002880</td>\n",
       "      <td>0.000803</td>\n",
       "      <td>0.000764</td>\n",
       "      <td>0.000071</td>\n",
       "      <td>0.1</td>\n",
       "      <td>10000</td>\n",
       "      <td>l1</td>\n",
       "      <td>{'C': 0.1, 'max_iter': 10000, 'penalty': 'l1'}</td>\n",
       "      <td>0.798206</td>\n",
       "      <td>0.825112</td>\n",
       "      <td>0.860360</td>\n",
       "      <td>0.827844</td>\n",
       "      <td>0.025438</td>\n",
       "      <td>15</td>\n",
       "    </tr>\n",
       "    <tr>\n",
       "      <td>11</td>\n",
       "      <td>0.002200</td>\n",
       "      <td>0.000139</td>\n",
       "      <td>0.000721</td>\n",
       "      <td>0.000083</td>\n",
       "      <td>0.1</td>\n",
       "      <td>10000</td>\n",
       "      <td>l2</td>\n",
       "      <td>{'C': 0.1, 'max_iter': 10000, 'penalty': 'l2'}</td>\n",
       "      <td>0.811659</td>\n",
       "      <td>0.820628</td>\n",
       "      <td>0.860360</td>\n",
       "      <td>0.830838</td>\n",
       "      <td>0.021148</td>\n",
       "      <td>11</td>\n",
       "    </tr>\n",
       "    <tr>\n",
       "      <td>12</td>\n",
       "      <td>0.004529</td>\n",
       "      <td>0.000591</td>\n",
       "      <td>0.000735</td>\n",
       "      <td>0.000024</td>\n",
       "      <td>1</td>\n",
       "      <td>1000</td>\n",
       "      <td>l1</td>\n",
       "      <td>{'C': 1, 'max_iter': 1000, 'penalty': 'l1'}</td>\n",
       "      <td>0.811659</td>\n",
       "      <td>0.816143</td>\n",
       "      <td>0.864865</td>\n",
       "      <td>0.830838</td>\n",
       "      <td>0.024076</td>\n",
       "      <td>11</td>\n",
       "    </tr>\n",
       "    <tr>\n",
       "      <td>13</td>\n",
       "      <td>0.002512</td>\n",
       "      <td>0.000234</td>\n",
       "      <td>0.000834</td>\n",
       "      <td>0.000186</td>\n",
       "      <td>1</td>\n",
       "      <td>1000</td>\n",
       "      <td>l2</td>\n",
       "      <td>{'C': 1, 'max_iter': 1000, 'penalty': 'l2'}</td>\n",
       "      <td>0.811659</td>\n",
       "      <td>0.820628</td>\n",
       "      <td>0.864865</td>\n",
       "      <td>0.832335</td>\n",
       "      <td>0.023241</td>\n",
       "      <td>1</td>\n",
       "    </tr>\n",
       "    <tr>\n",
       "      <td>14</td>\n",
       "      <td>0.005758</td>\n",
       "      <td>0.003287</td>\n",
       "      <td>0.000868</td>\n",
       "      <td>0.000080</td>\n",
       "      <td>1</td>\n",
       "      <td>10000</td>\n",
       "      <td>l1</td>\n",
       "      <td>{'C': 1, 'max_iter': 10000, 'penalty': 'l1'}</td>\n",
       "      <td>0.811659</td>\n",
       "      <td>0.816143</td>\n",
       "      <td>0.864865</td>\n",
       "      <td>0.830838</td>\n",
       "      <td>0.024076</td>\n",
       "      <td>11</td>\n",
       "    </tr>\n",
       "    <tr>\n",
       "      <td>15</td>\n",
       "      <td>0.002507</td>\n",
       "      <td>0.000176</td>\n",
       "      <td>0.000867</td>\n",
       "      <td>0.000074</td>\n",
       "      <td>1</td>\n",
       "      <td>10000</td>\n",
       "      <td>l2</td>\n",
       "      <td>{'C': 1, 'max_iter': 10000, 'penalty': 'l2'}</td>\n",
       "      <td>0.811659</td>\n",
       "      <td>0.820628</td>\n",
       "      <td>0.864865</td>\n",
       "      <td>0.832335</td>\n",
       "      <td>0.023241</td>\n",
       "      <td>1</td>\n",
       "    </tr>\n",
       "    <tr>\n",
       "      <td>16</td>\n",
       "      <td>0.010100</td>\n",
       "      <td>0.000722</td>\n",
       "      <td>0.001182</td>\n",
       "      <td>0.000231</td>\n",
       "      <td>10</td>\n",
       "      <td>1000</td>\n",
       "      <td>l1</td>\n",
       "      <td>{'C': 10, 'max_iter': 1000, 'penalty': 'l1'}</td>\n",
       "      <td>0.811659</td>\n",
       "      <td>0.820628</td>\n",
       "      <td>0.864865</td>\n",
       "      <td>0.832335</td>\n",
       "      <td>0.023241</td>\n",
       "      <td>1</td>\n",
       "    </tr>\n",
       "    <tr>\n",
       "      <td>17</td>\n",
       "      <td>0.002422</td>\n",
       "      <td>0.000091</td>\n",
       "      <td>0.000696</td>\n",
       "      <td>0.000009</td>\n",
       "      <td>10</td>\n",
       "      <td>1000</td>\n",
       "      <td>l2</td>\n",
       "      <td>{'C': 10, 'max_iter': 1000, 'penalty': 'l2'}</td>\n",
       "      <td>0.811659</td>\n",
       "      <td>0.820628</td>\n",
       "      <td>0.864865</td>\n",
       "      <td>0.832335</td>\n",
       "      <td>0.023241</td>\n",
       "      <td>1</td>\n",
       "    </tr>\n",
       "    <tr>\n",
       "      <td>18</td>\n",
       "      <td>0.012440</td>\n",
       "      <td>0.006304</td>\n",
       "      <td>0.000840</td>\n",
       "      <td>0.000062</td>\n",
       "      <td>10</td>\n",
       "      <td>10000</td>\n",
       "      <td>l1</td>\n",
       "      <td>{'C': 10, 'max_iter': 10000, 'penalty': 'l1'}</td>\n",
       "      <td>0.811659</td>\n",
       "      <td>0.820628</td>\n",
       "      <td>0.864865</td>\n",
       "      <td>0.832335</td>\n",
       "      <td>0.023241</td>\n",
       "      <td>1</td>\n",
       "    </tr>\n",
       "    <tr>\n",
       "      <td>19</td>\n",
       "      <td>0.002263</td>\n",
       "      <td>0.000048</td>\n",
       "      <td>0.000670</td>\n",
       "      <td>0.000010</td>\n",
       "      <td>10</td>\n",
       "      <td>10000</td>\n",
       "      <td>l2</td>\n",
       "      <td>{'C': 10, 'max_iter': 10000, 'penalty': 'l2'}</td>\n",
       "      <td>0.811659</td>\n",
       "      <td>0.820628</td>\n",
       "      <td>0.864865</td>\n",
       "      <td>0.832335</td>\n",
       "      <td>0.023241</td>\n",
       "      <td>1</td>\n",
       "    </tr>\n",
       "    <tr>\n",
       "      <td>20</td>\n",
       "      <td>0.006789</td>\n",
       "      <td>0.001008</td>\n",
       "      <td>0.000923</td>\n",
       "      <td>0.000084</td>\n",
       "      <td>100</td>\n",
       "      <td>1000</td>\n",
       "      <td>l1</td>\n",
       "      <td>{'C': 100, 'max_iter': 1000, 'penalty': 'l1'}</td>\n",
       "      <td>0.811659</td>\n",
       "      <td>0.820628</td>\n",
       "      <td>0.864865</td>\n",
       "      <td>0.832335</td>\n",
       "      <td>0.023241</td>\n",
       "      <td>1</td>\n",
       "    </tr>\n",
       "    <tr>\n",
       "      <td>21</td>\n",
       "      <td>0.002357</td>\n",
       "      <td>0.000040</td>\n",
       "      <td>0.000740</td>\n",
       "      <td>0.000021</td>\n",
       "      <td>100</td>\n",
       "      <td>1000</td>\n",
       "      <td>l2</td>\n",
       "      <td>{'C': 100, 'max_iter': 1000, 'penalty': 'l2'}</td>\n",
       "      <td>0.811659</td>\n",
       "      <td>0.820628</td>\n",
       "      <td>0.864865</td>\n",
       "      <td>0.832335</td>\n",
       "      <td>0.023241</td>\n",
       "      <td>1</td>\n",
       "    </tr>\n",
       "    <tr>\n",
       "      <td>22</td>\n",
       "      <td>0.009941</td>\n",
       "      <td>0.001273</td>\n",
       "      <td>0.000846</td>\n",
       "      <td>0.000050</td>\n",
       "      <td>100</td>\n",
       "      <td>10000</td>\n",
       "      <td>l1</td>\n",
       "      <td>{'C': 100, 'max_iter': 10000, 'penalty': 'l1'}</td>\n",
       "      <td>0.811659</td>\n",
       "      <td>0.820628</td>\n",
       "      <td>0.864865</td>\n",
       "      <td>0.832335</td>\n",
       "      <td>0.023241</td>\n",
       "      <td>1</td>\n",
       "    </tr>\n",
       "    <tr>\n",
       "      <td>23</td>\n",
       "      <td>0.002249</td>\n",
       "      <td>0.000045</td>\n",
       "      <td>0.000720</td>\n",
       "      <td>0.000006</td>\n",
       "      <td>100</td>\n",
       "      <td>10000</td>\n",
       "      <td>l2</td>\n",
       "      <td>{'C': 100, 'max_iter': 10000, 'penalty': 'l2'}</td>\n",
       "      <td>0.811659</td>\n",
       "      <td>0.820628</td>\n",
       "      <td>0.864865</td>\n",
       "      <td>0.832335</td>\n",
       "      <td>0.023241</td>\n",
       "      <td>1</td>\n",
       "    </tr>\n",
       "  </tbody>\n",
       "</table>\n",
       "</div>"
      ],
      "text/plain": [
       "    mean_fit_time  std_fit_time  mean_score_time  std_score_time param_C  \\\n",
       "0        0.002118      0.000170         0.000835        0.000075   0.001   \n",
       "1        0.002264      0.000115         0.000813        0.000018   0.001   \n",
       "2        0.001682      0.000097         0.000737        0.000061   0.001   \n",
       "3        0.002426      0.000270         0.001112        0.000161   0.001   \n",
       "4        0.002053      0.000270         0.001031        0.000176    0.01   \n",
       "5        0.002281      0.000474         0.000746        0.000088    0.01   \n",
       "6        0.002177      0.000185         0.000907        0.000160    0.01   \n",
       "7        0.002306      0.000252         0.000739        0.000017    0.01   \n",
       "8        0.002887      0.000820         0.000850        0.000018     0.1   \n",
       "9        0.002252      0.000017         0.000705        0.000026     0.1   \n",
       "10       0.002880      0.000803         0.000764        0.000071     0.1   \n",
       "11       0.002200      0.000139         0.000721        0.000083     0.1   \n",
       "12       0.004529      0.000591         0.000735        0.000024       1   \n",
       "13       0.002512      0.000234         0.000834        0.000186       1   \n",
       "14       0.005758      0.003287         0.000868        0.000080       1   \n",
       "15       0.002507      0.000176         0.000867        0.000074       1   \n",
       "16       0.010100      0.000722         0.001182        0.000231      10   \n",
       "17       0.002422      0.000091         0.000696        0.000009      10   \n",
       "18       0.012440      0.006304         0.000840        0.000062      10   \n",
       "19       0.002263      0.000048         0.000670        0.000010      10   \n",
       "20       0.006789      0.001008         0.000923        0.000084     100   \n",
       "21       0.002357      0.000040         0.000740        0.000021     100   \n",
       "22       0.009941      0.001273         0.000846        0.000050     100   \n",
       "23       0.002249      0.000045         0.000720        0.000006     100   \n",
       "\n",
       "   param_max_iter param_penalty  \\\n",
       "0            1000            l1   \n",
       "1            1000            l2   \n",
       "2           10000            l1   \n",
       "3           10000            l2   \n",
       "4            1000            l1   \n",
       "5            1000            l2   \n",
       "6           10000            l1   \n",
       "7           10000            l2   \n",
       "8            1000            l1   \n",
       "9            1000            l2   \n",
       "10          10000            l1   \n",
       "11          10000            l2   \n",
       "12           1000            l1   \n",
       "13           1000            l2   \n",
       "14          10000            l1   \n",
       "15          10000            l2   \n",
       "16           1000            l1   \n",
       "17           1000            l2   \n",
       "18          10000            l1   \n",
       "19          10000            l2   \n",
       "20           1000            l1   \n",
       "21           1000            l2   \n",
       "22          10000            l1   \n",
       "23          10000            l2   \n",
       "\n",
       "                                              params  split0_test_score  \\\n",
       "0    {'C': 0.001, 'max_iter': 1000, 'penalty': 'l1'}           0.659193   \n",
       "1    {'C': 0.001, 'max_iter': 1000, 'penalty': 'l2'}           0.699552   \n",
       "2   {'C': 0.001, 'max_iter': 10000, 'penalty': 'l1'}           0.659193   \n",
       "3   {'C': 0.001, 'max_iter': 10000, 'penalty': 'l2'}           0.699552   \n",
       "4     {'C': 0.01, 'max_iter': 1000, 'penalty': 'l1'}           0.744395   \n",
       "5     {'C': 0.01, 'max_iter': 1000, 'penalty': 'l2'}           0.780269   \n",
       "6    {'C': 0.01, 'max_iter': 10000, 'penalty': 'l1'}           0.744395   \n",
       "7    {'C': 0.01, 'max_iter': 10000, 'penalty': 'l2'}           0.780269   \n",
       "8      {'C': 0.1, 'max_iter': 1000, 'penalty': 'l1'}           0.798206   \n",
       "9      {'C': 0.1, 'max_iter': 1000, 'penalty': 'l2'}           0.811659   \n",
       "10    {'C': 0.1, 'max_iter': 10000, 'penalty': 'l1'}           0.798206   \n",
       "11    {'C': 0.1, 'max_iter': 10000, 'penalty': 'l2'}           0.811659   \n",
       "12       {'C': 1, 'max_iter': 1000, 'penalty': 'l1'}           0.811659   \n",
       "13       {'C': 1, 'max_iter': 1000, 'penalty': 'l2'}           0.811659   \n",
       "14      {'C': 1, 'max_iter': 10000, 'penalty': 'l1'}           0.811659   \n",
       "15      {'C': 1, 'max_iter': 10000, 'penalty': 'l2'}           0.811659   \n",
       "16      {'C': 10, 'max_iter': 1000, 'penalty': 'l1'}           0.811659   \n",
       "17      {'C': 10, 'max_iter': 1000, 'penalty': 'l2'}           0.811659   \n",
       "18     {'C': 10, 'max_iter': 10000, 'penalty': 'l1'}           0.811659   \n",
       "19     {'C': 10, 'max_iter': 10000, 'penalty': 'l2'}           0.811659   \n",
       "20     {'C': 100, 'max_iter': 1000, 'penalty': 'l1'}           0.811659   \n",
       "21     {'C': 100, 'max_iter': 1000, 'penalty': 'l2'}           0.811659   \n",
       "22    {'C': 100, 'max_iter': 10000, 'penalty': 'l1'}           0.811659   \n",
       "23    {'C': 100, 'max_iter': 10000, 'penalty': 'l2'}           0.811659   \n",
       "\n",
       "    split1_test_score  split2_test_score  mean_test_score  std_test_score  \\\n",
       "0            0.663677           0.666667         0.663174        0.003071   \n",
       "1            0.757848           0.720721         0.726048        0.024112   \n",
       "2            0.663677           0.666667         0.663174        0.003071   \n",
       "3            0.757848           0.720721         0.726048        0.024112   \n",
       "4            0.802691           0.788288         0.778443        0.024809   \n",
       "5            0.816143           0.828829         0.808383        0.020564   \n",
       "6            0.802691           0.788288         0.778443        0.024809   \n",
       "7            0.816143           0.828829         0.808383        0.020564   \n",
       "8            0.825112           0.860360         0.827844        0.025438   \n",
       "9            0.820628           0.860360         0.830838        0.021148   \n",
       "10           0.825112           0.860360         0.827844        0.025438   \n",
       "11           0.820628           0.860360         0.830838        0.021148   \n",
       "12           0.816143           0.864865         0.830838        0.024076   \n",
       "13           0.820628           0.864865         0.832335        0.023241   \n",
       "14           0.816143           0.864865         0.830838        0.024076   \n",
       "15           0.820628           0.864865         0.832335        0.023241   \n",
       "16           0.820628           0.864865         0.832335        0.023241   \n",
       "17           0.820628           0.864865         0.832335        0.023241   \n",
       "18           0.820628           0.864865         0.832335        0.023241   \n",
       "19           0.820628           0.864865         0.832335        0.023241   \n",
       "20           0.820628           0.864865         0.832335        0.023241   \n",
       "21           0.820628           0.864865         0.832335        0.023241   \n",
       "22           0.820628           0.864865         0.832335        0.023241   \n",
       "23           0.820628           0.864865         0.832335        0.023241   \n",
       "\n",
       "    rank_test_score  \n",
       "0                23  \n",
       "1                21  \n",
       "2                23  \n",
       "3                21  \n",
       "4                19  \n",
       "5                17  \n",
       "6                19  \n",
       "7                17  \n",
       "8                15  \n",
       "9                11  \n",
       "10               15  \n",
       "11               11  \n",
       "12               11  \n",
       "13                1  \n",
       "14               11  \n",
       "15                1  \n",
       "16                1  \n",
       "17                1  \n",
       "18                1  \n",
       "19                1  \n",
       "20                1  \n",
       "21                1  \n",
       "22                1  \n",
       "23                1  "
      ]
     },
     "execution_count": 70,
     "metadata": {},
     "output_type": "execute_result"
    }
   ],
   "source": [
    "pd.DataFrame(gs_linSVC.cv_results_)"
   ]
  },
  {
   "cell_type": "markdown",
   "metadata": {
    "heading_collapsed": true,
    "hidden": true
   },
   "source": [
    "## SVM"
   ]
  },
  {
   "cell_type": "code",
   "execution_count": 71,
   "metadata": {
    "hidden": true
   },
   "outputs": [],
   "source": [
    "svm_grid = {\"C\": [0.001, 0.01, 0.1, 1, 10], \"gamma\": [0.001, 0.01, 0.1, 1, 10]}"
   ]
  },
  {
   "cell_type": "code",
   "execution_count": 72,
   "metadata": {
    "hidden": true
   },
   "outputs": [],
   "source": [
    "gs_svm = GridSearchCV(SVC(), svm_grid, cv=3)"
   ]
  },
  {
   "cell_type": "code",
   "execution_count": 73,
   "metadata": {
    "hidden": true
   },
   "outputs": [
    {
     "data": {
      "text/plain": [
       "GridSearchCV(cv=3, error_score='raise-deprecating',\n",
       "             estimator=SVC(C=1.0, cache_size=200, class_weight=None, coef0=0.0,\n",
       "                           decision_function_shape='ovr', degree=3,\n",
       "                           gamma='auto_deprecated', kernel='rbf', max_iter=-1,\n",
       "                           probability=False, random_state=None, shrinking=True,\n",
       "                           tol=0.001, verbose=False),\n",
       "             iid='warn', n_jobs=None,\n",
       "             param_grid={'C': [0.001, 0.01, 0.1, 1, 10],\n",
       "                         'gamma': [0.001, 0.01, 0.1, 1, 10]},\n",
       "             pre_dispatch='2*n_jobs', refit=True, return_train_score=False,\n",
       "             scoring=None, verbose=0)"
      ]
     },
     "execution_count": 73,
     "metadata": {},
     "output_type": "execute_result"
    }
   ],
   "source": [
    "gs_svm.fit(x_trained_scaled, y_train.Survived.values)"
   ]
  },
  {
   "cell_type": "code",
   "execution_count": 74,
   "metadata": {
    "hidden": true
   },
   "outputs": [
    {
     "data": {
      "text/plain": [
       "{'C': 10, 'gamma': 1}"
      ]
     },
     "execution_count": 74,
     "metadata": {},
     "output_type": "execute_result"
    }
   ],
   "source": [
    "gs_svm.best_params_"
   ]
  },
  {
   "cell_type": "code",
   "execution_count": 75,
   "metadata": {
    "hidden": true
   },
   "outputs": [
    {
     "data": {
      "text/plain": [
       "(0.8323353293413174, 0.8562874251497006, 0.8251121076233184)"
      ]
     },
     "execution_count": 75,
     "metadata": {},
     "output_type": "execute_result"
    }
   ],
   "source": [
    "gs_svm.best_score_, gs_svm.score(x_trained_scaled,y_train.Survived.values), gs_svm.score(x_test_scaled,y_test.Survived.values)"
   ]
  },
  {
   "cell_type": "raw",
   "metadata": {
    "hidden": true
   },
   "source": [
    "SVC best score is 0.82 "
   ]
  },
  {
   "cell_type": "code",
   "execution_count": 144,
   "metadata": {
    "collapsed": true,
    "hidden": true
   },
   "outputs": [
    {
     "data": {
      "text/html": [
       "<div>\n",
       "<style scoped>\n",
       "    .dataframe tbody tr th:only-of-type {\n",
       "        vertical-align: middle;\n",
       "    }\n",
       "\n",
       "    .dataframe tbody tr th {\n",
       "        vertical-align: top;\n",
       "    }\n",
       "\n",
       "    .dataframe thead th {\n",
       "        text-align: right;\n",
       "    }\n",
       "</style>\n",
       "<table border=\"1\" class=\"dataframe\">\n",
       "  <thead>\n",
       "    <tr style=\"text-align: right;\">\n",
       "      <th></th>\n",
       "      <th>mean_fit_time</th>\n",
       "      <th>std_fit_time</th>\n",
       "      <th>mean_score_time</th>\n",
       "      <th>std_score_time</th>\n",
       "      <th>param_C</th>\n",
       "      <th>param_gamma</th>\n",
       "      <th>params</th>\n",
       "      <th>split0_test_score</th>\n",
       "      <th>split1_test_score</th>\n",
       "      <th>split2_test_score</th>\n",
       "      <th>mean_test_score</th>\n",
       "      <th>std_test_score</th>\n",
       "      <th>rank_test_score</th>\n",
       "    </tr>\n",
       "  </thead>\n",
       "  <tbody>\n",
       "    <tr>\n",
       "      <td>0</td>\n",
       "      <td>0.004857</td>\n",
       "      <td>0.000387</td>\n",
       "      <td>0.001918</td>\n",
       "      <td>0.000034</td>\n",
       "      <td>0.001</td>\n",
       "      <td>0.001</td>\n",
       "      <td>{'C': 0.001, 'gamma': 0.001}</td>\n",
       "      <td>0.602679</td>\n",
       "      <td>0.603604</td>\n",
       "      <td>0.603604</td>\n",
       "      <td>0.603293</td>\n",
       "      <td>0.000437</td>\n",
       "      <td>13</td>\n",
       "    </tr>\n",
       "    <tr>\n",
       "      <td>1</td>\n",
       "      <td>0.004385</td>\n",
       "      <td>0.000051</td>\n",
       "      <td>0.001899</td>\n",
       "      <td>0.000026</td>\n",
       "      <td>0.001</td>\n",
       "      <td>0.01</td>\n",
       "      <td>{'C': 0.001, 'gamma': 0.01}</td>\n",
       "      <td>0.602679</td>\n",
       "      <td>0.603604</td>\n",
       "      <td>0.603604</td>\n",
       "      <td>0.603293</td>\n",
       "      <td>0.000437</td>\n",
       "      <td>13</td>\n",
       "    </tr>\n",
       "    <tr>\n",
       "      <td>2</td>\n",
       "      <td>0.004454</td>\n",
       "      <td>0.000085</td>\n",
       "      <td>0.001884</td>\n",
       "      <td>0.000070</td>\n",
       "      <td>0.001</td>\n",
       "      <td>0.1</td>\n",
       "      <td>{'C': 0.001, 'gamma': 0.1}</td>\n",
       "      <td>0.602679</td>\n",
       "      <td>0.603604</td>\n",
       "      <td>0.603604</td>\n",
       "      <td>0.603293</td>\n",
       "      <td>0.000437</td>\n",
       "      <td>13</td>\n",
       "    </tr>\n",
       "    <tr>\n",
       "      <td>3</td>\n",
       "      <td>0.005095</td>\n",
       "      <td>0.000651</td>\n",
       "      <td>0.002387</td>\n",
       "      <td>0.000388</td>\n",
       "      <td>0.001</td>\n",
       "      <td>1</td>\n",
       "      <td>{'C': 0.001, 'gamma': 1}</td>\n",
       "      <td>0.602679</td>\n",
       "      <td>0.603604</td>\n",
       "      <td>0.603604</td>\n",
       "      <td>0.603293</td>\n",
       "      <td>0.000437</td>\n",
       "      <td>13</td>\n",
       "    </tr>\n",
       "    <tr>\n",
       "      <td>4</td>\n",
       "      <td>0.005057</td>\n",
       "      <td>0.000364</td>\n",
       "      <td>0.002007</td>\n",
       "      <td>0.000200</td>\n",
       "      <td>0.001</td>\n",
       "      <td>10</td>\n",
       "      <td>{'C': 0.001, 'gamma': 10}</td>\n",
       "      <td>0.602679</td>\n",
       "      <td>0.603604</td>\n",
       "      <td>0.603604</td>\n",
       "      <td>0.603293</td>\n",
       "      <td>0.000437</td>\n",
       "      <td>13</td>\n",
       "    </tr>\n",
       "    <tr>\n",
       "      <td>5</td>\n",
       "      <td>0.004311</td>\n",
       "      <td>0.000065</td>\n",
       "      <td>0.001796</td>\n",
       "      <td>0.000016</td>\n",
       "      <td>0.01</td>\n",
       "      <td>0.001</td>\n",
       "      <td>{'C': 0.01, 'gamma': 0.001}</td>\n",
       "      <td>0.602679</td>\n",
       "      <td>0.603604</td>\n",
       "      <td>0.603604</td>\n",
       "      <td>0.603293</td>\n",
       "      <td>0.000437</td>\n",
       "      <td>13</td>\n",
       "    </tr>\n",
       "    <tr>\n",
       "      <td>6</td>\n",
       "      <td>0.004068</td>\n",
       "      <td>0.000121</td>\n",
       "      <td>0.001722</td>\n",
       "      <td>0.000060</td>\n",
       "      <td>0.01</td>\n",
       "      <td>0.01</td>\n",
       "      <td>{'C': 0.01, 'gamma': 0.01}</td>\n",
       "      <td>0.602679</td>\n",
       "      <td>0.603604</td>\n",
       "      <td>0.603604</td>\n",
       "      <td>0.603293</td>\n",
       "      <td>0.000437</td>\n",
       "      <td>13</td>\n",
       "    </tr>\n",
       "    <tr>\n",
       "      <td>7</td>\n",
       "      <td>0.004047</td>\n",
       "      <td>0.000099</td>\n",
       "      <td>0.001779</td>\n",
       "      <td>0.000191</td>\n",
       "      <td>0.01</td>\n",
       "      <td>0.1</td>\n",
       "      <td>{'C': 0.01, 'gamma': 0.1}</td>\n",
       "      <td>0.602679</td>\n",
       "      <td>0.603604</td>\n",
       "      <td>0.603604</td>\n",
       "      <td>0.603293</td>\n",
       "      <td>0.000437</td>\n",
       "      <td>13</td>\n",
       "    </tr>\n",
       "    <tr>\n",
       "      <td>8</td>\n",
       "      <td>0.004256</td>\n",
       "      <td>0.000129</td>\n",
       "      <td>0.001761</td>\n",
       "      <td>0.000080</td>\n",
       "      <td>0.01</td>\n",
       "      <td>1</td>\n",
       "      <td>{'C': 0.01, 'gamma': 1}</td>\n",
       "      <td>0.602679</td>\n",
       "      <td>0.603604</td>\n",
       "      <td>0.603604</td>\n",
       "      <td>0.603293</td>\n",
       "      <td>0.000437</td>\n",
       "      <td>13</td>\n",
       "    </tr>\n",
       "    <tr>\n",
       "      <td>9</td>\n",
       "      <td>0.004229</td>\n",
       "      <td>0.000131</td>\n",
       "      <td>0.001682</td>\n",
       "      <td>0.000016</td>\n",
       "      <td>0.01</td>\n",
       "      <td>10</td>\n",
       "      <td>{'C': 0.01, 'gamma': 10}</td>\n",
       "      <td>0.602679</td>\n",
       "      <td>0.603604</td>\n",
       "      <td>0.603604</td>\n",
       "      <td>0.603293</td>\n",
       "      <td>0.000437</td>\n",
       "      <td>13</td>\n",
       "    </tr>\n",
       "    <tr>\n",
       "      <td>10</td>\n",
       "      <td>0.003974</td>\n",
       "      <td>0.000048</td>\n",
       "      <td>0.001668</td>\n",
       "      <td>0.000043</td>\n",
       "      <td>0.1</td>\n",
       "      <td>0.001</td>\n",
       "      <td>{'C': 0.1, 'gamma': 0.001}</td>\n",
       "      <td>0.602679</td>\n",
       "      <td>0.603604</td>\n",
       "      <td>0.603604</td>\n",
       "      <td>0.603293</td>\n",
       "      <td>0.000437</td>\n",
       "      <td>13</td>\n",
       "    </tr>\n",
       "    <tr>\n",
       "      <td>11</td>\n",
       "      <td>0.004104</td>\n",
       "      <td>0.000111</td>\n",
       "      <td>0.001745</td>\n",
       "      <td>0.000084</td>\n",
       "      <td>0.1</td>\n",
       "      <td>0.01</td>\n",
       "      <td>{'C': 0.1, 'gamma': 0.01}</td>\n",
       "      <td>0.602679</td>\n",
       "      <td>0.603604</td>\n",
       "      <td>0.603604</td>\n",
       "      <td>0.603293</td>\n",
       "      <td>0.000437</td>\n",
       "      <td>13</td>\n",
       "    </tr>\n",
       "    <tr>\n",
       "      <td>12</td>\n",
       "      <td>0.003864</td>\n",
       "      <td>0.000083</td>\n",
       "      <td>0.001491</td>\n",
       "      <td>0.000044</td>\n",
       "      <td>0.1</td>\n",
       "      <td>0.1</td>\n",
       "      <td>{'C': 0.1, 'gamma': 0.1}</td>\n",
       "      <td>0.812500</td>\n",
       "      <td>0.743243</td>\n",
       "      <td>0.819820</td>\n",
       "      <td>0.791916</td>\n",
       "      <td>0.034470</td>\n",
       "      <td>7</td>\n",
       "    </tr>\n",
       "    <tr>\n",
       "      <td>13</td>\n",
       "      <td>0.003603</td>\n",
       "      <td>0.000269</td>\n",
       "      <td>0.001437</td>\n",
       "      <td>0.000110</td>\n",
       "      <td>0.1</td>\n",
       "      <td>1</td>\n",
       "      <td>{'C': 0.1, 'gamma': 1}</td>\n",
       "      <td>0.821429</td>\n",
       "      <td>0.747748</td>\n",
       "      <td>0.824324</td>\n",
       "      <td>0.797904</td>\n",
       "      <td>0.035406</td>\n",
       "      <td>5</td>\n",
       "    </tr>\n",
       "    <tr>\n",
       "      <td>14</td>\n",
       "      <td>0.004108</td>\n",
       "      <td>0.000088</td>\n",
       "      <td>0.001803</td>\n",
       "      <td>0.000075</td>\n",
       "      <td>0.1</td>\n",
       "      <td>10</td>\n",
       "      <td>{'C': 0.1, 'gamma': 10}</td>\n",
       "      <td>0.821429</td>\n",
       "      <td>0.747748</td>\n",
       "      <td>0.788288</td>\n",
       "      <td>0.785928</td>\n",
       "      <td>0.030148</td>\n",
       "      <td>12</td>\n",
       "    </tr>\n",
       "    <tr>\n",
       "      <td>15</td>\n",
       "      <td>0.003987</td>\n",
       "      <td>0.000009</td>\n",
       "      <td>0.001699</td>\n",
       "      <td>0.000019</td>\n",
       "      <td>1</td>\n",
       "      <td>0.001</td>\n",
       "      <td>{'C': 1, 'gamma': 0.001}</td>\n",
       "      <td>0.602679</td>\n",
       "      <td>0.603604</td>\n",
       "      <td>0.603604</td>\n",
       "      <td>0.603293</td>\n",
       "      <td>0.000437</td>\n",
       "      <td>13</td>\n",
       "    </tr>\n",
       "    <tr>\n",
       "      <td>16</td>\n",
       "      <td>0.003682</td>\n",
       "      <td>0.000211</td>\n",
       "      <td>0.001394</td>\n",
       "      <td>0.000062</td>\n",
       "      <td>1</td>\n",
       "      <td>0.01</td>\n",
       "      <td>{'C': 1, 'gamma': 0.01}</td>\n",
       "      <td>0.812500</td>\n",
       "      <td>0.743243</td>\n",
       "      <td>0.819820</td>\n",
       "      <td>0.791916</td>\n",
       "      <td>0.034470</td>\n",
       "      <td>7</td>\n",
       "    </tr>\n",
       "    <tr>\n",
       "      <td>17</td>\n",
       "      <td>0.003093</td>\n",
       "      <td>0.000210</td>\n",
       "      <td>0.001128</td>\n",
       "      <td>0.000012</td>\n",
       "      <td>1</td>\n",
       "      <td>0.1</td>\n",
       "      <td>{'C': 1, 'gamma': 0.1}</td>\n",
       "      <td>0.799107</td>\n",
       "      <td>0.743243</td>\n",
       "      <td>0.833333</td>\n",
       "      <td>0.791916</td>\n",
       "      <td>0.037078</td>\n",
       "      <td>7</td>\n",
       "    </tr>\n",
       "    <tr>\n",
       "      <td>18</td>\n",
       "      <td>0.003099</td>\n",
       "      <td>0.000124</td>\n",
       "      <td>0.001086</td>\n",
       "      <td>0.000069</td>\n",
       "      <td>1</td>\n",
       "      <td>1</td>\n",
       "      <td>{'C': 1, 'gamma': 1}</td>\n",
       "      <td>0.843750</td>\n",
       "      <td>0.761261</td>\n",
       "      <td>0.842342</td>\n",
       "      <td>0.815868</td>\n",
       "      <td>0.038531</td>\n",
       "      <td>3</td>\n",
       "    </tr>\n",
       "    <tr>\n",
       "      <td>19</td>\n",
       "      <td>0.004019</td>\n",
       "      <td>0.000445</td>\n",
       "      <td>0.001348</td>\n",
       "      <td>0.000021</td>\n",
       "      <td>1</td>\n",
       "      <td>10</td>\n",
       "      <td>{'C': 1, 'gamma': 10}</td>\n",
       "      <td>0.839286</td>\n",
       "      <td>0.783784</td>\n",
       "      <td>0.837838</td>\n",
       "      <td>0.820359</td>\n",
       "      <td>0.025812</td>\n",
       "      <td>2</td>\n",
       "    </tr>\n",
       "    <tr>\n",
       "      <td>20</td>\n",
       "      <td>0.003549</td>\n",
       "      <td>0.000037</td>\n",
       "      <td>0.001433</td>\n",
       "      <td>0.000021</td>\n",
       "      <td>10</td>\n",
       "      <td>0.001</td>\n",
       "      <td>{'C': 10, 'gamma': 0.001}</td>\n",
       "      <td>0.812500</td>\n",
       "      <td>0.743243</td>\n",
       "      <td>0.819820</td>\n",
       "      <td>0.791916</td>\n",
       "      <td>0.034470</td>\n",
       "      <td>7</td>\n",
       "    </tr>\n",
       "    <tr>\n",
       "      <td>21</td>\n",
       "      <td>0.003802</td>\n",
       "      <td>0.000941</td>\n",
       "      <td>0.001079</td>\n",
       "      <td>0.000071</td>\n",
       "      <td>10</td>\n",
       "      <td>0.01</td>\n",
       "      <td>{'C': 10, 'gamma': 0.01}</td>\n",
       "      <td>0.799107</td>\n",
       "      <td>0.743243</td>\n",
       "      <td>0.819820</td>\n",
       "      <td>0.787425</td>\n",
       "      <td>0.032299</td>\n",
       "      <td>11</td>\n",
       "    </tr>\n",
       "    <tr>\n",
       "      <td>22</td>\n",
       "      <td>0.003478</td>\n",
       "      <td>0.000392</td>\n",
       "      <td>0.000976</td>\n",
       "      <td>0.000076</td>\n",
       "      <td>10</td>\n",
       "      <td>0.1</td>\n",
       "      <td>{'C': 10, 'gamma': 0.1}</td>\n",
       "      <td>0.812500</td>\n",
       "      <td>0.761261</td>\n",
       "      <td>0.851351</td>\n",
       "      <td>0.808383</td>\n",
       "      <td>0.036840</td>\n",
       "      <td>4</td>\n",
       "    </tr>\n",
       "    <tr>\n",
       "      <td>23</td>\n",
       "      <td>0.005013</td>\n",
       "      <td>0.001388</td>\n",
       "      <td>0.001097</td>\n",
       "      <td>0.000085</td>\n",
       "      <td>10</td>\n",
       "      <td>1</td>\n",
       "      <td>{'C': 10, 'gamma': 1}</td>\n",
       "      <td>0.857143</td>\n",
       "      <td>0.774775</td>\n",
       "      <td>0.837838</td>\n",
       "      <td>0.823353</td>\n",
       "      <td>0.035169</td>\n",
       "      <td>1</td>\n",
       "    </tr>\n",
       "    <tr>\n",
       "      <td>24</td>\n",
       "      <td>0.006047</td>\n",
       "      <td>0.002151</td>\n",
       "      <td>0.001279</td>\n",
       "      <td>0.000163</td>\n",
       "      <td>10</td>\n",
       "      <td>10</td>\n",
       "      <td>{'C': 10, 'gamma': 10}</td>\n",
       "      <td>0.821429</td>\n",
       "      <td>0.765766</td>\n",
       "      <td>0.806306</td>\n",
       "      <td>0.797904</td>\n",
       "      <td>0.023501</td>\n",
       "      <td>5</td>\n",
       "    </tr>\n",
       "  </tbody>\n",
       "</table>\n",
       "</div>"
      ],
      "text/plain": [
       "    mean_fit_time  std_fit_time  mean_score_time  std_score_time param_C  \\\n",
       "0        0.004857      0.000387         0.001918        0.000034   0.001   \n",
       "1        0.004385      0.000051         0.001899        0.000026   0.001   \n",
       "2        0.004454      0.000085         0.001884        0.000070   0.001   \n",
       "3        0.005095      0.000651         0.002387        0.000388   0.001   \n",
       "4        0.005057      0.000364         0.002007        0.000200   0.001   \n",
       "5        0.004311      0.000065         0.001796        0.000016    0.01   \n",
       "6        0.004068      0.000121         0.001722        0.000060    0.01   \n",
       "7        0.004047      0.000099         0.001779        0.000191    0.01   \n",
       "8        0.004256      0.000129         0.001761        0.000080    0.01   \n",
       "9        0.004229      0.000131         0.001682        0.000016    0.01   \n",
       "10       0.003974      0.000048         0.001668        0.000043     0.1   \n",
       "11       0.004104      0.000111         0.001745        0.000084     0.1   \n",
       "12       0.003864      0.000083         0.001491        0.000044     0.1   \n",
       "13       0.003603      0.000269         0.001437        0.000110     0.1   \n",
       "14       0.004108      0.000088         0.001803        0.000075     0.1   \n",
       "15       0.003987      0.000009         0.001699        0.000019       1   \n",
       "16       0.003682      0.000211         0.001394        0.000062       1   \n",
       "17       0.003093      0.000210         0.001128        0.000012       1   \n",
       "18       0.003099      0.000124         0.001086        0.000069       1   \n",
       "19       0.004019      0.000445         0.001348        0.000021       1   \n",
       "20       0.003549      0.000037         0.001433        0.000021      10   \n",
       "21       0.003802      0.000941         0.001079        0.000071      10   \n",
       "22       0.003478      0.000392         0.000976        0.000076      10   \n",
       "23       0.005013      0.001388         0.001097        0.000085      10   \n",
       "24       0.006047      0.002151         0.001279        0.000163      10   \n",
       "\n",
       "   param_gamma                        params  split0_test_score  \\\n",
       "0        0.001  {'C': 0.001, 'gamma': 0.001}           0.602679   \n",
       "1         0.01   {'C': 0.001, 'gamma': 0.01}           0.602679   \n",
       "2          0.1    {'C': 0.001, 'gamma': 0.1}           0.602679   \n",
       "3            1      {'C': 0.001, 'gamma': 1}           0.602679   \n",
       "4           10     {'C': 0.001, 'gamma': 10}           0.602679   \n",
       "5        0.001   {'C': 0.01, 'gamma': 0.001}           0.602679   \n",
       "6         0.01    {'C': 0.01, 'gamma': 0.01}           0.602679   \n",
       "7          0.1     {'C': 0.01, 'gamma': 0.1}           0.602679   \n",
       "8            1       {'C': 0.01, 'gamma': 1}           0.602679   \n",
       "9           10      {'C': 0.01, 'gamma': 10}           0.602679   \n",
       "10       0.001    {'C': 0.1, 'gamma': 0.001}           0.602679   \n",
       "11        0.01     {'C': 0.1, 'gamma': 0.01}           0.602679   \n",
       "12         0.1      {'C': 0.1, 'gamma': 0.1}           0.812500   \n",
       "13           1        {'C': 0.1, 'gamma': 1}           0.821429   \n",
       "14          10       {'C': 0.1, 'gamma': 10}           0.821429   \n",
       "15       0.001      {'C': 1, 'gamma': 0.001}           0.602679   \n",
       "16        0.01       {'C': 1, 'gamma': 0.01}           0.812500   \n",
       "17         0.1        {'C': 1, 'gamma': 0.1}           0.799107   \n",
       "18           1          {'C': 1, 'gamma': 1}           0.843750   \n",
       "19          10         {'C': 1, 'gamma': 10}           0.839286   \n",
       "20       0.001     {'C': 10, 'gamma': 0.001}           0.812500   \n",
       "21        0.01      {'C': 10, 'gamma': 0.01}           0.799107   \n",
       "22         0.1       {'C': 10, 'gamma': 0.1}           0.812500   \n",
       "23           1         {'C': 10, 'gamma': 1}           0.857143   \n",
       "24          10        {'C': 10, 'gamma': 10}           0.821429   \n",
       "\n",
       "    split1_test_score  split2_test_score  mean_test_score  std_test_score  \\\n",
       "0            0.603604           0.603604         0.603293        0.000437   \n",
       "1            0.603604           0.603604         0.603293        0.000437   \n",
       "2            0.603604           0.603604         0.603293        0.000437   \n",
       "3            0.603604           0.603604         0.603293        0.000437   \n",
       "4            0.603604           0.603604         0.603293        0.000437   \n",
       "5            0.603604           0.603604         0.603293        0.000437   \n",
       "6            0.603604           0.603604         0.603293        0.000437   \n",
       "7            0.603604           0.603604         0.603293        0.000437   \n",
       "8            0.603604           0.603604         0.603293        0.000437   \n",
       "9            0.603604           0.603604         0.603293        0.000437   \n",
       "10           0.603604           0.603604         0.603293        0.000437   \n",
       "11           0.603604           0.603604         0.603293        0.000437   \n",
       "12           0.743243           0.819820         0.791916        0.034470   \n",
       "13           0.747748           0.824324         0.797904        0.035406   \n",
       "14           0.747748           0.788288         0.785928        0.030148   \n",
       "15           0.603604           0.603604         0.603293        0.000437   \n",
       "16           0.743243           0.819820         0.791916        0.034470   \n",
       "17           0.743243           0.833333         0.791916        0.037078   \n",
       "18           0.761261           0.842342         0.815868        0.038531   \n",
       "19           0.783784           0.837838         0.820359        0.025812   \n",
       "20           0.743243           0.819820         0.791916        0.034470   \n",
       "21           0.743243           0.819820         0.787425        0.032299   \n",
       "22           0.761261           0.851351         0.808383        0.036840   \n",
       "23           0.774775           0.837838         0.823353        0.035169   \n",
       "24           0.765766           0.806306         0.797904        0.023501   \n",
       "\n",
       "    rank_test_score  \n",
       "0                13  \n",
       "1                13  \n",
       "2                13  \n",
       "3                13  \n",
       "4                13  \n",
       "5                13  \n",
       "6                13  \n",
       "7                13  \n",
       "8                13  \n",
       "9                13  \n",
       "10               13  \n",
       "11               13  \n",
       "12                7  \n",
       "13                5  \n",
       "14               12  \n",
       "15               13  \n",
       "16                7  \n",
       "17                7  \n",
       "18                3  \n",
       "19                2  \n",
       "20                7  \n",
       "21               11  \n",
       "22                4  \n",
       "23                1  \n",
       "24                5  "
      ]
     },
     "execution_count": 144,
     "metadata": {},
     "output_type": "execute_result"
    }
   ],
   "source": [
    "pd.DataFrame(gs_svm.cv_results_).head()"
   ]
  },
  {
   "cell_type": "markdown",
   "metadata": {
    "heading_collapsed": true,
    "hidden": true
   },
   "source": [
    "## Random Forest"
   ]
  },
  {
   "cell_type": "code",
   "execution_count": 76,
   "metadata": {
    "hidden": true
   },
   "outputs": [
    {
     "data": {
      "text/plain": [
       "GridSearchCV(cv='warn', error_score='raise-deprecating',\n",
       "             estimator=RandomForestClassifier(bootstrap=True, class_weight=None,\n",
       "                                              criterion='gini', max_depth=None,\n",
       "                                              max_features='auto',\n",
       "                                              max_leaf_nodes=None,\n",
       "                                              min_impurity_decrease=0.0,\n",
       "                                              min_impurity_split=None,\n",
       "                                              min_samples_leaf=1,\n",
       "                                              min_samples_split=2,\n",
       "                                              min_weight_fraction_leaf=0.0,\n",
       "                                              n_estimators='warn', n_jobs=None,\n",
       "                                              oob_score=False, random_state=0,\n",
       "                                              verbose=0, warm_start=False),\n",
       "             iid='warn', n_jobs=None,\n",
       "             param_grid={'max_depth': [None, 2, 4, 6, 10, 20],\n",
       "                         'n_estimators': [10, 20, 40, 80, 100, 500, 1000]},\n",
       "             pre_dispatch='2*n_jobs', refit=True, return_train_score=False,\n",
       "             scoring=None, verbose=0)"
      ]
     },
     "execution_count": 76,
     "metadata": {},
     "output_type": "execute_result"
    }
   ],
   "source": [
    "rf_grid = {\"n_estimators\": [10,20,40,80,100,500,1000], 'max_depth':[None,2,4, 6, 10,20]}\n",
    "gs_rf = GridSearchCV(RandomForestClassifier(random_state=0), rf_grid)\n",
    "gs_rf.fit(x_train, y_train.Survived.values)"
   ]
  },
  {
   "cell_type": "code",
   "execution_count": 77,
   "metadata": {
    "hidden": true
   },
   "outputs": [
    {
     "data": {
      "text/plain": [
       "{'max_depth': 6, 'n_estimators': 500}"
      ]
     },
     "execution_count": 77,
     "metadata": {},
     "output_type": "execute_result"
    }
   ],
   "source": [
    "gs_rf.best_params_"
   ]
  },
  {
   "cell_type": "code",
   "execution_count": 78,
   "metadata": {
    "hidden": true
   },
   "outputs": [
    {
     "data": {
      "text/plain": [
       "(0.8323353293413174, 0.8577844311377245, 0.8295964125560538)"
      ]
     },
     "execution_count": 78,
     "metadata": {},
     "output_type": "execute_result"
    }
   ],
   "source": [
    "gs_rf.best_score_, gs_rf.score(x_train,y_train), gs_rf.score(x_test, y_test)"
   ]
  },
  {
   "cell_type": "code",
   "execution_count": 79,
   "metadata": {
    "hidden": true
   },
   "outputs": [
    {
     "data": {
      "text/plain": [
       "RandomForestClassifier(bootstrap=True, class_weight=None, criterion='gini',\n",
       "                       max_depth=6, max_features='auto', max_leaf_nodes=None,\n",
       "                       min_impurity_decrease=0.0, min_impurity_split=None,\n",
       "                       min_samples_leaf=1, min_samples_split=2,\n",
       "                       min_weight_fraction_leaf=0.0, n_estimators=500,\n",
       "                       n_jobs=None, oob_score=False, random_state=0, verbose=0,\n",
       "                       warm_start=False)"
      ]
     },
     "execution_count": 79,
     "metadata": {},
     "output_type": "execute_result"
    }
   ],
   "source": [
    "gs_rf.best_estimator_"
   ]
  },
  {
   "cell_type": "code",
   "execution_count": 80,
   "metadata": {
    "hidden": true
   },
   "outputs": [
    {
     "data": {
      "text/plain": [
       "array([0.22872979, 0.08001392, 0.02013242, 0.09670179, 0.01773409,\n",
       "       0.00232097, 0.05431874, 0.        , 0.03182833, 0.02038089,\n",
       "       0.02607722, 0.01419765, 0.12055467, 0.03951155, 0.24749798])"
      ]
     },
     "execution_count": 80,
     "metadata": {},
     "output_type": "execute_result"
    }
   ],
   "source": [
    "gs_rf.best_estimator_.feature_importances_"
   ]
  },
  {
   "cell_type": "code",
   "execution_count": 82,
   "metadata": {
    "hidden": true
   },
   "outputs": [],
   "source": [
    "results = pd.DataFrame(gs_rf.cv_results_)\n",
    "scores = np.array(results.mean_test_score).reshape(6,7)"
   ]
  },
  {
   "cell_type": "code",
   "execution_count": 83,
   "metadata": {
    "hidden": true
   },
   "outputs": [
    {
     "data": {
      "image/png": "[encoded data removed]",
      "text/plain": [
       "<Figure size 432x288 with 1 Axes>"
      ]
     },
     "metadata": {
      "needs_background": "light"
     },
     "output_type": "display_data"
    }
   ],
   "source": [
    "mglearn.tools.heatmap(scores, xlabel=\"n_est\", xticklabels=rf_grid[\"n_estimators\"], ylabel=\"max_depth\", yticklabels=rf_grid[\"max_depth\"],fmt='%0.3f')\n",
    "plt.show()"
   ]
  },
  {
   "cell_type": "code",
   "execution_count": 84,
   "metadata": {
    "hidden": true
   },
   "outputs": [],
   "source": [
    "feature_importances = pd.DataFrame(gs_rf.best_estimator_.feature_importances_,\n",
    "                                  index=x_train.columns,\n",
    "                                  columns=[\"importance\"]).sort_values(\"importance\", ascending=False)"
   ]
  },
  {
   "cell_type": "code",
   "execution_count": 85,
   "metadata": {
    "hidden": true
   },
   "outputs": [
    {
     "data": {
      "image/png": "[encoded data removed]",
      "text/plain": [
       "<Figure size 432x288 with 1 Axes>"
      ]
     },
     "metadata": {
      "needs_background": "light"
     },
     "output_type": "display_data"
    }
   ],
   "source": [
    "feature_importances.plot.barh()\n",
    "plt.show()"
   ]
  },
  {
   "cell_type": "markdown",
   "metadata": {
    "heading_collapsed": true,
    "hidden": true
   },
   "source": [
    "## XGBoost Forest"
   ]
  },
  {
   "cell_type": "code",
   "execution_count": 86,
   "metadata": {
    "hidden": true
   },
   "outputs": [
    {
     "name": "stderr",
     "output_type": "stream",
     "text": [
      "/Users/antoine/Documents/Tests/python/ML/venv3/lib/python3.7/site-packages/sklearn/preprocessing/label.py:219: DataConversionWarning: A column-vector y was passed when a 1d array was expected. Please change the shape of y to (n_samples, ), for example using ravel().\n",
      "  y = column_or_1d(y, warn=True)\n",
      "/Users/antoine/Documents/Tests/python/ML/venv3/lib/python3.7/site-packages/sklearn/preprocessing/label.py:252: DataConversionWarning: A column-vector y was passed when a 1d array was expected. Please change the shape of y to (n_samples, ), for example using ravel().\n",
      "  y = column_or_1d(y, warn=True)\n"
     ]
    },
    {
     "data": {
      "text/plain": [
       "GridSearchCV(cv='warn', error_score='raise-deprecating',\n",
       "             estimator=XGBClassifier(base_score=0.5, booster='gbtree',\n",
       "                                     colsample_bylevel=1, colsample_bynode=1,\n",
       "                                     colsample_bytree=1, gamma=0,\n",
       "                                     learning_rate=0.1, max_delta_step=0,\n",
       "                                     max_depth=3, min_child_weight=1,\n",
       "                                     missing=None, n_estimators=100, n_jobs=1,\n",
       "                                     nthread=None, objective='binary:logistic',\n",
       "                                     random_state=0, reg_alpha=0, reg_lambda=1,\n",
       "                                     scale_pos_weight=1, seed=None, silent=None,\n",
       "                                     subsample=1, verbosity=1),\n",
       "             iid='warn', n_jobs=None,\n",
       "             param_grid={'max_depth': [3, 4, 5, 6],\n",
       "                         'n_estimators': [100, 500, 1000, 5000]},\n",
       "             pre_dispatch='2*n_jobs', refit=True, return_train_score=False,\n",
       "             scoring=None, verbose=0)"
      ]
     },
     "execution_count": 86,
     "metadata": {},
     "output_type": "execute_result"
    }
   ],
   "source": [
    "#xgb_grid = {\"learning_rate\": [0.1, 0.01], \"n_estimators\": [100, 500, 1000,5000], \"max_depth\":[3,4,5, 6]}\n",
    "xgb_grid = {\"n_estimators\": [100, 500, 1000,5000], \"max_depth\":[3,4,5, 6]}\n",
    "xgb_gs = GridSearchCV(XGBClassifier(), xgb_grid)\n",
    "xgb_gs.fit(x_train, y_train)"
   ]
  },
  {
   "cell_type": "code",
   "execution_count": 87,
   "metadata": {
    "hidden": true
   },
   "outputs": [
    {
     "data": {
      "text/plain": [
       "{'max_depth': 4, 'n_estimators': 100}"
      ]
     },
     "execution_count": 87,
     "metadata": {},
     "output_type": "execute_result"
    }
   ],
   "source": [
    "xgb_gs.best_params_"
   ]
  },
  {
   "cell_type": "code",
   "execution_count": 88,
   "metadata": {
    "hidden": true
   },
   "outputs": [
    {
     "data": {
      "text/plain": [
       "(0.8248502994011976, 0.9146706586826348, 0.8565022421524664)"
      ]
     },
     "execution_count": 88,
     "metadata": {},
     "output_type": "execute_result"
    }
   ],
   "source": [
    "xgb_gs.best_score_, xgb_gs.score(x_train,y_train), xgb_gs.score(x_test, y_test)"
   ]
  },
  {
   "cell_type": "code",
   "execution_count": 89,
   "metadata": {
    "hidden": true
   },
   "outputs": [
    {
     "data": {
      "text/plain": [
       "array([0.47913808, 0.15656951, 0.04574495, 0.02186857, 0.        ,\n",
       "       0.        , 0.07700597, 0.        , 0.01591336, 0.        ,\n",
       "       0.1100264 , 0.01459543, 0.03089395, 0.04824371, 0.        ],\n",
       "      dtype=float32)"
      ]
     },
     "execution_count": 89,
     "metadata": {},
     "output_type": "execute_result"
    }
   ],
   "source": [
    "xgb_gs.best_estimator_.feature_importances_"
   ]
  },
  {
   "cell_type": "code",
   "execution_count": 90,
   "metadata": {
    "hidden": true
   },
   "outputs": [],
   "source": [
    "feature_importances = pd.DataFrame(xgb_gs.best_estimator_.feature_importances_,\n",
    "                                  index=x_train.columns,\n",
    "                                  columns=[\"importance\"]).sort_values(\"importance\", ascending=False)"
   ]
  },
  {
   "cell_type": "code",
   "execution_count": 91,
   "metadata": {
    "hidden": true
   },
   "outputs": [
    {
     "data": {
      "image/png": "[encoded data removed]",
      "text/plain": [
       "<Figure size 432x288 with 1 Axes>"
      ]
     },
     "metadata": {
      "needs_background": "light"
     },
     "output_type": "display_data"
    }
   ],
   "source": [
    "feature_importances.plot.barh()\n",
    "plt.show()"
   ]
  },
  {
   "cell_type": "code",
   "execution_count": 92,
   "metadata": {
    "hidden": true
   },
   "outputs": [
    {
     "data": {
      "image/png": "[encoded data removed]",
      "text/plain": [
       "<Figure size 432x288 with 1 Axes>"
      ]
     },
     "metadata": {
      "needs_background": "light"
     },
     "output_type": "display_data"
    }
   ],
   "source": [
    "results = pd.DataFrame(xgb_gs.cv_results_)\n",
    "scores = np.array(results.mean_test_score).reshape(4,4)\n",
    "mglearn.tools.heatmap(scores, xlabel='n_estimator', xticklabels=xgb_grid[\"n_estimators\"], ylabel=\"max_depth\",yticklabels=xgb_grid[\"max_depth\"], fmt='%0.3f')\n",
    "plt.show()"
   ]
  },
  {
   "cell_type": "markdown",
   "metadata": {},
   "source": [
    "# 4- Kaggle Test Data"
   ]
  },
  {
   "cell_type": "raw",
   "metadata": {},
   "source": [
    "Traitement to apply on test data:\n",
    "- add title column\n",
    "- get_dummies on Pclass, Sex and Embarked\n",
    "- check that all cat_dummies are present if not => 0 as boolean\n",
    "- Replace Nan of age by mean_age, Fare \n",
    "- keep best_rf_columns\n",
    "- Model need to be train over all my train data\n",
    "- predict data from test.csv\n",
    "- save result into csv format"
   ]
  },
  {
   "cell_type": "code",
   "execution_count": 101,
   "metadata": {},
   "outputs": [
    {
     "name": "stdout",
     "output_type": "stream",
     "text": [
      "README.md             gender_submission.csv titanic_train.ipynb\r\n",
      "\u001b[1m\u001b[36mcache\u001b[m\u001b[m                 test.csv              train.csv\r\n"
     ]
    }
   ],
   "source": [
    "!ls"
   ]
  },
  {
   "cell_type": "markdown",
   "metadata": {
    "heading_collapsed": true
   },
   "source": [
    "## Final XGBoost model"
   ]
  },
  {
   "cell_type": "code",
   "execution_count": 109,
   "metadata": {
    "hidden": true
   },
   "outputs": [],
   "source": [
    "kaggle_df = pd.read_csv(\"train.csv\")\n",
    "y_kaggle_df = kaggle_df[[\"Survived\"]]\n",
    "train_kaggle_df, mean_df_age, title_class_mean_age_dict, cat_col_dum, cols_to_use = prepare_data(kaggle_df, is_train_df=True )"
   ]
  },
  {
   "cell_type": "code",
   "execution_count": 110,
   "metadata": {
    "hidden": true
   },
   "outputs": [
    {
     "data": {
      "text/plain": [
       "array([0.47913808, 0.15656951, 0.04574495, 0.02186857, 0.        ,\n",
       "       0.        , 0.07700597, 0.        , 0.01591336, 0.        ,\n",
       "       0.1100264 , 0.01459543, 0.03089395, 0.04824371, 0.        ],\n",
       "      dtype=float32)"
      ]
     },
     "execution_count": 110,
     "metadata": {},
     "output_type": "execute_result"
    }
   ],
   "source": [
    "xgb_gs.best_estimator_.feature_importances_"
   ]
  },
  {
   "cell_type": "code",
   "execution_count": 111,
   "metadata": {
    "hidden": true
   },
   "outputs": [
    {
     "name": "stderr",
     "output_type": "stream",
     "text": [
      "/Users/antoine/Documents/Tests/python/ML/venv3/lib/python3.7/site-packages/sklearn/preprocessing/label.py:219: DataConversionWarning: A column-vector y was passed when a 1d array was expected. Please change the shape of y to (n_samples, ), for example using ravel().\n",
      "  y = column_or_1d(y, warn=True)\n",
      "/Users/antoine/Documents/Tests/python/ML/venv3/lib/python3.7/site-packages/sklearn/preprocessing/label.py:252: DataConversionWarning: A column-vector y was passed when a 1d array was expected. Please change the shape of y to (n_samples, ), for example using ravel().\n",
      "  y = column_or_1d(y, warn=True)\n"
     ]
    },
    {
     "data": {
      "text/plain": [
       "XGBClassifier(base_score=0.5, booster='gbtree', colsample_bylevel=1,\n",
       "              colsample_bynode=1, colsample_bytree=1, gamma=0,\n",
       "              learning_rate=0.1, max_delta_step=0, max_depth=4,\n",
       "              min_child_weight=1, missing=None, n_estimators=100, n_jobs=1,\n",
       "              nthread=None, objective='binary:logistic', random_state=0,\n",
       "              reg_alpha=0, reg_lambda=1, scale_pos_weight=1, seed=None,\n",
       "              silent=None, subsample=1, verbosity=1)"
      ]
     },
     "execution_count": 111,
     "metadata": {},
     "output_type": "execute_result"
    }
   ],
   "source": [
    "xgb_gs.best_estimator_.fit(train_kaggle_df,y_kaggle_df )"
   ]
  },
  {
   "cell_type": "code",
   "execution_count": 112,
   "metadata": {
    "hidden": true
   },
   "outputs": [
    {
     "data": {
      "text/plain": [
       "array([0.44317114, 0.20037015, 0.02447629, 0.01987714, 0.01726819,\n",
       "       0.        , 0.0513255 , 0.        , 0.00977498, 0.02851988,\n",
       "       0.09960765, 0.01503597, 0.02857517, 0.06199793, 0.        ],\n",
       "      dtype=float32)"
      ]
     },
     "execution_count": 112,
     "metadata": {},
     "output_type": "execute_result"
    }
   ],
   "source": [
    "xgb_gs.best_estimator_.feature_importances_"
   ]
  },
  {
   "cell_type": "code",
   "execution_count": 113,
   "metadata": {
    "hidden": true
   },
   "outputs": [],
   "source": [
    "test_kaggle_df = pd.read_csv(\"test.csv\")"
   ]
  },
  {
   "cell_type": "code",
   "execution_count": 114,
   "metadata": {
    "hidden": true
   },
   "outputs": [],
   "source": [
    "test_kaggle_prepared_df, mean_df_age, title_class_mean_age_dict, cat_col_dum, cols_to_use = prepare_data(test_kaggle_df,\n",
    "                                                                                                               False,\n",
    "                                                                                                               mean_df_age,\n",
    "                                                                                                               title_class_mean_age_dict,\n",
    "                                                                                                               cat_col_dum,\n",
    "                                                                                                               cols_to_use\n",
    "                                                                                                              )"
   ]
  },
  {
   "cell_type": "code",
   "execution_count": 115,
   "metadata": {
    "hidden": true
   },
   "outputs": [],
   "source": [
    "xgbs_result_df = pd.DataFrame({\"PassengerId\":test_kaggle_df.PassengerId.values,\n",
    "                          \"Survived\":xgb_gs.predict(test_kaggle_prepared_df)})"
   ]
  },
  {
   "cell_type": "code",
   "execution_count": 116,
   "metadata": {
    "hidden": true
   },
   "outputs": [
    {
     "data": {
      "text/plain": [
       "0    274\n",
       "1    144\n",
       "Name: Survived, dtype: int64"
      ]
     },
     "execution_count": 116,
     "metadata": {},
     "output_type": "execute_result"
    }
   ],
   "source": [
    "xgbs_result_df.Survived.value_counts()"
   ]
  },
  {
   "cell_type": "code",
   "execution_count": 117,
   "metadata": {
    "hidden": true
   },
   "outputs": [],
   "source": [
    "xgbs_result_df.to_csv(\"result_xgbs.csv\", index=False)"
   ]
  },
  {
   "cell_type": "raw",
   "metadata": {
    "hidden": true
   },
   "source": [
    "==> Kaggle submission result for result_xgbs.csv is 0.74641"
   ]
  },
  {
   "cell_type": "markdown",
   "metadata": {
    "heading_collapsed": true
   },
   "source": [
    "## Final model LinearSVC"
   ]
  },
  {
   "cell_type": "code",
   "execution_count": 119,
   "metadata": {
    "hidden": true
   },
   "outputs": [],
   "source": [
    "from sklearn.base import clone"
   ]
  },
  {
   "cell_type": "code",
   "execution_count": 120,
   "metadata": {
    "hidden": true
   },
   "outputs": [
    {
     "name": "stderr",
     "output_type": "stream",
     "text": [
      "/Users/antoine/Documents/Tests/python/ML/venv3/lib/python3.7/site-packages/sklearn/utils/validation.py:724: DataConversionWarning: A column-vector y was passed when a 1d array was expected. Please change the shape of y to (n_samples, ), for example using ravel().\n",
      "  y = column_or_1d(y, warn=True)\n"
     ]
    },
    {
     "data": {
      "text/plain": [
       "LinearSVC(C=1, class_weight=None, dual=False, fit_intercept=True,\n",
       "          intercept_scaling=1, loss='squared_hinge', max_iter=1000,\n",
       "          multi_class='ovr', penalty='l2', random_state=None, tol=0.0001,\n",
       "          verbose=0)"
      ]
     },
     "execution_count": 120,
     "metadata": {},
     "output_type": "execute_result"
    }
   ],
   "source": [
    "final_model1 = clone(gs_linSVC.best_estimator_)\n",
    "final_model1.fit(x_train, y_train)"
   ]
  },
  {
   "cell_type": "code",
   "execution_count": 123,
   "metadata": {
    "collapsed": true,
    "hidden": true
   },
   "outputs": [
    {
     "ename": "ValueError",
     "evalue": "Input contains NaN, infinity or a value too large for dtype('float64').",
     "output_type": "error",
     "traceback": [
      "\u001b[0;31m---------------------------------------------------------------------------\u001b[0m",
      "\u001b[0;31mValueError\u001b[0m                                Traceback (most recent call last)",
      "\u001b[0;32m<ipython-input-123-d1dbf865bbec>\u001b[0m in \u001b[0;36m<module>\u001b[0;34m\u001b[0m\n\u001b[1;32m      1\u001b[0m result1_df = pd.DataFrame({\"PassengerId\":test_kaggle_df.PassengerId.values,\n\u001b[0;32m----> 2\u001b[0;31m                           \"Survived\":final_model1.predict(test_kaggle_prepared_df)})\n\u001b[0m",
      "\u001b[0;32m~/Documents/Tests/python/ML/venv3/lib/python3.7/site-packages/sklearn/linear_model/base.py\u001b[0m in \u001b[0;36mpredict\u001b[0;34m(self, X)\u001b[0m\n\u001b[1;32m    287\u001b[0m             \u001b[0mPredicted\u001b[0m \u001b[0;32mclass\u001b[0m \u001b[0mlabel\u001b[0m \u001b[0mper\u001b[0m \u001b[0msample\u001b[0m\u001b[0;34m.\u001b[0m\u001b[0;34m\u001b[0m\u001b[0;34m\u001b[0m\u001b[0m\n\u001b[1;32m    288\u001b[0m         \"\"\"\n\u001b[0;32m--> 289\u001b[0;31m         \u001b[0mscores\u001b[0m \u001b[0;34m=\u001b[0m \u001b[0mself\u001b[0m\u001b[0;34m.\u001b[0m\u001b[0mdecision_function\u001b[0m\u001b[0;34m(\u001b[0m\u001b[0mX\u001b[0m\u001b[0;34m)\u001b[0m\u001b[0;34m\u001b[0m\u001b[0;34m\u001b[0m\u001b[0m\n\u001b[0m\u001b[1;32m    290\u001b[0m         \u001b[0;32mif\u001b[0m \u001b[0mlen\u001b[0m\u001b[0;34m(\u001b[0m\u001b[0mscores\u001b[0m\u001b[0;34m.\u001b[0m\u001b[0mshape\u001b[0m\u001b[0;34m)\u001b[0m \u001b[0;34m==\u001b[0m \u001b[0;36m1\u001b[0m\u001b[0;34m:\u001b[0m\u001b[0;34m\u001b[0m\u001b[0;34m\u001b[0m\u001b[0m\n\u001b[1;32m    291\u001b[0m             \u001b[0mindices\u001b[0m \u001b[0;34m=\u001b[0m \u001b[0;34m(\u001b[0m\u001b[0mscores\u001b[0m \u001b[0;34m>\u001b[0m \u001b[0;36m0\u001b[0m\u001b[0;34m)\u001b[0m\u001b[0;34m.\u001b[0m\u001b[0mastype\u001b[0m\u001b[0;34m(\u001b[0m\u001b[0mnp\u001b[0m\u001b[0;34m.\u001b[0m\u001b[0mint\u001b[0m\u001b[0;34m)\u001b[0m\u001b[0;34m\u001b[0m\u001b[0;34m\u001b[0m\u001b[0m\n",
      "\u001b[0;32m~/Documents/Tests/python/ML/venv3/lib/python3.7/site-packages/sklearn/linear_model/base.py\u001b[0m in \u001b[0;36mdecision_function\u001b[0;34m(self, X)\u001b[0m\n\u001b[1;32m    263\u001b[0m                                  \"yet\" % {'name': type(self).__name__})\n\u001b[1;32m    264\u001b[0m \u001b[0;34m\u001b[0m\u001b[0m\n\u001b[0;32m--> 265\u001b[0;31m         \u001b[0mX\u001b[0m \u001b[0;34m=\u001b[0m \u001b[0mcheck_array\u001b[0m\u001b[0;34m(\u001b[0m\u001b[0mX\u001b[0m\u001b[0;34m,\u001b[0m \u001b[0maccept_sparse\u001b[0m\u001b[0;34m=\u001b[0m\u001b[0;34m'csr'\u001b[0m\u001b[0;34m)\u001b[0m\u001b[0;34m\u001b[0m\u001b[0;34m\u001b[0m\u001b[0m\n\u001b[0m\u001b[1;32m    266\u001b[0m \u001b[0;34m\u001b[0m\u001b[0m\n\u001b[1;32m    267\u001b[0m         \u001b[0mn_features\u001b[0m \u001b[0;34m=\u001b[0m \u001b[0mself\u001b[0m\u001b[0;34m.\u001b[0m\u001b[0mcoef_\u001b[0m\u001b[0;34m.\u001b[0m\u001b[0mshape\u001b[0m\u001b[0;34m[\u001b[0m\u001b[0;36m1\u001b[0m\u001b[0;34m]\u001b[0m\u001b[0;34m\u001b[0m\u001b[0;34m\u001b[0m\u001b[0m\n",
      "\u001b[0;32m~/Documents/Tests/python/ML/venv3/lib/python3.7/site-packages/sklearn/utils/validation.py\u001b[0m in \u001b[0;36mcheck_array\u001b[0;34m(array, accept_sparse, accept_large_sparse, dtype, order, copy, force_all_finite, ensure_2d, allow_nd, ensure_min_samples, ensure_min_features, warn_on_dtype, estimator)\u001b[0m\n\u001b[1;32m    540\u001b[0m         \u001b[0;32mif\u001b[0m \u001b[0mforce_all_finite\u001b[0m\u001b[0;34m:\u001b[0m\u001b[0;34m\u001b[0m\u001b[0;34m\u001b[0m\u001b[0m\n\u001b[1;32m    541\u001b[0m             _assert_all_finite(array,\n\u001b[0;32m--> 542\u001b[0;31m                                allow_nan=force_all_finite == 'allow-nan')\n\u001b[0m\u001b[1;32m    543\u001b[0m \u001b[0;34m\u001b[0m\u001b[0m\n\u001b[1;32m    544\u001b[0m     \u001b[0;32mif\u001b[0m \u001b[0mensure_min_samples\u001b[0m \u001b[0;34m>\u001b[0m \u001b[0;36m0\u001b[0m\u001b[0;34m:\u001b[0m\u001b[0;34m\u001b[0m\u001b[0;34m\u001b[0m\u001b[0m\n",
      "\u001b[0;32m~/Documents/Tests/python/ML/venv3/lib/python3.7/site-packages/sklearn/utils/validation.py\u001b[0m in \u001b[0;36m_assert_all_finite\u001b[0;34m(X, allow_nan)\u001b[0m\n\u001b[1;32m     54\u001b[0m                 not allow_nan and not np.isfinite(X).all()):\n\u001b[1;32m     55\u001b[0m             \u001b[0mtype_err\u001b[0m \u001b[0;34m=\u001b[0m \u001b[0;34m'infinity'\u001b[0m \u001b[0;32mif\u001b[0m \u001b[0mallow_nan\u001b[0m \u001b[0;32melse\u001b[0m \u001b[0;34m'NaN, infinity'\u001b[0m\u001b[0;34m\u001b[0m\u001b[0;34m\u001b[0m\u001b[0m\n\u001b[0;32m---> 56\u001b[0;31m             \u001b[0;32mraise\u001b[0m \u001b[0mValueError\u001b[0m\u001b[0;34m(\u001b[0m\u001b[0mmsg_err\u001b[0m\u001b[0;34m.\u001b[0m\u001b[0mformat\u001b[0m\u001b[0;34m(\u001b[0m\u001b[0mtype_err\u001b[0m\u001b[0;34m,\u001b[0m \u001b[0mX\u001b[0m\u001b[0;34m.\u001b[0m\u001b[0mdtype\u001b[0m\u001b[0;34m)\u001b[0m\u001b[0;34m)\u001b[0m\u001b[0;34m\u001b[0m\u001b[0;34m\u001b[0m\u001b[0m\n\u001b[0m\u001b[1;32m     57\u001b[0m     \u001b[0;31m# for object dtype data, we only check for NaNs (GH-13254)\u001b[0m\u001b[0;34m\u001b[0m\u001b[0;34m\u001b[0m\u001b[0;34m\u001b[0m\u001b[0m\n\u001b[1;32m     58\u001b[0m     \u001b[0;32melif\u001b[0m \u001b[0mX\u001b[0m\u001b[0;34m.\u001b[0m\u001b[0mdtype\u001b[0m \u001b[0;34m==\u001b[0m \u001b[0mnp\u001b[0m\u001b[0;34m.\u001b[0m\u001b[0mdtype\u001b[0m\u001b[0;34m(\u001b[0m\u001b[0;34m'object'\u001b[0m\u001b[0;34m)\u001b[0m \u001b[0;32mand\u001b[0m \u001b[0;32mnot\u001b[0m \u001b[0mallow_nan\u001b[0m\u001b[0;34m:\u001b[0m\u001b[0;34m\u001b[0m\u001b[0;34m\u001b[0m\u001b[0m\n",
      "\u001b[0;31mValueError\u001b[0m: Input contains NaN, infinity or a value too large for dtype('float64')."
     ]
    }
   ],
   "source": [
    "result1_df = pd.DataFrame({\"PassengerId\":test_df.PassengerId.values,\n",
    "                          \"Survived\":final_model1.predict(test_kaggle_df)})"
   ]
  },
  {
   "cell_type": "code",
   "execution_count": 334,
   "metadata": {
    "hidden": true
   },
   "outputs": [
    {
     "data": {
      "text/html": [
       "<div>\n",
       "<style scoped>\n",
       "    .dataframe tbody tr th:only-of-type {\n",
       "        vertical-align: middle;\n",
       "    }\n",
       "\n",
       "    .dataframe tbody tr th {\n",
       "        vertical-align: top;\n",
       "    }\n",
       "\n",
       "    .dataframe thead th {\n",
       "        text-align: right;\n",
       "    }\n",
       "</style>\n",
       "<table border=\"1\" class=\"dataframe\">\n",
       "  <thead>\n",
       "    <tr style=\"text-align: right;\">\n",
       "      <th></th>\n",
       "      <th>PassengerId</th>\n",
       "      <th>Survived</th>\n",
       "    </tr>\n",
       "  </thead>\n",
       "  <tbody>\n",
       "    <tr>\n",
       "      <td>415</td>\n",
       "      <td>1307</td>\n",
       "      <td>0</td>\n",
       "    </tr>\n",
       "    <tr>\n",
       "      <td>416</td>\n",
       "      <td>1308</td>\n",
       "      <td>0</td>\n",
       "    </tr>\n",
       "    <tr>\n",
       "      <td>417</td>\n",
       "      <td>1309</td>\n",
       "      <td>0</td>\n",
       "    </tr>\n",
       "  </tbody>\n",
       "</table>\n",
       "</div>"
      ],
      "text/plain": [
       "     PassengerId  Survived\n",
       "415         1307         0\n",
       "416         1308         0\n",
       "417         1309         0"
      ]
     },
     "execution_count": 334,
     "metadata": {},
     "output_type": "execute_result"
    }
   ],
   "source": [
    "result1_df.tail(3)"
   ]
  },
  {
   "cell_type": "code",
   "execution_count": 335,
   "metadata": {
    "hidden": true
   },
   "outputs": [],
   "source": [
    "result1_df.to_csv(\"result4.csv\", index=False)"
   ]
  },
  {
   "cell_type": "code",
   "execution_count": null,
   "metadata": {
    "hidden": true
   },
   "outputs": [],
   "source": [
    "#=> 0.78947"
   ]
  },
  {
   "cell_type": "markdown",
   "metadata": {
    "heading_collapsed": true
   },
   "source": [
    "## Final model Random Forest"
   ]
  },
  {
   "cell_type": "code",
   "execution_count": 124,
   "metadata": {
    "hidden": true
   },
   "outputs": [],
   "source": [
    "final_model = RandomForestClassifier(n_estimators=20, max_depth=6)"
   ]
  },
  {
   "cell_type": "code",
   "execution_count": 125,
   "metadata": {
    "hidden": true
   },
   "outputs": [
    {
     "data": {
      "text/plain": [
       "RandomForestClassifier(bootstrap=True, class_weight=None, criterion='gini',\n",
       "                       max_depth=6, max_features='auto', max_leaf_nodes=None,\n",
       "                       min_impurity_decrease=0.0, min_impurity_split=None,\n",
       "                       min_samples_leaf=1, min_samples_split=2,\n",
       "                       min_weight_fraction_leaf=0.0, n_estimators=20,\n",
       "                       n_jobs=None, oob_score=False, random_state=None,\n",
       "                       verbose=0, warm_start=False)"
      ]
     },
     "execution_count": 125,
     "metadata": {},
     "output_type": "execute_result"
    }
   ],
   "source": [
    "final_model.fit(selected_col_df,y.Survived.values)"
   ]
  },
  {
   "cell_type": "code",
   "execution_count": 126,
   "metadata": {
    "hidden": true
   },
   "outputs": [
    {
     "data": {
      "text/plain": [
       "0.8641975308641975"
      ]
     },
     "execution_count": 126,
     "metadata": {},
     "output_type": "execute_result"
    }
   ],
   "source": [
    "final_model.score(selected_col_df,y.Survived.values)"
   ]
  },
  {
   "cell_type": "code",
   "execution_count": 127,
   "metadata": {
    "hidden": true
   },
   "outputs": [
    {
     "data": {
      "text/plain": [
       "array([0.81144781, 0.83838384, 0.82154882])"
      ]
     },
     "execution_count": 127,
     "metadata": {},
     "output_type": "execute_result"
    }
   ],
   "source": [
    "from sklearn.model_selection import cross_val_score\n",
    "cross_val_score(final_model, selected_col_df,y.Survived.values )"
   ]
  }
 ],
 "metadata": {
  "kernelspec": {
   "display_name": "Python 3",
   "language": "python",
   "name": "python3"
  },
  "language_info": {
   "codemirror_mode": {
    "name": "ipython",
    "version": 3
   },
   "file_extension": ".py",
   "mimetype": "text/x-python",
   "name": "python",
   "nbconvert_exporter": "python",
   "pygments_lexer": "ipython3",
   "version": "3.7.3"
  }
 },
 "nbformat": 4,
 "nbformat_minor": 2
}
